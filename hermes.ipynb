{
 "cells": [
  {
   "cell_type": "code",
   "execution_count": 1,
   "metadata": {},
   "outputs": [],
   "source": [
    "import datetime\n",
    "import urllib.request\n",
    "import os, errno\n",
    "import zipfile as zp\n",
    "import os, errno\n",
    "import datetime as dt\n",
    "import pandas as pd\n",
    "import os, errno\n",
    "import numpy as np\n",
    "import matplotlib.pyplot as plt\n",
    "import plotly.graph_objs as go\n",
    "import plotly.offline as pyo"
   ]
  },
  {
   "cell_type": "code",
   "execution_count": 2,
   "metadata": {},
   "outputs": [],
   "source": [
    "current_path = os.getcwd()\n",
    "try:\n",
    "    os.makedirs(f'{current_path}/csv/')\n",
    "except OSError as e:\n",
    "    if e.errno != errno.EEXIST:\n",
    "        raise"
   ]
  },
  {
   "cell_type": "code",
   "execution_count": null,
   "metadata": {},
   "outputs": [],
   "source": [
    "# making download since 2013 for actual date\n",
    "for year in range(2013, datetime.datetime.now().year + 1):\n",
    "    if not os.path.exists(f'{current_path}/csv/{year}.zip'):\n",
    "        url = f'http://www.portaltransparencia.gov.br/download-de-dados/viagens/{year}'\n",
    "        urllib.request.urlretrieve(url, f'{current_path}/csv/{year}')\n",
    "        print(f'Downloading for {year} was complete with success.')"
   ]
  },
  {
   "cell_type": "code",
   "execution_count": null,
   "metadata": {},
   "outputs": [],
   "source": [
    "# extract and remove zip file\n",
    "for year in range(2013, dt.datetime.now().year + 1):\n",
    "    print(f'unzip {year} file.')\n",
    "    with zp.ZipFile(f'{current_path}/csv/{year}', 'r') as zip_ref:\n",
    "        zip_ref.extractall(f'{current_path}/csv/{year}_extract')\n",
    "        print(f'unzip {year} was successful.')\n",
    "        os.remove(f'{current_path}/csv/{year}')"
   ]
  },
  {
   "cell_type": "code",
   "execution_count": 3,
   "metadata": {
    "scrolled": false
   },
   "outputs": [
    {
     "data": {
      "text/html": [
       "<div>\n",
       "<style scoped>\n",
       "    .dataframe tbody tr th:only-of-type {\n",
       "        vertical-align: middle;\n",
       "    }\n",
       "\n",
       "    .dataframe tbody tr th {\n",
       "        vertical-align: top;\n",
       "    }\n",
       "\n",
       "    .dataframe thead th {\n",
       "        text-align: right;\n",
       "    }\n",
       "</style>\n",
       "<table border=\"1\" class=\"dataframe\">\n",
       "  <thead>\n",
       "    <tr style=\"text-align: right;\">\n",
       "      <th></th>\n",
       "      <th>Identificador do processo de viagem</th>\n",
       "      <th>Meio de transporte</th>\n",
       "      <th>País - Origem ida</th>\n",
       "      <th>UF - Origem ida</th>\n",
       "      <th>Cidade - Origem ida</th>\n",
       "      <th>País - Destino ida</th>\n",
       "      <th>UF - Destino ida</th>\n",
       "      <th>Cidade - Destino ida</th>\n",
       "      <th>País - Origem volta</th>\n",
       "      <th>UF - Origem volta</th>\n",
       "      <th>Cidade - Origem volta</th>\n",
       "      <th>Pais - Destino volta</th>\n",
       "      <th>UF - Destino volta</th>\n",
       "      <th>Cidade - Destino volta</th>\n",
       "      <th>Valor da passagem</th>\n",
       "      <th>Taxa de serviço</th>\n",
       "    </tr>\n",
       "  </thead>\n",
       "  <tbody>\n",
       "    <tr>\n",
       "      <td>0</td>\n",
       "      <td>10011602</td>\n",
       "      <td>Aéreo</td>\n",
       "      <td>Brasil</td>\n",
       "      <td>Distrito Federal</td>\n",
       "      <td>Brasília</td>\n",
       "      <td>Brasil</td>\n",
       "      <td>Rio de Janeiro</td>\n",
       "      <td>Rio de Janeiro</td>\n",
       "      <td>Sem Informação</td>\n",
       "      <td>Sem Informação</td>\n",
       "      <td>Sem Informação</td>\n",
       "      <td>Sem Informação</td>\n",
       "      <td>Sem Informação</td>\n",
       "      <td>Sem Informação</td>\n",
       "      <td>570,45</td>\n",
       "      <td>,00</td>\n",
       "    </tr>\n",
       "    <tr>\n",
       "      <td>1</td>\n",
       "      <td>10011602</td>\n",
       "      <td>Aéreo</td>\n",
       "      <td>Brasil</td>\n",
       "      <td>Rio de Janeiro</td>\n",
       "      <td>Rio de Janeiro</td>\n",
       "      <td>Brasil</td>\n",
       "      <td>Distrito Federal</td>\n",
       "      <td>Brasília</td>\n",
       "      <td>Sem Informação</td>\n",
       "      <td>Sem Informação</td>\n",
       "      <td>Sem Informação</td>\n",
       "      <td>Sem Informação</td>\n",
       "      <td>Sem Informação</td>\n",
       "      <td>Sem Informação</td>\n",
       "      <td>602,47</td>\n",
       "      <td>,00</td>\n",
       "    </tr>\n",
       "    <tr>\n",
       "      <td>2</td>\n",
       "      <td>10011617</td>\n",
       "      <td>Aéreo</td>\n",
       "      <td>Brasil</td>\n",
       "      <td>Rio de Janeiro</td>\n",
       "      <td>Rio de Janeiro</td>\n",
       "      <td>Brasil</td>\n",
       "      <td>São Paulo</td>\n",
       "      <td>Presidente Prudente</td>\n",
       "      <td>Sem Informação</td>\n",
       "      <td>Sem Informação</td>\n",
       "      <td>Sem Informação</td>\n",
       "      <td>Sem Informação</td>\n",
       "      <td>Sem Informação</td>\n",
       "      <td>Sem Informação</td>\n",
       "      <td>941,47</td>\n",
       "      <td>,00</td>\n",
       "    </tr>\n",
       "    <tr>\n",
       "      <td>3</td>\n",
       "      <td>10011617</td>\n",
       "      <td>Aéreo</td>\n",
       "      <td>Brasil</td>\n",
       "      <td>São Paulo</td>\n",
       "      <td>Presidente Prudente</td>\n",
       "      <td>Brasil</td>\n",
       "      <td>Rio de Janeiro</td>\n",
       "      <td>Rio de Janeiro</td>\n",
       "      <td>Sem Informação</td>\n",
       "      <td>Sem Informação</td>\n",
       "      <td>Sem Informação</td>\n",
       "      <td>Sem Informação</td>\n",
       "      <td>Sem Informação</td>\n",
       "      <td>Sem Informação</td>\n",
       "      <td>980,94</td>\n",
       "      <td>,00</td>\n",
       "    </tr>\n",
       "    <tr>\n",
       "      <td>4</td>\n",
       "      <td>10011618</td>\n",
       "      <td>Aéreo</td>\n",
       "      <td>Brasil</td>\n",
       "      <td>Pará</td>\n",
       "      <td>Belém</td>\n",
       "      <td>Brasil</td>\n",
       "      <td>Distrito Federal</td>\n",
       "      <td>Brasília</td>\n",
       "      <td>Sem Informação</td>\n",
       "      <td>Sem Informação</td>\n",
       "      <td>Sem Informação</td>\n",
       "      <td>Sem Informação</td>\n",
       "      <td>Sem Informação</td>\n",
       "      <td>Sem Informação</td>\n",
       "      <td>885,57</td>\n",
       "      <td>,00</td>\n",
       "    </tr>\n",
       "  </tbody>\n",
       "</table>\n",
       "</div>"
      ],
      "text/plain": [
       "   Identificador do processo de viagem Meio de transporte País - Origem ida  \\\n",
       "0                             10011602              Aéreo            Brasil   \n",
       "1                             10011602              Aéreo            Brasil   \n",
       "2                             10011617              Aéreo            Brasil   \n",
       "3                             10011617              Aéreo            Brasil   \n",
       "4                             10011618              Aéreo            Brasil   \n",
       "\n",
       "    UF - Origem ida  Cidade - Origem ida País - Destino ida  UF - Destino ida  \\\n",
       "0  Distrito Federal             Brasília             Brasil    Rio de Janeiro   \n",
       "1    Rio de Janeiro       Rio de Janeiro             Brasil  Distrito Federal   \n",
       "2    Rio de Janeiro       Rio de Janeiro             Brasil         São Paulo   \n",
       "3         São Paulo  Presidente Prudente             Brasil    Rio de Janeiro   \n",
       "4              Pará                Belém             Brasil  Distrito Federal   \n",
       "\n",
       "  Cidade - Destino ida País - Origem volta UF - Origem volta  \\\n",
       "0       Rio de Janeiro      Sem Informação    Sem Informação   \n",
       "1             Brasília      Sem Informação    Sem Informação   \n",
       "2  Presidente Prudente      Sem Informação    Sem Informação   \n",
       "3       Rio de Janeiro      Sem Informação    Sem Informação   \n",
       "4             Brasília      Sem Informação    Sem Informação   \n",
       "\n",
       "  Cidade - Origem volta Pais - Destino volta UF - Destino volta  \\\n",
       "0        Sem Informação       Sem Informação     Sem Informação   \n",
       "1        Sem Informação       Sem Informação     Sem Informação   \n",
       "2        Sem Informação       Sem Informação     Sem Informação   \n",
       "3        Sem Informação       Sem Informação     Sem Informação   \n",
       "4        Sem Informação       Sem Informação     Sem Informação   \n",
       "\n",
       "  Cidade - Destino volta Valor da passagem Taxa de serviço  \n",
       "0         Sem Informação            570,45             ,00  \n",
       "1         Sem Informação            602,47             ,00  \n",
       "2         Sem Informação            941,47             ,00  \n",
       "3         Sem Informação            980,94             ,00  \n",
       "4         Sem Informação            885,57             ,00  "
      ]
     },
     "execution_count": 3,
     "metadata": {},
     "output_type": "execute_result"
    }
   ],
   "source": [
    "passages_df = pd.read_csv(f'{current_path}/csv/2014_extract/2014_Passagem.csv', sep=';', encoding = \"ISO-8859-1\")\n",
    "passages_df.head()"
   ]
  },
  {
   "cell_type": "code",
   "execution_count": 4,
   "metadata": {
    "scrolled": false
   },
   "outputs": [
    {
     "name": "stdout",
     "output_type": "stream",
     "text": [
      "Total Records: 734834, Total columns: 16\n"
     ]
    },
    {
     "data": {
      "text/html": [
       "<div>\n",
       "<style scoped>\n",
       "    .dataframe tbody tr th:only-of-type {\n",
       "        vertical-align: middle;\n",
       "    }\n",
       "\n",
       "    .dataframe tbody tr th {\n",
       "        vertical-align: top;\n",
       "    }\n",
       "\n",
       "    .dataframe thead th {\n",
       "        text-align: right;\n",
       "    }\n",
       "</style>\n",
       "<table border=\"1\" class=\"dataframe\">\n",
       "  <thead>\n",
       "    <tr style=\"text-align: right;\">\n",
       "      <th></th>\n",
       "      <th>PassageId</th>\n",
       "      <th>MeanOfTransportOneWay</th>\n",
       "      <th>CountryOriginOneWay</th>\n",
       "      <th>DistrictOriginOneWay</th>\n",
       "      <th>CityOriginOneWay</th>\n",
       "      <th>CountryDestinyOneWay</th>\n",
       "      <th>DistrictDestinyOneWay</th>\n",
       "      <th>CityDestinyOneWay</th>\n",
       "      <th>CountryOriginReturn</th>\n",
       "      <th>DistrictOriginReturn</th>\n",
       "      <th>CityOriginReturn</th>\n",
       "      <th>CountryDestinyReturn</th>\n",
       "      <th>DistrictDestinyReturn</th>\n",
       "      <th>CityDestinyReturn</th>\n",
       "      <th>TicketValue</th>\n",
       "      <th>ValueOfFare</th>\n",
       "    </tr>\n",
       "  </thead>\n",
       "  <tbody>\n",
       "    <tr>\n",
       "      <td>Column type</td>\n",
       "      <td>int64</td>\n",
       "      <td>object</td>\n",
       "      <td>object</td>\n",
       "      <td>object</td>\n",
       "      <td>object</td>\n",
       "      <td>object</td>\n",
       "      <td>object</td>\n",
       "      <td>object</td>\n",
       "      <td>object</td>\n",
       "      <td>object</td>\n",
       "      <td>object</td>\n",
       "      <td>object</td>\n",
       "      <td>object</td>\n",
       "      <td>object</td>\n",
       "      <td>object</td>\n",
       "      <td>object</td>\n",
       "    </tr>\n",
       "    <tr>\n",
       "      <td>Null Values</td>\n",
       "      <td>0</td>\n",
       "      <td>0</td>\n",
       "      <td>0</td>\n",
       "      <td>15499</td>\n",
       "      <td>0</td>\n",
       "      <td>0</td>\n",
       "      <td>14893</td>\n",
       "      <td>0</td>\n",
       "      <td>0</td>\n",
       "      <td>0</td>\n",
       "      <td>0</td>\n",
       "      <td>0</td>\n",
       "      <td>0</td>\n",
       "      <td>0</td>\n",
       "      <td>0</td>\n",
       "      <td>0</td>\n",
       "    </tr>\n",
       "    <tr>\n",
       "      <td>Null Values (%)</td>\n",
       "      <td>0</td>\n",
       "      <td>0</td>\n",
       "      <td>0</td>\n",
       "      <td>2.11</td>\n",
       "      <td>0</td>\n",
       "      <td>0</td>\n",
       "      <td>2.03</td>\n",
       "      <td>0</td>\n",
       "      <td>0</td>\n",
       "      <td>0</td>\n",
       "      <td>0</td>\n",
       "      <td>0</td>\n",
       "      <td>0</td>\n",
       "      <td>0</td>\n",
       "      <td>0</td>\n",
       "      <td>0</td>\n",
       "    </tr>\n",
       "  </tbody>\n",
       "</table>\n",
       "</div>"
      ],
      "text/plain": [
       "                PassageId MeanOfTransportOneWay CountryOriginOneWay  \\\n",
       "Column type         int64                object              object   \n",
       "Null Values             0                     0                   0   \n",
       "Null Values (%)         0                     0                   0   \n",
       "\n",
       "                DistrictOriginOneWay CityOriginOneWay CountryDestinyOneWay  \\\n",
       "Column type                   object           object               object   \n",
       "Null Values                    15499                0                    0   \n",
       "Null Values (%)                 2.11                0                    0   \n",
       "\n",
       "                DistrictDestinyOneWay CityDestinyOneWay CountryOriginReturn  \\\n",
       "Column type                    object            object              object   \n",
       "Null Values                     14893                 0                   0   \n",
       "Null Values (%)                  2.03                 0                   0   \n",
       "\n",
       "                DistrictOriginReturn CityOriginReturn CountryDestinyReturn  \\\n",
       "Column type                   object           object               object   \n",
       "Null Values                        0                0                    0   \n",
       "Null Values (%)                    0                0                    0   \n",
       "\n",
       "                DistrictDestinyReturn CityDestinyReturn TicketValue  \\\n",
       "Column type                    object            object      object   \n",
       "Null Values                         0                 0           0   \n",
       "Null Values (%)                     0                 0           0   \n",
       "\n",
       "                ValueOfFare  \n",
       "Column type          object  \n",
       "Null Values               0  \n",
       "Null Values (%)           0  "
      ]
     },
     "execution_count": 4,
     "metadata": {},
     "output_type": "execute_result"
    }
   ],
   "source": [
    "passages_df.columns = [\n",
    "                        'PassageId', 'MeanOfTransportOneWay', 'CountryOriginOneWay', 'DistrictOriginOneWay', \n",
    "                        'CityOriginOneWay', 'CountryDestinyOneWay', 'DistrictDestinyOneWay', 'CityDestinyOneWay',\n",
    "                        'CountryOriginReturn', 'DistrictOriginReturn', 'CityOriginReturn', 'CountryDestinyReturn',\n",
    "                        'DistrictDestinyReturn', 'CityDestinyReturn', 'TicketValue', 'ValueOfFare']\n",
    "\n",
    "total_null = passages_df.isnull().sum()\n",
    "total_records = passages_df.shape[0]\n",
    "\n",
    "print(f'Total Records: {total_records}, Total columns: {passages_df.shape[1]}')\n",
    "\n",
    "passages_info = pd.DataFrame(passages_df.dtypes).T.rename(index={0:'Column type'})\n",
    "passages_info = passages_info.append(pd.DataFrame(total_null).T.rename(index={0: 'Null Values'}))\n",
    "passages_info = passages_info.append(pd.DataFrame(round(total_null/total_records * 100, 2)).T.rename(index={0: 'Null Values (%)'}))\n",
    "\n",
    "passages_info"
   ]
  },
  {
   "cell_type": "code",
   "execution_count": 5,
   "metadata": {},
   "outputs": [
    {
     "data": {
      "text/html": [
       "<div>\n",
       "<style scoped>\n",
       "    .dataframe tbody tr th:only-of-type {\n",
       "        vertical-align: middle;\n",
       "    }\n",
       "\n",
       "    .dataframe tbody tr th {\n",
       "        vertical-align: top;\n",
       "    }\n",
       "\n",
       "    .dataframe thead th {\n",
       "        text-align: right;\n",
       "    }\n",
       "</style>\n",
       "<table border=\"1\" class=\"dataframe\">\n",
       "  <thead>\n",
       "    <tr style=\"text-align: right;\">\n",
       "      <th></th>\n",
       "      <th>PassageId</th>\n",
       "      <th>MeanOfTransportOneWay</th>\n",
       "      <th>CountryOriginOneWay</th>\n",
       "      <th>DistrictOriginOneWay</th>\n",
       "      <th>CityOriginOneWay</th>\n",
       "      <th>CountryDestinyOneWay</th>\n",
       "      <th>DistrictDestinyOneWay</th>\n",
       "      <th>CityDestinyOneWay</th>\n",
       "      <th>CountryOriginReturn</th>\n",
       "      <th>DistrictOriginReturn</th>\n",
       "      <th>CityOriginReturn</th>\n",
       "      <th>CountryDestinyReturn</th>\n",
       "      <th>DistrictDestinyReturn</th>\n",
       "      <th>CityDestinyReturn</th>\n",
       "      <th>TicketValue</th>\n",
       "      <th>ValueOfFare</th>\n",
       "    </tr>\n",
       "  </thead>\n",
       "  <tbody>\n",
       "    <tr>\n",
       "      <td>0</td>\n",
       "      <td>10011602</td>\n",
       "      <td>Aéreo</td>\n",
       "      <td>Brasil</td>\n",
       "      <td>Distrito Federal</td>\n",
       "      <td>Brasília</td>\n",
       "      <td>Brasil</td>\n",
       "      <td>Rio de Janeiro</td>\n",
       "      <td>Rio de Janeiro</td>\n",
       "      <td>Sem Informação</td>\n",
       "      <td>Sem Informação</td>\n",
       "      <td>Sem Informação</td>\n",
       "      <td>Sem Informação</td>\n",
       "      <td>Sem Informação</td>\n",
       "      <td>Sem Informação</td>\n",
       "      <td>570,45</td>\n",
       "      <td>,00</td>\n",
       "    </tr>\n",
       "    <tr>\n",
       "      <td>1</td>\n",
       "      <td>10011602</td>\n",
       "      <td>Aéreo</td>\n",
       "      <td>Brasil</td>\n",
       "      <td>Rio de Janeiro</td>\n",
       "      <td>Rio de Janeiro</td>\n",
       "      <td>Brasil</td>\n",
       "      <td>Distrito Federal</td>\n",
       "      <td>Brasília</td>\n",
       "      <td>Sem Informação</td>\n",
       "      <td>Sem Informação</td>\n",
       "      <td>Sem Informação</td>\n",
       "      <td>Sem Informação</td>\n",
       "      <td>Sem Informação</td>\n",
       "      <td>Sem Informação</td>\n",
       "      <td>602,47</td>\n",
       "      <td>,00</td>\n",
       "    </tr>\n",
       "    <tr>\n",
       "      <td>2</td>\n",
       "      <td>10011617</td>\n",
       "      <td>Aéreo</td>\n",
       "      <td>Brasil</td>\n",
       "      <td>Rio de Janeiro</td>\n",
       "      <td>Rio de Janeiro</td>\n",
       "      <td>Brasil</td>\n",
       "      <td>São Paulo</td>\n",
       "      <td>Presidente Prudente</td>\n",
       "      <td>Sem Informação</td>\n",
       "      <td>Sem Informação</td>\n",
       "      <td>Sem Informação</td>\n",
       "      <td>Sem Informação</td>\n",
       "      <td>Sem Informação</td>\n",
       "      <td>Sem Informação</td>\n",
       "      <td>941,47</td>\n",
       "      <td>,00</td>\n",
       "    </tr>\n",
       "    <tr>\n",
       "      <td>3</td>\n",
       "      <td>10011617</td>\n",
       "      <td>Aéreo</td>\n",
       "      <td>Brasil</td>\n",
       "      <td>São Paulo</td>\n",
       "      <td>Presidente Prudente</td>\n",
       "      <td>Brasil</td>\n",
       "      <td>Rio de Janeiro</td>\n",
       "      <td>Rio de Janeiro</td>\n",
       "      <td>Sem Informação</td>\n",
       "      <td>Sem Informação</td>\n",
       "      <td>Sem Informação</td>\n",
       "      <td>Sem Informação</td>\n",
       "      <td>Sem Informação</td>\n",
       "      <td>Sem Informação</td>\n",
       "      <td>980,94</td>\n",
       "      <td>,00</td>\n",
       "    </tr>\n",
       "    <tr>\n",
       "      <td>4</td>\n",
       "      <td>10011618</td>\n",
       "      <td>Aéreo</td>\n",
       "      <td>Brasil</td>\n",
       "      <td>Pará</td>\n",
       "      <td>Belém</td>\n",
       "      <td>Brasil</td>\n",
       "      <td>Distrito Federal</td>\n",
       "      <td>Brasília</td>\n",
       "      <td>Sem Informação</td>\n",
       "      <td>Sem Informação</td>\n",
       "      <td>Sem Informação</td>\n",
       "      <td>Sem Informação</td>\n",
       "      <td>Sem Informação</td>\n",
       "      <td>Sem Informação</td>\n",
       "      <td>885,57</td>\n",
       "      <td>,00</td>\n",
       "    </tr>\n",
       "  </tbody>\n",
       "</table>\n",
       "</div>"
      ],
      "text/plain": [
       "   PassageId MeanOfTransportOneWay CountryOriginOneWay DistrictOriginOneWay  \\\n",
       "0   10011602                 Aéreo              Brasil     Distrito Federal   \n",
       "1   10011602                 Aéreo              Brasil       Rio de Janeiro   \n",
       "2   10011617                 Aéreo              Brasil       Rio de Janeiro   \n",
       "3   10011617                 Aéreo              Brasil            São Paulo   \n",
       "4   10011618                 Aéreo              Brasil                 Pará   \n",
       "\n",
       "      CityOriginOneWay CountryDestinyOneWay DistrictDestinyOneWay  \\\n",
       "0             Brasília               Brasil        Rio de Janeiro   \n",
       "1       Rio de Janeiro               Brasil      Distrito Federal   \n",
       "2       Rio de Janeiro               Brasil             São Paulo   \n",
       "3  Presidente Prudente               Brasil        Rio de Janeiro   \n",
       "4                Belém               Brasil      Distrito Federal   \n",
       "\n",
       "     CityDestinyOneWay CountryOriginReturn DistrictOriginReturn  \\\n",
       "0       Rio de Janeiro      Sem Informação       Sem Informação   \n",
       "1             Brasília      Sem Informação       Sem Informação   \n",
       "2  Presidente Prudente      Sem Informação       Sem Informação   \n",
       "3       Rio de Janeiro      Sem Informação       Sem Informação   \n",
       "4             Brasília      Sem Informação       Sem Informação   \n",
       "\n",
       "  CityOriginReturn CountryDestinyReturn DistrictDestinyReturn  \\\n",
       "0   Sem Informação       Sem Informação        Sem Informação   \n",
       "1   Sem Informação       Sem Informação        Sem Informação   \n",
       "2   Sem Informação       Sem Informação        Sem Informação   \n",
       "3   Sem Informação       Sem Informação        Sem Informação   \n",
       "4   Sem Informação       Sem Informação        Sem Informação   \n",
       "\n",
       "  CityDestinyReturn TicketValue ValueOfFare  \n",
       "0    Sem Informação      570,45         ,00  \n",
       "1    Sem Informação      602,47         ,00  \n",
       "2    Sem Informação      941,47         ,00  \n",
       "3    Sem Informação      980,94         ,00  \n",
       "4    Sem Informação      885,57         ,00  "
      ]
     },
     "execution_count": 5,
     "metadata": {},
     "output_type": "execute_result"
    }
   ],
   "source": [
    "passages_df.head()"
   ]
  },
  {
   "cell_type": "code",
   "execution_count": 6,
   "metadata": {},
   "outputs": [
    {
     "name": "stderr",
     "output_type": "stream",
     "text": [
      "/home/dev/.local/lib/python3.6/site-packages/pandas/core/ops/__init__.py:1115: FutureWarning:\n",
      "\n",
      "elementwise comparison failed; returning scalar instead, but in the future will perform elementwise comparison\n",
      "\n"
     ]
    },
    {
     "data": {
      "text/plain": [
       "{'PassageId': 0,\n",
       " 'MeanOfTransportOneWay': 0,\n",
       " 'CountryOriginOneWay': 0,\n",
       " 'DistrictOriginOneWay': 0,\n",
       " 'CityOriginOneWay': 0,\n",
       " 'CountryDestinyOneWay': 0,\n",
       " 'DistrictDestinyOneWay': 0,\n",
       " 'CityDestinyOneWay': 0,\n",
       " 'CountryOriginReturn': 734834,\n",
       " 'DistrictOriginReturn': 734834,\n",
       " 'CityOriginReturn': 734834,\n",
       " 'CountryDestinyReturn': 734834,\n",
       " 'DistrictDestinyReturn': 734834,\n",
       " 'CityDestinyReturn': 734834,\n",
       " 'TicketValue': 0,\n",
       " 'ValueOfFare': 0}"
      ]
     },
     "execution_count": 6,
     "metadata": {},
     "output_type": "execute_result"
    }
   ],
   "source": [
    "passages_info2 = {}\n",
    "\n",
    "for column in passages_df:\n",
    "    passages_info2[column] = len(passages_df.loc[passages_df[column] == 'Sem Informação'])\n",
    "    \n",
    "passages_info2"
   ]
  },
  {
   "cell_type": "code",
   "execution_count": 7,
   "metadata": {},
   "outputs": [],
   "source": [
    "passages_df = passages_df.drop('PassageId', axis=1)\n",
    "passages_df = passages_df.drop('CountryOriginReturn', axis=1)\n",
    "passages_df = passages_df.drop('DistrictOriginReturn', axis=1)\n",
    "passages_df = passages_df.drop('CityOriginReturn', axis=1)\n",
    "passages_df = passages_df.drop('CountryDestinyReturn', axis=1)\n",
    "passages_df = passages_df.drop('CityDestinyReturn', axis=1)\n",
    "passages_df = passages_df.drop('DistrictDestinyReturn', axis=1)\n",
    "passages_df = passages_df.drop('ValueOfFare', axis=1)"
   ]
  },
  {
   "cell_type": "code",
   "execution_count": 8,
   "metadata": {},
   "outputs": [
    {
     "data": {
      "text/html": [
       "<div>\n",
       "<style scoped>\n",
       "    .dataframe tbody tr th:only-of-type {\n",
       "        vertical-align: middle;\n",
       "    }\n",
       "\n",
       "    .dataframe tbody tr th {\n",
       "        vertical-align: top;\n",
       "    }\n",
       "\n",
       "    .dataframe thead th {\n",
       "        text-align: right;\n",
       "    }\n",
       "</style>\n",
       "<table border=\"1\" class=\"dataframe\">\n",
       "  <thead>\n",
       "    <tr style=\"text-align: right;\">\n",
       "      <th></th>\n",
       "      <th>MeanOfTransportOneWay</th>\n",
       "      <th>CountryOriginOneWay</th>\n",
       "      <th>DistrictOriginOneWay</th>\n",
       "      <th>CityOriginOneWay</th>\n",
       "      <th>CountryDestinyOneWay</th>\n",
       "      <th>DistrictDestinyOneWay</th>\n",
       "      <th>CityDestinyOneWay</th>\n",
       "      <th>TicketValue</th>\n",
       "    </tr>\n",
       "  </thead>\n",
       "  <tbody>\n",
       "    <tr>\n",
       "      <td>0</td>\n",
       "      <td>Aéreo</td>\n",
       "      <td>Brasil</td>\n",
       "      <td>Distrito Federal</td>\n",
       "      <td>Brasília</td>\n",
       "      <td>Brasil</td>\n",
       "      <td>Rio de Janeiro</td>\n",
       "      <td>Rio de Janeiro</td>\n",
       "      <td>570.45</td>\n",
       "    </tr>\n",
       "    <tr>\n",
       "      <td>1</td>\n",
       "      <td>Aéreo</td>\n",
       "      <td>Brasil</td>\n",
       "      <td>Rio de Janeiro</td>\n",
       "      <td>Rio de Janeiro</td>\n",
       "      <td>Brasil</td>\n",
       "      <td>Distrito Federal</td>\n",
       "      <td>Brasília</td>\n",
       "      <td>602.47</td>\n",
       "    </tr>\n",
       "    <tr>\n",
       "      <td>2</td>\n",
       "      <td>Aéreo</td>\n",
       "      <td>Brasil</td>\n",
       "      <td>Rio de Janeiro</td>\n",
       "      <td>Rio de Janeiro</td>\n",
       "      <td>Brasil</td>\n",
       "      <td>São Paulo</td>\n",
       "      <td>Presidente Prudente</td>\n",
       "      <td>941.47</td>\n",
       "    </tr>\n",
       "    <tr>\n",
       "      <td>3</td>\n",
       "      <td>Aéreo</td>\n",
       "      <td>Brasil</td>\n",
       "      <td>São Paulo</td>\n",
       "      <td>Presidente Prudente</td>\n",
       "      <td>Brasil</td>\n",
       "      <td>Rio de Janeiro</td>\n",
       "      <td>Rio de Janeiro</td>\n",
       "      <td>980.94</td>\n",
       "    </tr>\n",
       "    <tr>\n",
       "      <td>4</td>\n",
       "      <td>Aéreo</td>\n",
       "      <td>Brasil</td>\n",
       "      <td>Pará</td>\n",
       "      <td>Belém</td>\n",
       "      <td>Brasil</td>\n",
       "      <td>Distrito Federal</td>\n",
       "      <td>Brasília</td>\n",
       "      <td>885.57</td>\n",
       "    </tr>\n",
       "  </tbody>\n",
       "</table>\n",
       "</div>"
      ],
      "text/plain": [
       "  MeanOfTransportOneWay CountryOriginOneWay DistrictOriginOneWay  \\\n",
       "0                 Aéreo              Brasil     Distrito Federal   \n",
       "1                 Aéreo              Brasil       Rio de Janeiro   \n",
       "2                 Aéreo              Brasil       Rio de Janeiro   \n",
       "3                 Aéreo              Brasil            São Paulo   \n",
       "4                 Aéreo              Brasil                 Pará   \n",
       "\n",
       "      CityOriginOneWay CountryDestinyOneWay DistrictDestinyOneWay  \\\n",
       "0             Brasília               Brasil        Rio de Janeiro   \n",
       "1       Rio de Janeiro               Brasil      Distrito Federal   \n",
       "2       Rio de Janeiro               Brasil             São Paulo   \n",
       "3  Presidente Prudente               Brasil        Rio de Janeiro   \n",
       "4                Belém               Brasil      Distrito Federal   \n",
       "\n",
       "     CityDestinyOneWay TicketValue  \n",
       "0       Rio de Janeiro      570.45  \n",
       "1             Brasília      602.47  \n",
       "2  Presidente Prudente      941.47  \n",
       "3       Rio de Janeiro      980.94  \n",
       "4             Brasília      885.57  "
      ]
     },
     "execution_count": 8,
     "metadata": {},
     "output_type": "execute_result"
    }
   ],
   "source": [
    "passages_df['TicketValue'] = passages_df['TicketValue'].apply(lambda x: x.replace(',', '.'))\n",
    "passages_df.head()"
   ]
  },
  {
   "cell_type": "code",
   "execution_count": 11,
   "metadata": {},
   "outputs": [
    {
     "name": "stdout",
     "output_type": "stream",
     "text": [
      "<class 'pandas.core.frame.DataFrame'>\n",
      "RangeIndex: 734834 entries, 0 to 734833\n",
      "Data columns (total 8 columns):\n",
      "MeanOfTransportOneWay    734834 non-null object\n",
      "CountryOriginOneWay      734834 non-null object\n",
      "DistrictOriginOneWay     719335 non-null object\n",
      "CityOriginOneWay         734834 non-null object\n",
      "CountryDestinyOneWay     734834 non-null object\n",
      "DistrictDestinyOneWay    719941 non-null object\n",
      "CityDestinyOneWay        734834 non-null object\n",
      "TicketValue              734834 non-null float64\n",
      "dtypes: float64(1), object(7)\n",
      "memory usage: 44.9+ MB\n"
     ]
    }
   ],
   "source": [
    "passages_df['TicketValue'] = pd.to_numeric(passages_df['TicketValue'], errors='coerce')\n",
    "passages_df.info()"
   ]
  },
  {
   "cell_type": "code",
   "execution_count": 12,
   "metadata": {},
   "outputs": [
    {
     "data": {
      "text/html": [
       "<div>\n",
       "<style scoped>\n",
       "    .dataframe tbody tr th:only-of-type {\n",
       "        vertical-align: middle;\n",
       "    }\n",
       "\n",
       "    .dataframe tbody tr th {\n",
       "        vertical-align: top;\n",
       "    }\n",
       "\n",
       "    .dataframe thead th {\n",
       "        text-align: right;\n",
       "    }\n",
       "</style>\n",
       "<table border=\"1\" class=\"dataframe\">\n",
       "  <thead>\n",
       "    <tr style=\"text-align: right;\">\n",
       "      <th></th>\n",
       "      <th>MeanOfTransportOneWay</th>\n",
       "      <th>CountryOriginOneWay</th>\n",
       "      <th>DistrictOriginOneWay</th>\n",
       "      <th>CityOriginOneWay</th>\n",
       "      <th>CountryDestinyOneWay</th>\n",
       "      <th>DistrictDestinyOneWay</th>\n",
       "      <th>CityDestinyOneWay</th>\n",
       "      <th>TicketValue</th>\n",
       "    </tr>\n",
       "  </thead>\n",
       "  <tbody>\n",
       "    <tr>\n",
       "      <td>0</td>\n",
       "      <td>Aéreo</td>\n",
       "      <td>Brasil</td>\n",
       "      <td>Distrito Federal</td>\n",
       "      <td>Brasília</td>\n",
       "      <td>Brasil</td>\n",
       "      <td>Rio de Janeiro</td>\n",
       "      <td>Rio de Janeiro</td>\n",
       "      <td>570.45</td>\n",
       "    </tr>\n",
       "    <tr>\n",
       "      <td>1</td>\n",
       "      <td>Aéreo</td>\n",
       "      <td>Brasil</td>\n",
       "      <td>Rio de Janeiro</td>\n",
       "      <td>Rio de Janeiro</td>\n",
       "      <td>Brasil</td>\n",
       "      <td>Distrito Federal</td>\n",
       "      <td>Brasília</td>\n",
       "      <td>602.47</td>\n",
       "    </tr>\n",
       "    <tr>\n",
       "      <td>2</td>\n",
       "      <td>Aéreo</td>\n",
       "      <td>Brasil</td>\n",
       "      <td>Rio de Janeiro</td>\n",
       "      <td>Rio de Janeiro</td>\n",
       "      <td>Brasil</td>\n",
       "      <td>São Paulo</td>\n",
       "      <td>Presidente Prudente</td>\n",
       "      <td>941.47</td>\n",
       "    </tr>\n",
       "    <tr>\n",
       "      <td>3</td>\n",
       "      <td>Aéreo</td>\n",
       "      <td>Brasil</td>\n",
       "      <td>São Paulo</td>\n",
       "      <td>Presidente Prudente</td>\n",
       "      <td>Brasil</td>\n",
       "      <td>Rio de Janeiro</td>\n",
       "      <td>Rio de Janeiro</td>\n",
       "      <td>980.94</td>\n",
       "    </tr>\n",
       "    <tr>\n",
       "      <td>4</td>\n",
       "      <td>Aéreo</td>\n",
       "      <td>Brasil</td>\n",
       "      <td>Pará</td>\n",
       "      <td>Belém</td>\n",
       "      <td>Brasil</td>\n",
       "      <td>Distrito Federal</td>\n",
       "      <td>Brasília</td>\n",
       "      <td>885.57</td>\n",
       "    </tr>\n",
       "  </tbody>\n",
       "</table>\n",
       "</div>"
      ],
      "text/plain": [
       "  MeanOfTransportOneWay CountryOriginOneWay DistrictOriginOneWay  \\\n",
       "0                 Aéreo              Brasil     Distrito Federal   \n",
       "1                 Aéreo              Brasil       Rio de Janeiro   \n",
       "2                 Aéreo              Brasil       Rio de Janeiro   \n",
       "3                 Aéreo              Brasil            São Paulo   \n",
       "4                 Aéreo              Brasil                 Pará   \n",
       "\n",
       "      CityOriginOneWay CountryDestinyOneWay DistrictDestinyOneWay  \\\n",
       "0             Brasília               Brasil        Rio de Janeiro   \n",
       "1       Rio de Janeiro               Brasil      Distrito Federal   \n",
       "2       Rio de Janeiro               Brasil             São Paulo   \n",
       "3  Presidente Prudente               Brasil        Rio de Janeiro   \n",
       "4                Belém               Brasil      Distrito Federal   \n",
       "\n",
       "     CityDestinyOneWay  TicketValue  \n",
       "0       Rio de Janeiro       570.45  \n",
       "1             Brasília       602.47  \n",
       "2  Presidente Prudente       941.47  \n",
       "3       Rio de Janeiro       980.94  \n",
       "4             Brasília       885.57  "
      ]
     },
     "execution_count": 12,
     "metadata": {},
     "output_type": "execute_result"
    }
   ],
   "source": [
    "passages_df.head()"
   ]
  },
  {
   "cell_type": "code",
   "execution_count": 25,
   "metadata": {},
   "outputs": [
    {
     "name": "stdout",
     "output_type": "stream",
     "text": [
      "645.17\n"
     ]
    },
    {
     "data": {
      "text/html": [
       "<div>\n",
       "<style scoped>\n",
       "    .dataframe tbody tr th:only-of-type {\n",
       "        vertical-align: middle;\n",
       "    }\n",
       "\n",
       "    .dataframe tbody tr th {\n",
       "        vertical-align: top;\n",
       "    }\n",
       "\n",
       "    .dataframe thead th {\n",
       "        text-align: right;\n",
       "    }\n",
       "</style>\n",
       "<table border=\"1\" class=\"dataframe\">\n",
       "  <thead>\n",
       "    <tr style=\"text-align: right;\">\n",
       "      <th></th>\n",
       "      <th>MeanOfTransportOneWay</th>\n",
       "      <th>CountryOriginOneWay</th>\n",
       "      <th>DistrictOriginOneWay</th>\n",
       "      <th>CityOriginOneWay</th>\n",
       "      <th>CountryDestinyOneWay</th>\n",
       "      <th>DistrictDestinyOneWay</th>\n",
       "      <th>CityDestinyOneWay</th>\n",
       "      <th>TicketValue</th>\n",
       "    </tr>\n",
       "  </thead>\n",
       "  <tbody>\n",
       "    <tr>\n",
       "      <td>730203</td>\n",
       "      <td>Aéreo</td>\n",
       "      <td>Brasil</td>\n",
       "      <td>Distrito Federal</td>\n",
       "      <td>Brasília</td>\n",
       "      <td>Brasil</td>\n",
       "      <td>Rio de Janeiro</td>\n",
       "      <td>Rio de Janeiro</td>\n",
       "      <td>641.11</td>\n",
       "    </tr>\n",
       "  </tbody>\n",
       "</table>\n",
       "</div>"
      ],
      "text/plain": [
       "       MeanOfTransportOneWay CountryOriginOneWay DistrictOriginOneWay  \\\n",
       "730203                 Aéreo              Brasil     Distrito Federal   \n",
       "\n",
       "       CityOriginOneWay CountryDestinyOneWay DistrictDestinyOneWay  \\\n",
       "730203         Brasília               Brasil        Rio de Janeiro   \n",
       "\n",
       "       CityDestinyOneWay  TicketValue  \n",
       "730203    Rio de Janeiro       641.11  "
      ]
     },
     "execution_count": 25,
     "metadata": {},
     "output_type": "execute_result"
    }
   ],
   "source": [
    "ticket_value_avg = passages_df['TicketValue'].mean()\n",
    "print(round(ticket_value_avg,2))\n",
    "\n",
    "passages_df.loc[passages_df['TicketValue'] == 0.0, 'TicketValue'] = ticket_value_avg"
   ]
  },
  {
   "cell_type": "code",
   "execution_count": 30,
   "metadata": {},
   "outputs": [
    {
     "data": {
      "text/html": [
       "<div>\n",
       "<style scoped>\n",
       "    .dataframe tbody tr th:only-of-type {\n",
       "        vertical-align: middle;\n",
       "    }\n",
       "\n",
       "    .dataframe tbody tr th {\n",
       "        vertical-align: top;\n",
       "    }\n",
       "\n",
       "    .dataframe thead th {\n",
       "        text-align: right;\n",
       "    }\n",
       "</style>\n",
       "<table border=\"1\" class=\"dataframe\">\n",
       "  <thead>\n",
       "    <tr style=\"text-align: right;\">\n",
       "      <th></th>\n",
       "      <th>MeanOfTransportOneWay</th>\n",
       "      <th>CountryOriginOneWay</th>\n",
       "      <th>DistrictOriginOneWay</th>\n",
       "      <th>CityOriginOneWay</th>\n",
       "      <th>CountryDestinyOneWay</th>\n",
       "      <th>DistrictDestinyOneWay</th>\n",
       "      <th>CityDestinyOneWay</th>\n",
       "      <th>TicketValue</th>\n",
       "    </tr>\n",
       "  </thead>\n",
       "  <tbody>\n",
       "    <tr>\n",
       "      <td>385936</td>\n",
       "      <td>Aéreo</td>\n",
       "      <td>Brasil</td>\n",
       "      <td>Rio de Janeiro</td>\n",
       "      <td>Rio de Janeiro</td>\n",
       "      <td>Brasil</td>\n",
       "      <td>Distrito Federal</td>\n",
       "      <td>Brasília</td>\n",
       "      <td>641.17</td>\n",
       "    </tr>\n",
       "  </tbody>\n",
       "</table>\n",
       "</div>"
      ],
      "text/plain": [
       "       MeanOfTransportOneWay CountryOriginOneWay DistrictOriginOneWay  \\\n",
       "385936                 Aéreo              Brasil       Rio de Janeiro   \n",
       "\n",
       "       CityOriginOneWay CountryDestinyOneWay DistrictDestinyOneWay  \\\n",
       "385936   Rio de Janeiro               Brasil      Distrito Federal   \n",
       "\n",
       "       CityDestinyOneWay  TicketValue  \n",
       "385936          Brasília       641.17  "
      ]
     },
     "execution_count": 30,
     "metadata": {},
     "output_type": "execute_result"
    }
   ],
   "source": [
    "passages_df.loc[passages_df['TicketValue'] == 641.17]"
   ]
  },
  {
   "cell_type": "code",
   "execution_count": 32,
   "metadata": {},
   "outputs": [
    {
     "data": {
      "text/html": [
       "<div>\n",
       "<style scoped>\n",
       "    .dataframe tbody tr th:only-of-type {\n",
       "        vertical-align: middle;\n",
       "    }\n",
       "\n",
       "    .dataframe tbody tr th {\n",
       "        vertical-align: top;\n",
       "    }\n",
       "\n",
       "    .dataframe thead th {\n",
       "        text-align: right;\n",
       "    }\n",
       "</style>\n",
       "<table border=\"1\" class=\"dataframe\">\n",
       "  <thead>\n",
       "    <tr style=\"text-align: right;\">\n",
       "      <th></th>\n",
       "      <th>TicketValue</th>\n",
       "    </tr>\n",
       "    <tr>\n",
       "      <th>MeanOfTransportOneWay</th>\n",
       "      <th></th>\n",
       "    </tr>\n",
       "  </thead>\n",
       "  <tbody>\n",
       "    <tr>\n",
       "      <td>Aéreo</td>\n",
       "      <td>4.697351e+08</td>\n",
       "    </tr>\n",
       "    <tr>\n",
       "      <td>Ferroviário</td>\n",
       "      <td>1.588106e+04</td>\n",
       "    </tr>\n",
       "    <tr>\n",
       "      <td>Fluvial</td>\n",
       "      <td>6.919941e+05</td>\n",
       "    </tr>\n",
       "    <tr>\n",
       "      <td>Marítimo</td>\n",
       "      <td>1.590000e+03</td>\n",
       "    </tr>\n",
       "    <tr>\n",
       "      <td>Rodoviário</td>\n",
       "      <td>3.639906e+06</td>\n",
       "    </tr>\n",
       "    <tr>\n",
       "      <td>Veículo Oficial</td>\n",
       "      <td>3.462440e+03</td>\n",
       "    </tr>\n",
       "    <tr>\n",
       "      <td>Veículo Próprio</td>\n",
       "      <td>1.330740e+03</td>\n",
       "    </tr>\n",
       "  </tbody>\n",
       "</table>\n",
       "</div>"
      ],
      "text/plain": [
       "                        TicketValue\n",
       "MeanOfTransportOneWay              \n",
       "Aéreo                  4.697351e+08\n",
       "Ferroviário            1.588106e+04\n",
       "Fluvial                6.919941e+05\n",
       "Marítimo               1.590000e+03\n",
       "Rodoviário             3.639906e+06\n",
       "Veículo Oficial        3.462440e+03\n",
       "Veículo Próprio        1.330740e+03"
      ]
     },
     "execution_count": 32,
     "metadata": {},
     "output_type": "execute_result"
    }
   ],
   "source": [
    "passages_df.groupby(['MeanOfTransportOneWay']).sum()"
   ]
  },
  {
   "cell_type": "code",
   "execution_count": 33,
   "metadata": {},
   "outputs": [
    {
     "data": {
      "application/vnd.plotly.v1+json": {
       "config": {
        "linkText": "Export to plot.ly",
        "plotlyServerURL": "https://plot.ly",
        "showLink": false
       },
       "data": [
        {
         "name": "Aéreo",
         "type": "bar",
         "x": [
          "Aéreo"
         ],
         "y": [
          469735091.1445457
         ]
        },
        {
         "name": "Rodoviário",
         "type": "bar",
         "x": [
          "Rodoviário"
         ],
         "y": [
          3639905.7675544727
         ]
        },
        {
         "name": "Fluvial",
         "type": "bar",
         "x": [
          "Fluvial"
         ],
         "y": [
          691994.0883698883
         ]
        },
        {
         "name": "Ferroviário",
         "type": "bar",
         "x": [
          "Ferroviário"
         ],
         "y": [
          15881.056793547927
         ]
        },
        {
         "name": "Veículo Oficial",
         "type": "bar",
         "x": [
          "Veículo Oficial"
         ],
         "y": [
          3462.4399999999996
         ]
        },
        {
         "name": "Marítimo",
         "type": "bar",
         "x": [
          "Marítimo"
         ],
         "y": [
          1590
         ]
        },
        {
         "name": "Veículo Próprio",
         "type": "bar",
         "x": [
          "Veículo Próprio"
         ],
         "y": [
          1330.74
         ]
        }
       ],
       "layout": {
        "barmode": "group",
        "template": {
         "data": {
          "bar": [
           {
            "error_x": {
             "color": "#2a3f5f"
            },
            "error_y": {
             "color": "#2a3f5f"
            },
            "marker": {
             "line": {
              "color": "#E5ECF6",
              "width": 0.5
             }
            },
            "type": "bar"
           }
          ],
          "barpolar": [
           {
            "marker": {
             "line": {
              "color": "#E5ECF6",
              "width": 0.5
             }
            },
            "type": "barpolar"
           }
          ],
          "carpet": [
           {
            "aaxis": {
             "endlinecolor": "#2a3f5f",
             "gridcolor": "white",
             "linecolor": "white",
             "minorgridcolor": "white",
             "startlinecolor": "#2a3f5f"
            },
            "baxis": {
             "endlinecolor": "#2a3f5f",
             "gridcolor": "white",
             "linecolor": "white",
             "minorgridcolor": "white",
             "startlinecolor": "#2a3f5f"
            },
            "type": "carpet"
           }
          ],
          "choropleth": [
           {
            "colorbar": {
             "outlinewidth": 0,
             "ticks": ""
            },
            "type": "choropleth"
           }
          ],
          "contour": [
           {
            "colorbar": {
             "outlinewidth": 0,
             "ticks": ""
            },
            "colorscale": [
             [
              0,
              "#0d0887"
             ],
             [
              0.1111111111111111,
              "#46039f"
             ],
             [
              0.2222222222222222,
              "#7201a8"
             ],
             [
              0.3333333333333333,
              "#9c179e"
             ],
             [
              0.4444444444444444,
              "#bd3786"
             ],
             [
              0.5555555555555556,
              "#d8576b"
             ],
             [
              0.6666666666666666,
              "#ed7953"
             ],
             [
              0.7777777777777778,
              "#fb9f3a"
             ],
             [
              0.8888888888888888,
              "#fdca26"
             ],
             [
              1,
              "#f0f921"
             ]
            ],
            "type": "contour"
           }
          ],
          "contourcarpet": [
           {
            "colorbar": {
             "outlinewidth": 0,
             "ticks": ""
            },
            "type": "contourcarpet"
           }
          ],
          "heatmap": [
           {
            "colorbar": {
             "outlinewidth": 0,
             "ticks": ""
            },
            "colorscale": [
             [
              0,
              "#0d0887"
             ],
             [
              0.1111111111111111,
              "#46039f"
             ],
             [
              0.2222222222222222,
              "#7201a8"
             ],
             [
              0.3333333333333333,
              "#9c179e"
             ],
             [
              0.4444444444444444,
              "#bd3786"
             ],
             [
              0.5555555555555556,
              "#d8576b"
             ],
             [
              0.6666666666666666,
              "#ed7953"
             ],
             [
              0.7777777777777778,
              "#fb9f3a"
             ],
             [
              0.8888888888888888,
              "#fdca26"
             ],
             [
              1,
              "#f0f921"
             ]
            ],
            "type": "heatmap"
           }
          ],
          "heatmapgl": [
           {
            "colorbar": {
             "outlinewidth": 0,
             "ticks": ""
            },
            "colorscale": [
             [
              0,
              "#0d0887"
             ],
             [
              0.1111111111111111,
              "#46039f"
             ],
             [
              0.2222222222222222,
              "#7201a8"
             ],
             [
              0.3333333333333333,
              "#9c179e"
             ],
             [
              0.4444444444444444,
              "#bd3786"
             ],
             [
              0.5555555555555556,
              "#d8576b"
             ],
             [
              0.6666666666666666,
              "#ed7953"
             ],
             [
              0.7777777777777778,
              "#fb9f3a"
             ],
             [
              0.8888888888888888,
              "#fdca26"
             ],
             [
              1,
              "#f0f921"
             ]
            ],
            "type": "heatmapgl"
           }
          ],
          "histogram": [
           {
            "marker": {
             "colorbar": {
              "outlinewidth": 0,
              "ticks": ""
             }
            },
            "type": "histogram"
           }
          ],
          "histogram2d": [
           {
            "colorbar": {
             "outlinewidth": 0,
             "ticks": ""
            },
            "colorscale": [
             [
              0,
              "#0d0887"
             ],
             [
              0.1111111111111111,
              "#46039f"
             ],
             [
              0.2222222222222222,
              "#7201a8"
             ],
             [
              0.3333333333333333,
              "#9c179e"
             ],
             [
              0.4444444444444444,
              "#bd3786"
             ],
             [
              0.5555555555555556,
              "#d8576b"
             ],
             [
              0.6666666666666666,
              "#ed7953"
             ],
             [
              0.7777777777777778,
              "#fb9f3a"
             ],
             [
              0.8888888888888888,
              "#fdca26"
             ],
             [
              1,
              "#f0f921"
             ]
            ],
            "type": "histogram2d"
           }
          ],
          "histogram2dcontour": [
           {
            "colorbar": {
             "outlinewidth": 0,
             "ticks": ""
            },
            "colorscale": [
             [
              0,
              "#0d0887"
             ],
             [
              0.1111111111111111,
              "#46039f"
             ],
             [
              0.2222222222222222,
              "#7201a8"
             ],
             [
              0.3333333333333333,
              "#9c179e"
             ],
             [
              0.4444444444444444,
              "#bd3786"
             ],
             [
              0.5555555555555556,
              "#d8576b"
             ],
             [
              0.6666666666666666,
              "#ed7953"
             ],
             [
              0.7777777777777778,
              "#fb9f3a"
             ],
             [
              0.8888888888888888,
              "#fdca26"
             ],
             [
              1,
              "#f0f921"
             ]
            ],
            "type": "histogram2dcontour"
           }
          ],
          "mesh3d": [
           {
            "colorbar": {
             "outlinewidth": 0,
             "ticks": ""
            },
            "type": "mesh3d"
           }
          ],
          "parcoords": [
           {
            "line": {
             "colorbar": {
              "outlinewidth": 0,
              "ticks": ""
             }
            },
            "type": "parcoords"
           }
          ],
          "scatter": [
           {
            "marker": {
             "colorbar": {
              "outlinewidth": 0,
              "ticks": ""
             }
            },
            "type": "scatter"
           }
          ],
          "scatter3d": [
           {
            "line": {
             "colorbar": {
              "outlinewidth": 0,
              "ticks": ""
             }
            },
            "marker": {
             "colorbar": {
              "outlinewidth": 0,
              "ticks": ""
             }
            },
            "type": "scatter3d"
           }
          ],
          "scattercarpet": [
           {
            "marker": {
             "colorbar": {
              "outlinewidth": 0,
              "ticks": ""
             }
            },
            "type": "scattercarpet"
           }
          ],
          "scattergeo": [
           {
            "marker": {
             "colorbar": {
              "outlinewidth": 0,
              "ticks": ""
             }
            },
            "type": "scattergeo"
           }
          ],
          "scattergl": [
           {
            "marker": {
             "colorbar": {
              "outlinewidth": 0,
              "ticks": ""
             }
            },
            "type": "scattergl"
           }
          ],
          "scattermapbox": [
           {
            "marker": {
             "colorbar": {
              "outlinewidth": 0,
              "ticks": ""
             }
            },
            "type": "scattermapbox"
           }
          ],
          "scatterpolar": [
           {
            "marker": {
             "colorbar": {
              "outlinewidth": 0,
              "ticks": ""
             }
            },
            "type": "scatterpolar"
           }
          ],
          "scatterpolargl": [
           {
            "marker": {
             "colorbar": {
              "outlinewidth": 0,
              "ticks": ""
             }
            },
            "type": "scatterpolargl"
           }
          ],
          "scatterternary": [
           {
            "marker": {
             "colorbar": {
              "outlinewidth": 0,
              "ticks": ""
             }
            },
            "type": "scatterternary"
           }
          ],
          "surface": [
           {
            "colorbar": {
             "outlinewidth": 0,
             "ticks": ""
            },
            "colorscale": [
             [
              0,
              "#0d0887"
             ],
             [
              0.1111111111111111,
              "#46039f"
             ],
             [
              0.2222222222222222,
              "#7201a8"
             ],
             [
              0.3333333333333333,
              "#9c179e"
             ],
             [
              0.4444444444444444,
              "#bd3786"
             ],
             [
              0.5555555555555556,
              "#d8576b"
             ],
             [
              0.6666666666666666,
              "#ed7953"
             ],
             [
              0.7777777777777778,
              "#fb9f3a"
             ],
             [
              0.8888888888888888,
              "#fdca26"
             ],
             [
              1,
              "#f0f921"
             ]
            ],
            "type": "surface"
           }
          ],
          "table": [
           {
            "cells": {
             "fill": {
              "color": "#EBF0F8"
             },
             "line": {
              "color": "white"
             }
            },
            "header": {
             "fill": {
              "color": "#C8D4E3"
             },
             "line": {
              "color": "white"
             }
            },
            "type": "table"
           }
          ]
         },
         "layout": {
          "annotationdefaults": {
           "arrowcolor": "#2a3f5f",
           "arrowhead": 0,
           "arrowwidth": 1
          },
          "colorscale": {
           "diverging": [
            [
             0,
             "#8e0152"
            ],
            [
             0.1,
             "#c51b7d"
            ],
            [
             0.2,
             "#de77ae"
            ],
            [
             0.3,
             "#f1b6da"
            ],
            [
             0.4,
             "#fde0ef"
            ],
            [
             0.5,
             "#f7f7f7"
            ],
            [
             0.6,
             "#e6f5d0"
            ],
            [
             0.7,
             "#b8e186"
            ],
            [
             0.8,
             "#7fbc41"
            ],
            [
             0.9,
             "#4d9221"
            ],
            [
             1,
             "#276419"
            ]
           ],
           "sequential": [
            [
             0,
             "#0d0887"
            ],
            [
             0.1111111111111111,
             "#46039f"
            ],
            [
             0.2222222222222222,
             "#7201a8"
            ],
            [
             0.3333333333333333,
             "#9c179e"
            ],
            [
             0.4444444444444444,
             "#bd3786"
            ],
            [
             0.5555555555555556,
             "#d8576b"
            ],
            [
             0.6666666666666666,
             "#ed7953"
            ],
            [
             0.7777777777777778,
             "#fb9f3a"
            ],
            [
             0.8888888888888888,
             "#fdca26"
            ],
            [
             1,
             "#f0f921"
            ]
           ],
           "sequentialminus": [
            [
             0,
             "#0d0887"
            ],
            [
             0.1111111111111111,
             "#46039f"
            ],
            [
             0.2222222222222222,
             "#7201a8"
            ],
            [
             0.3333333333333333,
             "#9c179e"
            ],
            [
             0.4444444444444444,
             "#bd3786"
            ],
            [
             0.5555555555555556,
             "#d8576b"
            ],
            [
             0.6666666666666666,
             "#ed7953"
            ],
            [
             0.7777777777777778,
             "#fb9f3a"
            ],
            [
             0.8888888888888888,
             "#fdca26"
            ],
            [
             1,
             "#f0f921"
            ]
           ]
          },
          "colorway": [
           "#636efa",
           "#EF553B",
           "#00cc96",
           "#ab63fa",
           "#FFA15A",
           "#19d3f3",
           "#FF6692",
           "#B6E880",
           "#FF97FF",
           "#FECB52"
          ],
          "font": {
           "color": "#2a3f5f"
          },
          "geo": {
           "bgcolor": "white",
           "lakecolor": "white",
           "landcolor": "#E5ECF6",
           "showlakes": true,
           "showland": true,
           "subunitcolor": "white"
          },
          "hoverlabel": {
           "align": "left"
          },
          "hovermode": "closest",
          "mapbox": {
           "style": "light"
          },
          "paper_bgcolor": "white",
          "plot_bgcolor": "#E5ECF6",
          "polar": {
           "angularaxis": {
            "gridcolor": "white",
            "linecolor": "white",
            "ticks": ""
           },
           "bgcolor": "#E5ECF6",
           "radialaxis": {
            "gridcolor": "white",
            "linecolor": "white",
            "ticks": ""
           }
          },
          "scene": {
           "xaxis": {
            "backgroundcolor": "#E5ECF6",
            "gridcolor": "white",
            "gridwidth": 2,
            "linecolor": "white",
            "showbackground": true,
            "ticks": "",
            "zerolinecolor": "white"
           },
           "yaxis": {
            "backgroundcolor": "#E5ECF6",
            "gridcolor": "white",
            "gridwidth": 2,
            "linecolor": "white",
            "showbackground": true,
            "ticks": "",
            "zerolinecolor": "white"
           },
           "zaxis": {
            "backgroundcolor": "#E5ECF6",
            "gridcolor": "white",
            "gridwidth": 2,
            "linecolor": "white",
            "showbackground": true,
            "ticks": "",
            "zerolinecolor": "white"
           }
          },
          "shapedefaults": {
           "line": {
            "color": "#2a3f5f"
           }
          },
          "ternary": {
           "aaxis": {
            "gridcolor": "white",
            "linecolor": "white",
            "ticks": ""
           },
           "baxis": {
            "gridcolor": "white",
            "linecolor": "white",
            "ticks": ""
           },
           "bgcolor": "#E5ECF6",
           "caxis": {
            "gridcolor": "white",
            "linecolor": "white",
            "ticks": ""
           }
          },
          "title": {
           "x": 0.05
          },
          "xaxis": {
           "automargin": true,
           "gridcolor": "white",
           "linecolor": "white",
           "ticks": "",
           "zerolinecolor": "white",
           "zerolinewidth": 2
          },
          "yaxis": {
           "automargin": true,
           "gridcolor": "white",
           "linecolor": "white",
           "ticks": "",
           "zerolinecolor": "white",
           "zerolinewidth": 2
          }
         }
        },
        "title": {
         "text": "Costs with travels in 2014"
        }
       }
      },
      "text/html": [
       "<div>\n",
       "        \n",
       "        \n",
       "            <div id=\"c9c221c7-dd8a-40f0-be11-a9cabbb90b86\" class=\"plotly-graph-div\" style=\"height:525px; width:100%;\"></div>\n",
       "            <script type=\"text/javascript\">\n",
       "                require([\"plotly\"], function(Plotly) {\n",
       "                    window.PLOTLYENV=window.PLOTLYENV || {};\n",
       "                    \n",
       "                if (document.getElementById(\"c9c221c7-dd8a-40f0-be11-a9cabbb90b86\")) {\n",
       "                    Plotly.newPlot(\n",
       "                        'c9c221c7-dd8a-40f0-be11-a9cabbb90b86',\n",
       "                        [{\"name\": \"A\\u00e9reo\", \"type\": \"bar\", \"x\": [\"A\\u00e9reo\"], \"y\": [469735091.1445457]}, {\"name\": \"Rodovi\\u00e1rio\", \"type\": \"bar\", \"x\": [\"Rodovi\\u00e1rio\"], \"y\": [3639905.7675544727]}, {\"name\": \"Fluvial\", \"type\": \"bar\", \"x\": [\"Fluvial\"], \"y\": [691994.0883698883]}, {\"name\": \"Ferrovi\\u00e1rio\", \"type\": \"bar\", \"x\": [\"Ferrovi\\u00e1rio\"], \"y\": [15881.056793547927]}, {\"name\": \"Ve\\u00edculo Oficial\", \"type\": \"bar\", \"x\": [\"Ve\\u00edculo Oficial\"], \"y\": [3462.4399999999996]}, {\"name\": \"Mar\\u00edtimo\", \"type\": \"bar\", \"x\": [\"Mar\\u00edtimo\"], \"y\": [1590.0]}, {\"name\": \"Ve\\u00edculo Pr\\u00f3prio\", \"type\": \"bar\", \"x\": [\"Ve\\u00edculo Pr\\u00f3prio\"], \"y\": [1330.74]}],\n",
       "                        {\"barmode\": \"group\", \"template\": {\"data\": {\"bar\": [{\"error_x\": {\"color\": \"#2a3f5f\"}, \"error_y\": {\"color\": \"#2a3f5f\"}, \"marker\": {\"line\": {\"color\": \"#E5ECF6\", \"width\": 0.5}}, \"type\": \"bar\"}], \"barpolar\": [{\"marker\": {\"line\": {\"color\": \"#E5ECF6\", \"width\": 0.5}}, \"type\": \"barpolar\"}], \"carpet\": [{\"aaxis\": {\"endlinecolor\": \"#2a3f5f\", \"gridcolor\": \"white\", \"linecolor\": \"white\", \"minorgridcolor\": \"white\", \"startlinecolor\": \"#2a3f5f\"}, \"baxis\": {\"endlinecolor\": \"#2a3f5f\", \"gridcolor\": \"white\", \"linecolor\": \"white\", \"minorgridcolor\": \"white\", \"startlinecolor\": \"#2a3f5f\"}, \"type\": \"carpet\"}], \"choropleth\": [{\"colorbar\": {\"outlinewidth\": 0, \"ticks\": \"\"}, \"type\": \"choropleth\"}], \"contour\": [{\"colorbar\": {\"outlinewidth\": 0, \"ticks\": \"\"}, \"colorscale\": [[0.0, \"#0d0887\"], [0.1111111111111111, \"#46039f\"], [0.2222222222222222, \"#7201a8\"], [0.3333333333333333, \"#9c179e\"], [0.4444444444444444, \"#bd3786\"], [0.5555555555555556, \"#d8576b\"], [0.6666666666666666, \"#ed7953\"], [0.7777777777777778, \"#fb9f3a\"], [0.8888888888888888, \"#fdca26\"], [1.0, \"#f0f921\"]], \"type\": \"contour\"}], \"contourcarpet\": [{\"colorbar\": {\"outlinewidth\": 0, \"ticks\": \"\"}, \"type\": \"contourcarpet\"}], \"heatmap\": [{\"colorbar\": {\"outlinewidth\": 0, \"ticks\": \"\"}, \"colorscale\": [[0.0, \"#0d0887\"], [0.1111111111111111, \"#46039f\"], [0.2222222222222222, \"#7201a8\"], [0.3333333333333333, \"#9c179e\"], [0.4444444444444444, \"#bd3786\"], [0.5555555555555556, \"#d8576b\"], [0.6666666666666666, \"#ed7953\"], [0.7777777777777778, \"#fb9f3a\"], [0.8888888888888888, \"#fdca26\"], [1.0, \"#f0f921\"]], \"type\": \"heatmap\"}], \"heatmapgl\": [{\"colorbar\": {\"outlinewidth\": 0, \"ticks\": \"\"}, \"colorscale\": [[0.0, \"#0d0887\"], [0.1111111111111111, \"#46039f\"], [0.2222222222222222, \"#7201a8\"], [0.3333333333333333, \"#9c179e\"], [0.4444444444444444, \"#bd3786\"], [0.5555555555555556, \"#d8576b\"], [0.6666666666666666, \"#ed7953\"], [0.7777777777777778, \"#fb9f3a\"], [0.8888888888888888, \"#fdca26\"], [1.0, \"#f0f921\"]], \"type\": \"heatmapgl\"}], \"histogram\": [{\"marker\": {\"colorbar\": {\"outlinewidth\": 0, \"ticks\": \"\"}}, \"type\": \"histogram\"}], \"histogram2d\": [{\"colorbar\": {\"outlinewidth\": 0, \"ticks\": \"\"}, \"colorscale\": [[0.0, \"#0d0887\"], [0.1111111111111111, \"#46039f\"], [0.2222222222222222, \"#7201a8\"], [0.3333333333333333, \"#9c179e\"], [0.4444444444444444, \"#bd3786\"], [0.5555555555555556, \"#d8576b\"], [0.6666666666666666, \"#ed7953\"], [0.7777777777777778, \"#fb9f3a\"], [0.8888888888888888, \"#fdca26\"], [1.0, \"#f0f921\"]], \"type\": \"histogram2d\"}], \"histogram2dcontour\": [{\"colorbar\": {\"outlinewidth\": 0, \"ticks\": \"\"}, \"colorscale\": [[0.0, \"#0d0887\"], [0.1111111111111111, \"#46039f\"], [0.2222222222222222, \"#7201a8\"], [0.3333333333333333, \"#9c179e\"], [0.4444444444444444, \"#bd3786\"], [0.5555555555555556, \"#d8576b\"], [0.6666666666666666, \"#ed7953\"], [0.7777777777777778, \"#fb9f3a\"], [0.8888888888888888, \"#fdca26\"], [1.0, \"#f0f921\"]], \"type\": \"histogram2dcontour\"}], \"mesh3d\": [{\"colorbar\": {\"outlinewidth\": 0, \"ticks\": \"\"}, \"type\": \"mesh3d\"}], \"parcoords\": [{\"line\": {\"colorbar\": {\"outlinewidth\": 0, \"ticks\": \"\"}}, \"type\": \"parcoords\"}], \"scatter\": [{\"marker\": {\"colorbar\": {\"outlinewidth\": 0, \"ticks\": \"\"}}, \"type\": \"scatter\"}], \"scatter3d\": [{\"line\": {\"colorbar\": {\"outlinewidth\": 0, \"ticks\": \"\"}}, \"marker\": {\"colorbar\": {\"outlinewidth\": 0, \"ticks\": \"\"}}, \"type\": \"scatter3d\"}], \"scattercarpet\": [{\"marker\": {\"colorbar\": {\"outlinewidth\": 0, \"ticks\": \"\"}}, \"type\": \"scattercarpet\"}], \"scattergeo\": [{\"marker\": {\"colorbar\": {\"outlinewidth\": 0, \"ticks\": \"\"}}, \"type\": \"scattergeo\"}], \"scattergl\": [{\"marker\": {\"colorbar\": {\"outlinewidth\": 0, \"ticks\": \"\"}}, \"type\": \"scattergl\"}], \"scattermapbox\": [{\"marker\": {\"colorbar\": {\"outlinewidth\": 0, \"ticks\": \"\"}}, \"type\": \"scattermapbox\"}], \"scatterpolar\": [{\"marker\": {\"colorbar\": {\"outlinewidth\": 0, \"ticks\": \"\"}}, \"type\": \"scatterpolar\"}], \"scatterpolargl\": [{\"marker\": {\"colorbar\": {\"outlinewidth\": 0, \"ticks\": \"\"}}, \"type\": \"scatterpolargl\"}], \"scatterternary\": [{\"marker\": {\"colorbar\": {\"outlinewidth\": 0, \"ticks\": \"\"}}, \"type\": \"scatterternary\"}], \"surface\": [{\"colorbar\": {\"outlinewidth\": 0, \"ticks\": \"\"}, \"colorscale\": [[0.0, \"#0d0887\"], [0.1111111111111111, \"#46039f\"], [0.2222222222222222, \"#7201a8\"], [0.3333333333333333, \"#9c179e\"], [0.4444444444444444, \"#bd3786\"], [0.5555555555555556, \"#d8576b\"], [0.6666666666666666, \"#ed7953\"], [0.7777777777777778, \"#fb9f3a\"], [0.8888888888888888, \"#fdca26\"], [1.0, \"#f0f921\"]], \"type\": \"surface\"}], \"table\": [{\"cells\": {\"fill\": {\"color\": \"#EBF0F8\"}, \"line\": {\"color\": \"white\"}}, \"header\": {\"fill\": {\"color\": \"#C8D4E3\"}, \"line\": {\"color\": \"white\"}}, \"type\": \"table\"}]}, \"layout\": {\"annotationdefaults\": {\"arrowcolor\": \"#2a3f5f\", \"arrowhead\": 0, \"arrowwidth\": 1}, \"colorscale\": {\"diverging\": [[0, \"#8e0152\"], [0.1, \"#c51b7d\"], [0.2, \"#de77ae\"], [0.3, \"#f1b6da\"], [0.4, \"#fde0ef\"], [0.5, \"#f7f7f7\"], [0.6, \"#e6f5d0\"], [0.7, \"#b8e186\"], [0.8, \"#7fbc41\"], [0.9, \"#4d9221\"], [1, \"#276419\"]], \"sequential\": [[0.0, \"#0d0887\"], [0.1111111111111111, \"#46039f\"], [0.2222222222222222, \"#7201a8\"], [0.3333333333333333, \"#9c179e\"], [0.4444444444444444, \"#bd3786\"], [0.5555555555555556, \"#d8576b\"], [0.6666666666666666, \"#ed7953\"], [0.7777777777777778, \"#fb9f3a\"], [0.8888888888888888, \"#fdca26\"], [1.0, \"#f0f921\"]], \"sequentialminus\": [[0.0, \"#0d0887\"], [0.1111111111111111, \"#46039f\"], [0.2222222222222222, \"#7201a8\"], [0.3333333333333333, \"#9c179e\"], [0.4444444444444444, \"#bd3786\"], [0.5555555555555556, \"#d8576b\"], [0.6666666666666666, \"#ed7953\"], [0.7777777777777778, \"#fb9f3a\"], [0.8888888888888888, \"#fdca26\"], [1.0, \"#f0f921\"]]}, \"colorway\": [\"#636efa\", \"#EF553B\", \"#00cc96\", \"#ab63fa\", \"#FFA15A\", \"#19d3f3\", \"#FF6692\", \"#B6E880\", \"#FF97FF\", \"#FECB52\"], \"font\": {\"color\": \"#2a3f5f\"}, \"geo\": {\"bgcolor\": \"white\", \"lakecolor\": \"white\", \"landcolor\": \"#E5ECF6\", \"showlakes\": true, \"showland\": true, \"subunitcolor\": \"white\"}, \"hoverlabel\": {\"align\": \"left\"}, \"hovermode\": \"closest\", \"mapbox\": {\"style\": \"light\"}, \"paper_bgcolor\": \"white\", \"plot_bgcolor\": \"#E5ECF6\", \"polar\": {\"angularaxis\": {\"gridcolor\": \"white\", \"linecolor\": \"white\", \"ticks\": \"\"}, \"bgcolor\": \"#E5ECF6\", \"radialaxis\": {\"gridcolor\": \"white\", \"linecolor\": \"white\", \"ticks\": \"\"}}, \"scene\": {\"xaxis\": {\"backgroundcolor\": \"#E5ECF6\", \"gridcolor\": \"white\", \"gridwidth\": 2, \"linecolor\": \"white\", \"showbackground\": true, \"ticks\": \"\", \"zerolinecolor\": \"white\"}, \"yaxis\": {\"backgroundcolor\": \"#E5ECF6\", \"gridcolor\": \"white\", \"gridwidth\": 2, \"linecolor\": \"white\", \"showbackground\": true, \"ticks\": \"\", \"zerolinecolor\": \"white\"}, \"zaxis\": {\"backgroundcolor\": \"#E5ECF6\", \"gridcolor\": \"white\", \"gridwidth\": 2, \"linecolor\": \"white\", \"showbackground\": true, \"ticks\": \"\", \"zerolinecolor\": \"white\"}}, \"shapedefaults\": {\"line\": {\"color\": \"#2a3f5f\"}}, \"ternary\": {\"aaxis\": {\"gridcolor\": \"white\", \"linecolor\": \"white\", \"ticks\": \"\"}, \"baxis\": {\"gridcolor\": \"white\", \"linecolor\": \"white\", \"ticks\": \"\"}, \"bgcolor\": \"#E5ECF6\", \"caxis\": {\"gridcolor\": \"white\", \"linecolor\": \"white\", \"ticks\": \"\"}}, \"title\": {\"x\": 0.05}, \"xaxis\": {\"automargin\": true, \"gridcolor\": \"white\", \"linecolor\": \"white\", \"ticks\": \"\", \"zerolinecolor\": \"white\", \"zerolinewidth\": 2}, \"yaxis\": {\"automargin\": true, \"gridcolor\": \"white\", \"linecolor\": \"white\", \"ticks\": \"\", \"zerolinecolor\": \"white\", \"zerolinewidth\": 2}}}, \"title\": {\"text\": \"Costs with travels in 2014\"}},\n",
       "                        {\"responsive\": true}\n",
       "                    ).then(function(){\n",
       "                            \n",
       "var gd = document.getElementById('c9c221c7-dd8a-40f0-be11-a9cabbb90b86');\n",
       "var x = new MutationObserver(function (mutations, observer) {{\n",
       "        var display = window.getComputedStyle(gd).display;\n",
       "        if (!display || display === 'none') {{\n",
       "            console.log([gd, 'removed!']);\n",
       "            Plotly.purge(gd);\n",
       "            observer.disconnect();\n",
       "        }}\n",
       "}});\n",
       "\n",
       "// Listen for the removal of the full notebook cells\n",
       "var notebookContainer = gd.closest('#notebook-container');\n",
       "if (notebookContainer) {{\n",
       "    x.observe(notebookContainer, {childList: true});\n",
       "}}\n",
       "\n",
       "// Listen for the clearing of the current output cell\n",
       "var outputEl = gd.closest('.output');\n",
       "if (outputEl) {{\n",
       "    x.observe(outputEl, {childList: true});\n",
       "}}\n",
       "\n",
       "                        })\n",
       "                };\n",
       "                });\n",
       "            </script>\n",
       "        </div>"
      ]
     },
     "metadata": {},
     "output_type": "display_data"
    }
   ],
   "source": [
    "means_transport = pd.DataFrame(passages_df.groupby(['MeanOfTransportOneWay']).sum().reset_index())\n",
    "means_transport.columns = ['MeanTransport', 'Total']\n",
    "means_transport_sorted = means_transport.sort_values(by='Total', ascending=False)\n",
    "data = []\n",
    "\n",
    "for item in list(means_transport_sorted['MeanTransport'].unique()):\n",
    "    data.append(\n",
    "        go.Bar(\n",
    "            x = list(means_transport_sorted[means_transport_sorted['MeanTransport']==item]['MeanTransport']),\n",
    "            y = list(means_transport_sorted[means_transport_sorted['MeanTransport']==item]['Total']),\n",
    "            name= item\n",
    "        )  \n",
    "    )\n",
    "    \n",
    "layout = go.Layout(\n",
    "    barmode='group',\n",
    "    title = 'Costs with travels in 2014'\n",
    ")\n",
    "\n",
    "fig = go.Figure(data=data, layout=layout)\n",
    "pyo.iplot(fig)"
   ]
  },
  {
   "cell_type": "code",
   "execution_count": 31,
   "metadata": {},
   "outputs": [
    {
     "data": {
      "text/html": [
       "<div>\n",
       "<style scoped>\n",
       "    .dataframe tbody tr th:only-of-type {\n",
       "        vertical-align: middle;\n",
       "    }\n",
       "\n",
       "    .dataframe tbody tr th {\n",
       "        vertical-align: top;\n",
       "    }\n",
       "\n",
       "    .dataframe thead th {\n",
       "        text-align: right;\n",
       "    }\n",
       "</style>\n",
       "<table border=\"1\" class=\"dataframe\">\n",
       "  <thead>\n",
       "    <tr style=\"text-align: right;\">\n",
       "      <th></th>\n",
       "      <th>TicketValue</th>\n",
       "    </tr>\n",
       "    <tr>\n",
       "      <th>CountryOriginOneWay</th>\n",
       "      <th></th>\n",
       "    </tr>\n",
       "  </thead>\n",
       "  <tbody>\n",
       "    <tr>\n",
       "      <td>AUSTRÁLIA</td>\n",
       "      <td>3.128360e+05</td>\n",
       "    </tr>\n",
       "    <tr>\n",
       "      <td>Alemanha</td>\n",
       "      <td>1.184607e+06</td>\n",
       "    </tr>\n",
       "    <tr>\n",
       "      <td>Angola</td>\n",
       "      <td>1.577333e+05</td>\n",
       "    </tr>\n",
       "    <tr>\n",
       "      <td>Antígua e Barbuda</td>\n",
       "      <td>1.155660e+03</td>\n",
       "    </tr>\n",
       "    <tr>\n",
       "      <td>Argentina</td>\n",
       "      <td>1.304602e+06</td>\n",
       "    </tr>\n",
       "    <tr>\n",
       "      <td>...</td>\n",
       "      <td>...</td>\n",
       "    </tr>\n",
       "    <tr>\n",
       "      <td>Zimbábue</td>\n",
       "      <td>1.142019e+04</td>\n",
       "    </tr>\n",
       "    <tr>\n",
       "      <td>África do Sul</td>\n",
       "      <td>4.889698e+05</td>\n",
       "    </tr>\n",
       "    <tr>\n",
       "      <td>Áustria</td>\n",
       "      <td>2.298281e+05</td>\n",
       "    </tr>\n",
       "    <tr>\n",
       "      <td>ÍNDIA</td>\n",
       "      <td>6.411056e+02</td>\n",
       "    </tr>\n",
       "    <tr>\n",
       "      <td>Índia</td>\n",
       "      <td>3.482239e+05</td>\n",
       "    </tr>\n",
       "  </tbody>\n",
       "</table>\n",
       "<p>128 rows × 1 columns</p>\n",
       "</div>"
      ],
      "text/plain": [
       "                      TicketValue\n",
       "CountryOriginOneWay              \n",
       "AUSTRÁLIA            3.128360e+05\n",
       "Alemanha             1.184607e+06\n",
       "Angola               1.577333e+05\n",
       "Antígua e Barbuda    1.155660e+03\n",
       "Argentina            1.304602e+06\n",
       "...                           ...\n",
       "Zimbábue             1.142019e+04\n",
       "África do Sul        4.889698e+05\n",
       "Áustria              2.298281e+05\n",
       "ÍNDIA                6.411056e+02\n",
       "Índia                3.482239e+05\n",
       "\n",
       "[128 rows x 1 columns]"
      ]
     },
     "execution_count": 31,
     "metadata": {},
     "output_type": "execute_result"
    }
   ],
   "source": [
    "passages_df.groupby(['CountryOriginOneWay']).sum()"
   ]
  },
  {
   "cell_type": "code",
   "execution_count": 74,
   "metadata": {},
   "outputs": [
    {
     "data": {
      "text/plain": [
       "array(['Brasil', 'França', 'Suécia', 'Estados Unidos da América',\n",
       "       'Espanha', 'Suíça', 'Emirados Árabes', 'Venezuela', 'Suiça',\n",
       "       'Portugal', 'Países Baixos', 'Cuba', 'Itália', 'Noruega', 'Rússia',\n",
       "       'Israel', 'Índia', 'África do Sul', 'Coréia do Sul', 'Uruguai',\n",
       "       'Áustria', 'Moçambique', 'Chile', 'Panamá', 'Alemanha', 'Irlanda',\n",
       "       'Bélgica', 'México', 'China', 'Bolívia', 'Turquia', 'El Salvador',\n",
       "       'Colômbia', 'Canadá', 'Egito', 'Porto Rico', 'Reino Unido',\n",
       "       'Filipinas', 'Cingapura', 'Catar', 'Malta', 'Peru', 'Paraguai',\n",
       "       'Austrália', 'Angola', 'Nigéria', 'Grécia', 'Argentina',\n",
       "       'República Dominicana', 'Quênia', 'Hong Kong', 'Haiti', 'Líbano',\n",
       "       'Guatemala', 'Timor Leste', 'Dinamarca', 'Benin', 'Malásia',\n",
       "       'Hungria', 'Vietnã', 'Romênia', 'Japão', 'Trinidad e Tobago',\n",
       "       'Azerbaidjão', 'Suriname', 'Tailândia', 'Costa Rica', 'Equador',\n",
       "       'Indonésia', 'Islândia', 'Polônia', 'Camarões', 'Nicarágua',\n",
       "       'Cabo Verde', 'Nova Zelândia', 'República Tcheca', 'Ruanda',\n",
       "       'Malí', 'Finlândia', 'Bulgária', 'Marrocos', 'Maurício', 'Croácia',\n",
       "       'Irã', 'Honduras', 'Sri Lanka', 'Guiana (Guiana Inglesa)',\n",
       "       'Zimbábue', 'São Tomé e Príncipe', 'Uganda', 'Eslovênia', 'Taiwan',\n",
       "       'Geórgia', 'Barbados', 'Jamaica', 'Cazaquistão', 'Bareine',\n",
       "       'Luxemburgo', 'Tunísia', 'Argélia', 'Bósnia-Herzegóvina', 'Sérvia',\n",
       "       'Guiana Francesa', 'Senegal', 'Costa do Marfim', 'Granada',\n",
       "       'Letônia', 'Ucrânia', 'Antígua e Barbuda', 'Jordânia',\n",
       "       'Ilhas Galápagos', 'Etiópia', 'Guiné Bissau', 'Bahamas', 'Omã',\n",
       "       'Arábia Saudita', 'Paquistão', 'Santa Lúcia', 'Kuaite'],\n",
       "      dtype=object)"
      ]
     },
     "execution_count": 74,
     "metadata": {},
     "output_type": "execute_result"
    }
   ],
   "source": [
    "passages_df.CountryOriginOneWay.unique()"
   ]
  },
  {
   "cell_type": "code",
   "execution_count": 39,
   "metadata": {},
   "outputs": [],
   "source": [
    "passages_df.loc[passages_df.CountryOriginOneWay == 'COLÔMBIA', 'CountryOriginOneWay'] = 'Colômbia'"
   ]
  },
  {
   "cell_type": "code",
   "execution_count": 40,
   "metadata": {},
   "outputs": [
    {
     "data": {
      "text/html": [
       "<div>\n",
       "<style scoped>\n",
       "    .dataframe tbody tr th:only-of-type {\n",
       "        vertical-align: middle;\n",
       "    }\n",
       "\n",
       "    .dataframe tbody tr th {\n",
       "        vertical-align: top;\n",
       "    }\n",
       "\n",
       "    .dataframe thead th {\n",
       "        text-align: right;\n",
       "    }\n",
       "</style>\n",
       "<table border=\"1\" class=\"dataframe\">\n",
       "  <thead>\n",
       "    <tr style=\"text-align: right;\">\n",
       "      <th></th>\n",
       "      <th>MeanOfTransportOneWay</th>\n",
       "      <th>CountryOriginOneWay</th>\n",
       "      <th>DistrictOriginOneWay</th>\n",
       "      <th>CityOriginOneWay</th>\n",
       "      <th>CountryDestinyOneWay</th>\n",
       "      <th>DistrictDestinyOneWay</th>\n",
       "      <th>CityDestinyOneWay</th>\n",
       "      <th>TicketValue</th>\n",
       "    </tr>\n",
       "  </thead>\n",
       "  <tbody>\n",
       "  </tbody>\n",
       "</table>\n",
       "</div>"
      ],
      "text/plain": [
       "Empty DataFrame\n",
       "Columns: [MeanOfTransportOneWay, CountryOriginOneWay, DistrictOriginOneWay, CityOriginOneWay, CountryDestinyOneWay, DistrictDestinyOneWay, CityDestinyOneWay, TicketValue]\n",
       "Index: []"
      ]
     },
     "execution_count": 40,
     "metadata": {},
     "output_type": "execute_result"
    }
   ],
   "source": [
    "passages_df.loc[passages_df.CountryOriginOneWay == 'COLÔMBIA']"
   ]
  },
  {
   "cell_type": "code",
   "execution_count": 42,
   "metadata": {},
   "outputs": [],
   "source": [
    "passages_df.loc[passages_df.CountryOriginOneWay == 'ESTADOS UNIDOS DA AMÉRICA', 'CountryOriginOneWay'] = 'Estados Unidos da América'"
   ]
  },
  {
   "cell_type": "code",
   "execution_count": 43,
   "metadata": {},
   "outputs": [
    {
     "data": {
      "text/html": [
       "<div>\n",
       "<style scoped>\n",
       "    .dataframe tbody tr th:only-of-type {\n",
       "        vertical-align: middle;\n",
       "    }\n",
       "\n",
       "    .dataframe tbody tr th {\n",
       "        vertical-align: top;\n",
       "    }\n",
       "\n",
       "    .dataframe thead th {\n",
       "        text-align: right;\n",
       "    }\n",
       "</style>\n",
       "<table border=\"1\" class=\"dataframe\">\n",
       "  <thead>\n",
       "    <tr style=\"text-align: right;\">\n",
       "      <th></th>\n",
       "      <th>MeanOfTransportOneWay</th>\n",
       "      <th>CountryOriginOneWay</th>\n",
       "      <th>DistrictOriginOneWay</th>\n",
       "      <th>CityOriginOneWay</th>\n",
       "      <th>CountryDestinyOneWay</th>\n",
       "      <th>DistrictDestinyOneWay</th>\n",
       "      <th>CityDestinyOneWay</th>\n",
       "      <th>TicketValue</th>\n",
       "    </tr>\n",
       "  </thead>\n",
       "  <tbody>\n",
       "  </tbody>\n",
       "</table>\n",
       "</div>"
      ],
      "text/plain": [
       "Empty DataFrame\n",
       "Columns: [MeanOfTransportOneWay, CountryOriginOneWay, DistrictOriginOneWay, CityOriginOneWay, CountryDestinyOneWay, DistrictDestinyOneWay, CityDestinyOneWay, TicketValue]\n",
       "Index: []"
      ]
     },
     "execution_count": 43,
     "metadata": {},
     "output_type": "execute_result"
    }
   ],
   "source": [
    "passages_df.loc[passages_df.CountryOriginOneWay == 'ESTADOS UNIDOS DA AMÉRICA']"
   ]
  },
  {
   "cell_type": "code",
   "execution_count": 45,
   "metadata": {},
   "outputs": [],
   "source": [
    "passages_df.loc[passages_df.CountryOriginOneWay == 'PANAMÁ', 'CountryOriginOneWay'] = 'Panamá'"
   ]
  },
  {
   "cell_type": "code",
   "execution_count": 46,
   "metadata": {},
   "outputs": [
    {
     "data": {
      "text/html": [
       "<div>\n",
       "<style scoped>\n",
       "    .dataframe tbody tr th:only-of-type {\n",
       "        vertical-align: middle;\n",
       "    }\n",
       "\n",
       "    .dataframe tbody tr th {\n",
       "        vertical-align: top;\n",
       "    }\n",
       "\n",
       "    .dataframe thead th {\n",
       "        text-align: right;\n",
       "    }\n",
       "</style>\n",
       "<table border=\"1\" class=\"dataframe\">\n",
       "  <thead>\n",
       "    <tr style=\"text-align: right;\">\n",
       "      <th></th>\n",
       "      <th>MeanOfTransportOneWay</th>\n",
       "      <th>CountryOriginOneWay</th>\n",
       "      <th>DistrictOriginOneWay</th>\n",
       "      <th>CityOriginOneWay</th>\n",
       "      <th>CountryDestinyOneWay</th>\n",
       "      <th>DistrictDestinyOneWay</th>\n",
       "      <th>CityDestinyOneWay</th>\n",
       "      <th>TicketValue</th>\n",
       "    </tr>\n",
       "  </thead>\n",
       "  <tbody>\n",
       "  </tbody>\n",
       "</table>\n",
       "</div>"
      ],
      "text/plain": [
       "Empty DataFrame\n",
       "Columns: [MeanOfTransportOneWay, CountryOriginOneWay, DistrictOriginOneWay, CityOriginOneWay, CountryDestinyOneWay, DistrictDestinyOneWay, CityDestinyOneWay, TicketValue]\n",
       "Index: []"
      ]
     },
     "execution_count": 46,
     "metadata": {},
     "output_type": "execute_result"
    }
   ],
   "source": [
    "passages_df.loc[passages_df.CountryOriginOneWay == 'PANAMÁ']"
   ]
  },
  {
   "cell_type": "code",
   "execution_count": 48,
   "metadata": {},
   "outputs": [],
   "source": [
    "passages_df.loc[passages_df.CountryOriginOneWay == 'FINLÂNDIA', 'CountryOriginOneWay'] = 'Finlândia'"
   ]
  },
  {
   "cell_type": "code",
   "execution_count": 49,
   "metadata": {},
   "outputs": [
    {
     "data": {
      "text/html": [
       "<div>\n",
       "<style scoped>\n",
       "    .dataframe tbody tr th:only-of-type {\n",
       "        vertical-align: middle;\n",
       "    }\n",
       "\n",
       "    .dataframe tbody tr th {\n",
       "        vertical-align: top;\n",
       "    }\n",
       "\n",
       "    .dataframe thead th {\n",
       "        text-align: right;\n",
       "    }\n",
       "</style>\n",
       "<table border=\"1\" class=\"dataframe\">\n",
       "  <thead>\n",
       "    <tr style=\"text-align: right;\">\n",
       "      <th></th>\n",
       "      <th>MeanOfTransportOneWay</th>\n",
       "      <th>CountryOriginOneWay</th>\n",
       "      <th>DistrictOriginOneWay</th>\n",
       "      <th>CityOriginOneWay</th>\n",
       "      <th>CountryDestinyOneWay</th>\n",
       "      <th>DistrictDestinyOneWay</th>\n",
       "      <th>CityDestinyOneWay</th>\n",
       "      <th>TicketValue</th>\n",
       "    </tr>\n",
       "  </thead>\n",
       "  <tbody>\n",
       "  </tbody>\n",
       "</table>\n",
       "</div>"
      ],
      "text/plain": [
       "Empty DataFrame\n",
       "Columns: [MeanOfTransportOneWay, CountryOriginOneWay, DistrictOriginOneWay, CityOriginOneWay, CountryDestinyOneWay, DistrictDestinyOneWay, CityDestinyOneWay, TicketValue]\n",
       "Index: []"
      ]
     },
     "execution_count": 49,
     "metadata": {},
     "output_type": "execute_result"
    }
   ],
   "source": [
    "passages_df.loc[passages_df.CountryOriginOneWay == 'FINLÂNDIA']"
   ]
  },
  {
   "cell_type": "code",
   "execution_count": 51,
   "metadata": {},
   "outputs": [],
   "source": [
    "passages_df.loc[passages_df.CountryOriginOneWay == 'REPÚBLICA DOMINICANA', 'CountryOriginOneWay'] = 'República Dominicana'"
   ]
  },
  {
   "cell_type": "code",
   "execution_count": 52,
   "metadata": {},
   "outputs": [
    {
     "data": {
      "text/html": [
       "<div>\n",
       "<style scoped>\n",
       "    .dataframe tbody tr th:only-of-type {\n",
       "        vertical-align: middle;\n",
       "    }\n",
       "\n",
       "    .dataframe tbody tr th {\n",
       "        vertical-align: top;\n",
       "    }\n",
       "\n",
       "    .dataframe thead th {\n",
       "        text-align: right;\n",
       "    }\n",
       "</style>\n",
       "<table border=\"1\" class=\"dataframe\">\n",
       "  <thead>\n",
       "    <tr style=\"text-align: right;\">\n",
       "      <th></th>\n",
       "      <th>MeanOfTransportOneWay</th>\n",
       "      <th>CountryOriginOneWay</th>\n",
       "      <th>DistrictOriginOneWay</th>\n",
       "      <th>CityOriginOneWay</th>\n",
       "      <th>CountryDestinyOneWay</th>\n",
       "      <th>DistrictDestinyOneWay</th>\n",
       "      <th>CityDestinyOneWay</th>\n",
       "      <th>TicketValue</th>\n",
       "    </tr>\n",
       "  </thead>\n",
       "  <tbody>\n",
       "  </tbody>\n",
       "</table>\n",
       "</div>"
      ],
      "text/plain": [
       "Empty DataFrame\n",
       "Columns: [MeanOfTransportOneWay, CountryOriginOneWay, DistrictOriginOneWay, CityOriginOneWay, CountryDestinyOneWay, DistrictDestinyOneWay, CityDestinyOneWay, TicketValue]\n",
       "Index: []"
      ]
     },
     "execution_count": 52,
     "metadata": {},
     "output_type": "execute_result"
    }
   ],
   "source": [
    "passages_df.loc[passages_df.CountryOriginOneWay == 'REPÚBLICA DOMINICANA']"
   ]
  },
  {
   "cell_type": "code",
   "execution_count": 55,
   "metadata": {},
   "outputs": [],
   "source": [
    "passages_df.loc[passages_df.CountryOriginOneWay == 'ÍNDIA', 'CountryOriginOneWay'] = 'Índia'"
   ]
  },
  {
   "cell_type": "code",
   "execution_count": 56,
   "metadata": {},
   "outputs": [
    {
     "data": {
      "text/html": [
       "<div>\n",
       "<style scoped>\n",
       "    .dataframe tbody tr th:only-of-type {\n",
       "        vertical-align: middle;\n",
       "    }\n",
       "\n",
       "    .dataframe tbody tr th {\n",
       "        vertical-align: top;\n",
       "    }\n",
       "\n",
       "    .dataframe thead th {\n",
       "        text-align: right;\n",
       "    }\n",
       "</style>\n",
       "<table border=\"1\" class=\"dataframe\">\n",
       "  <thead>\n",
       "    <tr style=\"text-align: right;\">\n",
       "      <th></th>\n",
       "      <th>MeanOfTransportOneWay</th>\n",
       "      <th>CountryOriginOneWay</th>\n",
       "      <th>DistrictOriginOneWay</th>\n",
       "      <th>CityOriginOneWay</th>\n",
       "      <th>CountryDestinyOneWay</th>\n",
       "      <th>DistrictDestinyOneWay</th>\n",
       "      <th>CityDestinyOneWay</th>\n",
       "      <th>TicketValue</th>\n",
       "    </tr>\n",
       "  </thead>\n",
       "  <tbody>\n",
       "  </tbody>\n",
       "</table>\n",
       "</div>"
      ],
      "text/plain": [
       "Empty DataFrame\n",
       "Columns: [MeanOfTransportOneWay, CountryOriginOneWay, DistrictOriginOneWay, CityOriginOneWay, CountryDestinyOneWay, DistrictDestinyOneWay, CityDestinyOneWay, TicketValue]\n",
       "Index: []"
      ]
     },
     "execution_count": 56,
     "metadata": {},
     "output_type": "execute_result"
    }
   ],
   "source": [
    "passages_df.loc[passages_df.CountryOriginOneWay == 'ÍNDIA']"
   ]
  },
  {
   "cell_type": "code",
   "execution_count": 59,
   "metadata": {},
   "outputs": [],
   "source": [
    "passages_df.loc[passages_df.CountryOriginOneWay == 'REINO UNIDO', 'CountryOriginOneWay'] = 'Reino Unido'"
   ]
  },
  {
   "cell_type": "code",
   "execution_count": 60,
   "metadata": {},
   "outputs": [
    {
     "data": {
      "text/html": [
       "<div>\n",
       "<style scoped>\n",
       "    .dataframe tbody tr th:only-of-type {\n",
       "        vertical-align: middle;\n",
       "    }\n",
       "\n",
       "    .dataframe tbody tr th {\n",
       "        vertical-align: top;\n",
       "    }\n",
       "\n",
       "    .dataframe thead th {\n",
       "        text-align: right;\n",
       "    }\n",
       "</style>\n",
       "<table border=\"1\" class=\"dataframe\">\n",
       "  <thead>\n",
       "    <tr style=\"text-align: right;\">\n",
       "      <th></th>\n",
       "      <th>MeanOfTransportOneWay</th>\n",
       "      <th>CountryOriginOneWay</th>\n",
       "      <th>DistrictOriginOneWay</th>\n",
       "      <th>CityOriginOneWay</th>\n",
       "      <th>CountryDestinyOneWay</th>\n",
       "      <th>DistrictDestinyOneWay</th>\n",
       "      <th>CityDestinyOneWay</th>\n",
       "      <th>TicketValue</th>\n",
       "    </tr>\n",
       "  </thead>\n",
       "  <tbody>\n",
       "  </tbody>\n",
       "</table>\n",
       "</div>"
      ],
      "text/plain": [
       "Empty DataFrame\n",
       "Columns: [MeanOfTransportOneWay, CountryOriginOneWay, DistrictOriginOneWay, CityOriginOneWay, CountryDestinyOneWay, DistrictDestinyOneWay, CityDestinyOneWay, TicketValue]\n",
       "Index: []"
      ]
     },
     "execution_count": 60,
     "metadata": {},
     "output_type": "execute_result"
    }
   ],
   "source": [
    "passages_df.loc[passages_df.CountryOriginOneWay == 'REINO UNIDO']"
   ]
  },
  {
   "cell_type": "code",
   "execution_count": 63,
   "metadata": {},
   "outputs": [],
   "source": [
    "passages_df.loc[passages_df.CountryOriginOneWay == 'SUÍÇA', 'CountryOriginOneWay'] = 'Suiça'"
   ]
  },
  {
   "cell_type": "code",
   "execution_count": 64,
   "metadata": {},
   "outputs": [
    {
     "data": {
      "text/html": [
       "<div>\n",
       "<style scoped>\n",
       "    .dataframe tbody tr th:only-of-type {\n",
       "        vertical-align: middle;\n",
       "    }\n",
       "\n",
       "    .dataframe tbody tr th {\n",
       "        vertical-align: top;\n",
       "    }\n",
       "\n",
       "    .dataframe thead th {\n",
       "        text-align: right;\n",
       "    }\n",
       "</style>\n",
       "<table border=\"1\" class=\"dataframe\">\n",
       "  <thead>\n",
       "    <tr style=\"text-align: right;\">\n",
       "      <th></th>\n",
       "      <th>MeanOfTransportOneWay</th>\n",
       "      <th>CountryOriginOneWay</th>\n",
       "      <th>DistrictOriginOneWay</th>\n",
       "      <th>CityOriginOneWay</th>\n",
       "      <th>CountryDestinyOneWay</th>\n",
       "      <th>DistrictDestinyOneWay</th>\n",
       "      <th>CityDestinyOneWay</th>\n",
       "      <th>TicketValue</th>\n",
       "    </tr>\n",
       "  </thead>\n",
       "  <tbody>\n",
       "  </tbody>\n",
       "</table>\n",
       "</div>"
      ],
      "text/plain": [
       "Empty DataFrame\n",
       "Columns: [MeanOfTransportOneWay, CountryOriginOneWay, DistrictOriginOneWay, CityOriginOneWay, CountryDestinyOneWay, DistrictDestinyOneWay, CityDestinyOneWay, TicketValue]\n",
       "Index: []"
      ]
     },
     "execution_count": 64,
     "metadata": {},
     "output_type": "execute_result"
    }
   ],
   "source": [
    "passages_df.loc[passages_df.CountryOriginOneWay == 'SUÍÇA']"
   ]
  },
  {
   "cell_type": "code",
   "execution_count": 67,
   "metadata": {},
   "outputs": [],
   "source": [
    "passages_df.loc[passages_df.CountryOriginOneWay == 'EQUADOR', 'CountryOriginOneWay'] = 'Equador'"
   ]
  },
  {
   "cell_type": "code",
   "execution_count": 68,
   "metadata": {},
   "outputs": [
    {
     "data": {
      "text/html": [
       "<div>\n",
       "<style scoped>\n",
       "    .dataframe tbody tr th:only-of-type {\n",
       "        vertical-align: middle;\n",
       "    }\n",
       "\n",
       "    .dataframe tbody tr th {\n",
       "        vertical-align: top;\n",
       "    }\n",
       "\n",
       "    .dataframe thead th {\n",
       "        text-align: right;\n",
       "    }\n",
       "</style>\n",
       "<table border=\"1\" class=\"dataframe\">\n",
       "  <thead>\n",
       "    <tr style=\"text-align: right;\">\n",
       "      <th></th>\n",
       "      <th>MeanOfTransportOneWay</th>\n",
       "      <th>CountryOriginOneWay</th>\n",
       "      <th>DistrictOriginOneWay</th>\n",
       "      <th>CityOriginOneWay</th>\n",
       "      <th>CountryDestinyOneWay</th>\n",
       "      <th>DistrictDestinyOneWay</th>\n",
       "      <th>CityDestinyOneWay</th>\n",
       "      <th>TicketValue</th>\n",
       "    </tr>\n",
       "  </thead>\n",
       "  <tbody>\n",
       "  </tbody>\n",
       "</table>\n",
       "</div>"
      ],
      "text/plain": [
       "Empty DataFrame\n",
       "Columns: [MeanOfTransportOneWay, CountryOriginOneWay, DistrictOriginOneWay, CityOriginOneWay, CountryDestinyOneWay, DistrictDestinyOneWay, CityDestinyOneWay, TicketValue]\n",
       "Index: []"
      ]
     },
     "execution_count": 68,
     "metadata": {},
     "output_type": "execute_result"
    }
   ],
   "source": [
    "passages_df.loc[passages_df.CountryOriginOneWay == 'EQUADOR']"
   ]
  },
  {
   "cell_type": "code",
   "execution_count": 72,
   "metadata": {},
   "outputs": [],
   "source": [
    "passages_df.loc[passages_df.CountryOriginOneWay == 'AUSTRÁLIA', 'CountryOriginOneWay'] = 'Austrália'"
   ]
  },
  {
   "cell_type": "code",
   "execution_count": 73,
   "metadata": {},
   "outputs": [
    {
     "data": {
      "text/html": [
       "<div>\n",
       "<style scoped>\n",
       "    .dataframe tbody tr th:only-of-type {\n",
       "        vertical-align: middle;\n",
       "    }\n",
       "\n",
       "    .dataframe tbody tr th {\n",
       "        vertical-align: top;\n",
       "    }\n",
       "\n",
       "    .dataframe thead th {\n",
       "        text-align: right;\n",
       "    }\n",
       "</style>\n",
       "<table border=\"1\" class=\"dataframe\">\n",
       "  <thead>\n",
       "    <tr style=\"text-align: right;\">\n",
       "      <th></th>\n",
       "      <th>MeanOfTransportOneWay</th>\n",
       "      <th>CountryOriginOneWay</th>\n",
       "      <th>DistrictOriginOneWay</th>\n",
       "      <th>CityOriginOneWay</th>\n",
       "      <th>CountryDestinyOneWay</th>\n",
       "      <th>DistrictDestinyOneWay</th>\n",
       "      <th>CityDestinyOneWay</th>\n",
       "      <th>TicketValue</th>\n",
       "    </tr>\n",
       "  </thead>\n",
       "  <tbody>\n",
       "  </tbody>\n",
       "</table>\n",
       "</div>"
      ],
      "text/plain": [
       "Empty DataFrame\n",
       "Columns: [MeanOfTransportOneWay, CountryOriginOneWay, DistrictOriginOneWay, CityOriginOneWay, CountryDestinyOneWay, DistrictDestinyOneWay, CityDestinyOneWay, TicketValue]\n",
       "Index: []"
      ]
     },
     "execution_count": 73,
     "metadata": {},
     "output_type": "execute_result"
    }
   ],
   "source": [
    "passages_df.loc[passages_df.CountryOriginOneWay == 'AUSTRÁLIA']"
   ]
  },
  {
   "cell_type": "code",
   "execution_count": 76,
   "metadata": {},
   "outputs": [
    {
     "data": {
      "text/html": [
       "<div>\n",
       "<style scoped>\n",
       "    .dataframe tbody tr th:only-of-type {\n",
       "        vertical-align: middle;\n",
       "    }\n",
       "\n",
       "    .dataframe tbody tr th {\n",
       "        vertical-align: top;\n",
       "    }\n",
       "\n",
       "    .dataframe thead th {\n",
       "        text-align: right;\n",
       "    }\n",
       "</style>\n",
       "<table border=\"1\" class=\"dataframe\">\n",
       "  <thead>\n",
       "    <tr style=\"text-align: right;\">\n",
       "      <th></th>\n",
       "      <th>CountryOriginOneWay</th>\n",
       "      <th>TicketValue</th>\n",
       "    </tr>\n",
       "  </thead>\n",
       "  <tbody>\n",
       "    <tr>\n",
       "      <td>0</td>\n",
       "      <td>Alemanha</td>\n",
       "      <td>1.184607e+06</td>\n",
       "    </tr>\n",
       "    <tr>\n",
       "      <td>1</td>\n",
       "      <td>Angola</td>\n",
       "      <td>1.577333e+05</td>\n",
       "    </tr>\n",
       "    <tr>\n",
       "      <td>2</td>\n",
       "      <td>Antígua e Barbuda</td>\n",
       "      <td>1.155660e+03</td>\n",
       "    </tr>\n",
       "    <tr>\n",
       "      <td>3</td>\n",
       "      <td>Argentina</td>\n",
       "      <td>1.304602e+06</td>\n",
       "    </tr>\n",
       "    <tr>\n",
       "      <td>4</td>\n",
       "      <td>Argélia</td>\n",
       "      <td>1.385554e+04</td>\n",
       "    </tr>\n",
       "    <tr>\n",
       "      <td>...</td>\n",
       "      <td>...</td>\n",
       "      <td>...</td>\n",
       "    </tr>\n",
       "    <tr>\n",
       "      <td>114</td>\n",
       "      <td>Vietnã</td>\n",
       "      <td>2.509675e+04</td>\n",
       "    </tr>\n",
       "    <tr>\n",
       "      <td>115</td>\n",
       "      <td>Zimbábue</td>\n",
       "      <td>1.142019e+04</td>\n",
       "    </tr>\n",
       "    <tr>\n",
       "      <td>116</td>\n",
       "      <td>África do Sul</td>\n",
       "      <td>4.889698e+05</td>\n",
       "    </tr>\n",
       "    <tr>\n",
       "      <td>117</td>\n",
       "      <td>Áustria</td>\n",
       "      <td>2.298281e+05</td>\n",
       "    </tr>\n",
       "    <tr>\n",
       "      <td>118</td>\n",
       "      <td>Índia</td>\n",
       "      <td>3.488650e+05</td>\n",
       "    </tr>\n",
       "  </tbody>\n",
       "</table>\n",
       "<p>119 rows × 2 columns</p>\n",
       "</div>"
      ],
      "text/plain": [
       "    CountryOriginOneWay   TicketValue\n",
       "0              Alemanha  1.184607e+06\n",
       "1                Angola  1.577333e+05\n",
       "2     Antígua e Barbuda  1.155660e+03\n",
       "3             Argentina  1.304602e+06\n",
       "4               Argélia  1.385554e+04\n",
       "..                  ...           ...\n",
       "114              Vietnã  2.509675e+04\n",
       "115            Zimbábue  1.142019e+04\n",
       "116       África do Sul  4.889698e+05\n",
       "117             Áustria  2.298281e+05\n",
       "118               Índia  3.488650e+05\n",
       "\n",
       "[119 rows x 2 columns]"
      ]
     },
     "execution_count": 76,
     "metadata": {},
     "output_type": "execute_result"
    }
   ],
   "source": [
    "passages_df.groupby(['CountryOriginOneWay']).sum().reset_index()"
   ]
  },
  {
   "cell_type": "code",
   "execution_count": 80,
   "metadata": {},
   "outputs": [
    {
     "data": {
      "application/vnd.plotly.v1+json": {
       "config": {
        "linkText": "Export to plot.ly",
        "plotlyServerURL": "https://plot.ly",
        "showLink": false
       },
       "data": [
        {
         "name": "Brasil",
         "type": "bar",
         "x": [
          "Brasil"
         ],
         "y": [
          438856433.5011376
         ]
        },
        {
         "name": "Estados Unidos da América",
         "type": "bar",
         "x": [
          "Estados Unidos da América"
         ],
         "y": [
          5773500.94621064
         ]
        },
        {
         "name": "França",
         "type": "bar",
         "x": [
          "França"
         ],
         "y": [
          2752106.014733306
         ]
        },
        {
         "name": "Portugal",
         "type": "bar",
         "x": [
          "Portugal"
         ],
         "y": [
          2523572.0124494345
         ]
        },
        {
         "name": "Espanha",
         "type": "bar",
         "x": [
          "Espanha"
         ],
         "y": [
          1513601.7522300954
         ]
        },
        {
         "name": "Argentina",
         "type": "bar",
         "x": [
          "Argentina"
         ],
         "y": [
          1304602.2713075052
         ]
        },
        {
         "name": "Reino Unido",
         "type": "bar",
         "x": [
          "Reino Unido"
         ],
         "y": [
          1292217.443045151
         ]
        },
        {
         "name": "China",
         "type": "bar",
         "x": [
          "China"
         ],
         "y": [
          1271727.546739782
         ]
        },
        {
         "name": "Alemanha",
         "type": "bar",
         "x": [
          "Alemanha"
         ],
         "y": [
          1184606.5017956868
         ]
        },
        {
         "name": "Itália",
         "type": "bar",
         "x": [
          "Itália"
         ],
         "y": [
          980622.8822838647
         ]
        },
        {
         "name": "Suíça",
         "type": "bar",
         "x": [
          "Suíça"
         ],
         "y": [
          968854.1347290277
         ]
        },
        {
         "name": "México",
         "type": "bar",
         "x": [
          "México"
         ],
         "y": [
          823031.6639139721
         ]
        },
        {
         "name": "Suiça",
         "type": "bar",
         "x": [
          "Suiça"
         ],
         "y": [
          721015.2899462333
         ]
        },
        {
         "name": "Austrália",
         "type": "bar",
         "x": [
          "Austrália"
         ],
         "y": [
          709163.8394580552
         ]
        },
        {
         "name": "Colômbia",
         "type": "bar",
         "x": [
          "Colômbia"
         ],
         "y": [
          705847.5766322465
         ]
        },
        {
         "name": "Canadá",
         "type": "bar",
         "x": [
          "Canadá"
         ],
         "y": [
          628121.2505999869
         ]
        },
        {
         "name": "Peru",
         "type": "bar",
         "x": [
          "Peru"
         ],
         "y": [
          606024.4554365483
         ]
        },
        {
         "name": "Uruguai",
         "type": "bar",
         "x": [
          "Uruguai"
         ],
         "y": [
          569391.3954903146
         ]
        },
        {
         "name": "Chile",
         "type": "bar",
         "x": [
          "Chile"
         ],
         "y": [
          533721.0714688089
         ]
        },
        {
         "name": "Venezuela",
         "type": "bar",
         "x": [
          "Venezuela"
         ],
         "y": [
          518060.64315268444
         ]
        }
       ],
       "layout": {
        "barmode": "group",
        "template": {
         "data": {
          "bar": [
           {
            "error_x": {
             "color": "#2a3f5f"
            },
            "error_y": {
             "color": "#2a3f5f"
            },
            "marker": {
             "line": {
              "color": "#E5ECF6",
              "width": 0.5
             }
            },
            "type": "bar"
           }
          ],
          "barpolar": [
           {
            "marker": {
             "line": {
              "color": "#E5ECF6",
              "width": 0.5
             }
            },
            "type": "barpolar"
           }
          ],
          "carpet": [
           {
            "aaxis": {
             "endlinecolor": "#2a3f5f",
             "gridcolor": "white",
             "linecolor": "white",
             "minorgridcolor": "white",
             "startlinecolor": "#2a3f5f"
            },
            "baxis": {
             "endlinecolor": "#2a3f5f",
             "gridcolor": "white",
             "linecolor": "white",
             "minorgridcolor": "white",
             "startlinecolor": "#2a3f5f"
            },
            "type": "carpet"
           }
          ],
          "choropleth": [
           {
            "colorbar": {
             "outlinewidth": 0,
             "ticks": ""
            },
            "type": "choropleth"
           }
          ],
          "contour": [
           {
            "colorbar": {
             "outlinewidth": 0,
             "ticks": ""
            },
            "colorscale": [
             [
              0,
              "#0d0887"
             ],
             [
              0.1111111111111111,
              "#46039f"
             ],
             [
              0.2222222222222222,
              "#7201a8"
             ],
             [
              0.3333333333333333,
              "#9c179e"
             ],
             [
              0.4444444444444444,
              "#bd3786"
             ],
             [
              0.5555555555555556,
              "#d8576b"
             ],
             [
              0.6666666666666666,
              "#ed7953"
             ],
             [
              0.7777777777777778,
              "#fb9f3a"
             ],
             [
              0.8888888888888888,
              "#fdca26"
             ],
             [
              1,
              "#f0f921"
             ]
            ],
            "type": "contour"
           }
          ],
          "contourcarpet": [
           {
            "colorbar": {
             "outlinewidth": 0,
             "ticks": ""
            },
            "type": "contourcarpet"
           }
          ],
          "heatmap": [
           {
            "colorbar": {
             "outlinewidth": 0,
             "ticks": ""
            },
            "colorscale": [
             [
              0,
              "#0d0887"
             ],
             [
              0.1111111111111111,
              "#46039f"
             ],
             [
              0.2222222222222222,
              "#7201a8"
             ],
             [
              0.3333333333333333,
              "#9c179e"
             ],
             [
              0.4444444444444444,
              "#bd3786"
             ],
             [
              0.5555555555555556,
              "#d8576b"
             ],
             [
              0.6666666666666666,
              "#ed7953"
             ],
             [
              0.7777777777777778,
              "#fb9f3a"
             ],
             [
              0.8888888888888888,
              "#fdca26"
             ],
             [
              1,
              "#f0f921"
             ]
            ],
            "type": "heatmap"
           }
          ],
          "heatmapgl": [
           {
            "colorbar": {
             "outlinewidth": 0,
             "ticks": ""
            },
            "colorscale": [
             [
              0,
              "#0d0887"
             ],
             [
              0.1111111111111111,
              "#46039f"
             ],
             [
              0.2222222222222222,
              "#7201a8"
             ],
             [
              0.3333333333333333,
              "#9c179e"
             ],
             [
              0.4444444444444444,
              "#bd3786"
             ],
             [
              0.5555555555555556,
              "#d8576b"
             ],
             [
              0.6666666666666666,
              "#ed7953"
             ],
             [
              0.7777777777777778,
              "#fb9f3a"
             ],
             [
              0.8888888888888888,
              "#fdca26"
             ],
             [
              1,
              "#f0f921"
             ]
            ],
            "type": "heatmapgl"
           }
          ],
          "histogram": [
           {
            "marker": {
             "colorbar": {
              "outlinewidth": 0,
              "ticks": ""
             }
            },
            "type": "histogram"
           }
          ],
          "histogram2d": [
           {
            "colorbar": {
             "outlinewidth": 0,
             "ticks": ""
            },
            "colorscale": [
             [
              0,
              "#0d0887"
             ],
             [
              0.1111111111111111,
              "#46039f"
             ],
             [
              0.2222222222222222,
              "#7201a8"
             ],
             [
              0.3333333333333333,
              "#9c179e"
             ],
             [
              0.4444444444444444,
              "#bd3786"
             ],
             [
              0.5555555555555556,
              "#d8576b"
             ],
             [
              0.6666666666666666,
              "#ed7953"
             ],
             [
              0.7777777777777778,
              "#fb9f3a"
             ],
             [
              0.8888888888888888,
              "#fdca26"
             ],
             [
              1,
              "#f0f921"
             ]
            ],
            "type": "histogram2d"
           }
          ],
          "histogram2dcontour": [
           {
            "colorbar": {
             "outlinewidth": 0,
             "ticks": ""
            },
            "colorscale": [
             [
              0,
              "#0d0887"
             ],
             [
              0.1111111111111111,
              "#46039f"
             ],
             [
              0.2222222222222222,
              "#7201a8"
             ],
             [
              0.3333333333333333,
              "#9c179e"
             ],
             [
              0.4444444444444444,
              "#bd3786"
             ],
             [
              0.5555555555555556,
              "#d8576b"
             ],
             [
              0.6666666666666666,
              "#ed7953"
             ],
             [
              0.7777777777777778,
              "#fb9f3a"
             ],
             [
              0.8888888888888888,
              "#fdca26"
             ],
             [
              1,
              "#f0f921"
             ]
            ],
            "type": "histogram2dcontour"
           }
          ],
          "mesh3d": [
           {
            "colorbar": {
             "outlinewidth": 0,
             "ticks": ""
            },
            "type": "mesh3d"
           }
          ],
          "parcoords": [
           {
            "line": {
             "colorbar": {
              "outlinewidth": 0,
              "ticks": ""
             }
            },
            "type": "parcoords"
           }
          ],
          "scatter": [
           {
            "marker": {
             "colorbar": {
              "outlinewidth": 0,
              "ticks": ""
             }
            },
            "type": "scatter"
           }
          ],
          "scatter3d": [
           {
            "line": {
             "colorbar": {
              "outlinewidth": 0,
              "ticks": ""
             }
            },
            "marker": {
             "colorbar": {
              "outlinewidth": 0,
              "ticks": ""
             }
            },
            "type": "scatter3d"
           }
          ],
          "scattercarpet": [
           {
            "marker": {
             "colorbar": {
              "outlinewidth": 0,
              "ticks": ""
             }
            },
            "type": "scattercarpet"
           }
          ],
          "scattergeo": [
           {
            "marker": {
             "colorbar": {
              "outlinewidth": 0,
              "ticks": ""
             }
            },
            "type": "scattergeo"
           }
          ],
          "scattergl": [
           {
            "marker": {
             "colorbar": {
              "outlinewidth": 0,
              "ticks": ""
             }
            },
            "type": "scattergl"
           }
          ],
          "scattermapbox": [
           {
            "marker": {
             "colorbar": {
              "outlinewidth": 0,
              "ticks": ""
             }
            },
            "type": "scattermapbox"
           }
          ],
          "scatterpolar": [
           {
            "marker": {
             "colorbar": {
              "outlinewidth": 0,
              "ticks": ""
             }
            },
            "type": "scatterpolar"
           }
          ],
          "scatterpolargl": [
           {
            "marker": {
             "colorbar": {
              "outlinewidth": 0,
              "ticks": ""
             }
            },
            "type": "scatterpolargl"
           }
          ],
          "scatterternary": [
           {
            "marker": {
             "colorbar": {
              "outlinewidth": 0,
              "ticks": ""
             }
            },
            "type": "scatterternary"
           }
          ],
          "surface": [
           {
            "colorbar": {
             "outlinewidth": 0,
             "ticks": ""
            },
            "colorscale": [
             [
              0,
              "#0d0887"
             ],
             [
              0.1111111111111111,
              "#46039f"
             ],
             [
              0.2222222222222222,
              "#7201a8"
             ],
             [
              0.3333333333333333,
              "#9c179e"
             ],
             [
              0.4444444444444444,
              "#bd3786"
             ],
             [
              0.5555555555555556,
              "#d8576b"
             ],
             [
              0.6666666666666666,
              "#ed7953"
             ],
             [
              0.7777777777777778,
              "#fb9f3a"
             ],
             [
              0.8888888888888888,
              "#fdca26"
             ],
             [
              1,
              "#f0f921"
             ]
            ],
            "type": "surface"
           }
          ],
          "table": [
           {
            "cells": {
             "fill": {
              "color": "#EBF0F8"
             },
             "line": {
              "color": "white"
             }
            },
            "header": {
             "fill": {
              "color": "#C8D4E3"
             },
             "line": {
              "color": "white"
             }
            },
            "type": "table"
           }
          ]
         },
         "layout": {
          "annotationdefaults": {
           "arrowcolor": "#2a3f5f",
           "arrowhead": 0,
           "arrowwidth": 1
          },
          "colorscale": {
           "diverging": [
            [
             0,
             "#8e0152"
            ],
            [
             0.1,
             "#c51b7d"
            ],
            [
             0.2,
             "#de77ae"
            ],
            [
             0.3,
             "#f1b6da"
            ],
            [
             0.4,
             "#fde0ef"
            ],
            [
             0.5,
             "#f7f7f7"
            ],
            [
             0.6,
             "#e6f5d0"
            ],
            [
             0.7,
             "#b8e186"
            ],
            [
             0.8,
             "#7fbc41"
            ],
            [
             0.9,
             "#4d9221"
            ],
            [
             1,
             "#276419"
            ]
           ],
           "sequential": [
            [
             0,
             "#0d0887"
            ],
            [
             0.1111111111111111,
             "#46039f"
            ],
            [
             0.2222222222222222,
             "#7201a8"
            ],
            [
             0.3333333333333333,
             "#9c179e"
            ],
            [
             0.4444444444444444,
             "#bd3786"
            ],
            [
             0.5555555555555556,
             "#d8576b"
            ],
            [
             0.6666666666666666,
             "#ed7953"
            ],
            [
             0.7777777777777778,
             "#fb9f3a"
            ],
            [
             0.8888888888888888,
             "#fdca26"
            ],
            [
             1,
             "#f0f921"
            ]
           ],
           "sequentialminus": [
            [
             0,
             "#0d0887"
            ],
            [
             0.1111111111111111,
             "#46039f"
            ],
            [
             0.2222222222222222,
             "#7201a8"
            ],
            [
             0.3333333333333333,
             "#9c179e"
            ],
            [
             0.4444444444444444,
             "#bd3786"
            ],
            [
             0.5555555555555556,
             "#d8576b"
            ],
            [
             0.6666666666666666,
             "#ed7953"
            ],
            [
             0.7777777777777778,
             "#fb9f3a"
            ],
            [
             0.8888888888888888,
             "#fdca26"
            ],
            [
             1,
             "#f0f921"
            ]
           ]
          },
          "colorway": [
           "#636efa",
           "#EF553B",
           "#00cc96",
           "#ab63fa",
           "#FFA15A",
           "#19d3f3",
           "#FF6692",
           "#B6E880",
           "#FF97FF",
           "#FECB52"
          ],
          "font": {
           "color": "#2a3f5f"
          },
          "geo": {
           "bgcolor": "white",
           "lakecolor": "white",
           "landcolor": "#E5ECF6",
           "showlakes": true,
           "showland": true,
           "subunitcolor": "white"
          },
          "hoverlabel": {
           "align": "left"
          },
          "hovermode": "closest",
          "mapbox": {
           "style": "light"
          },
          "paper_bgcolor": "white",
          "plot_bgcolor": "#E5ECF6",
          "polar": {
           "angularaxis": {
            "gridcolor": "white",
            "linecolor": "white",
            "ticks": ""
           },
           "bgcolor": "#E5ECF6",
           "radialaxis": {
            "gridcolor": "white",
            "linecolor": "white",
            "ticks": ""
           }
          },
          "scene": {
           "xaxis": {
            "backgroundcolor": "#E5ECF6",
            "gridcolor": "white",
            "gridwidth": 2,
            "linecolor": "white",
            "showbackground": true,
            "ticks": "",
            "zerolinecolor": "white"
           },
           "yaxis": {
            "backgroundcolor": "#E5ECF6",
            "gridcolor": "white",
            "gridwidth": 2,
            "linecolor": "white",
            "showbackground": true,
            "ticks": "",
            "zerolinecolor": "white"
           },
           "zaxis": {
            "backgroundcolor": "#E5ECF6",
            "gridcolor": "white",
            "gridwidth": 2,
            "linecolor": "white",
            "showbackground": true,
            "ticks": "",
            "zerolinecolor": "white"
           }
          },
          "shapedefaults": {
           "line": {
            "color": "#2a3f5f"
           }
          },
          "ternary": {
           "aaxis": {
            "gridcolor": "white",
            "linecolor": "white",
            "ticks": ""
           },
           "baxis": {
            "gridcolor": "white",
            "linecolor": "white",
            "ticks": ""
           },
           "bgcolor": "#E5ECF6",
           "caxis": {
            "gridcolor": "white",
            "linecolor": "white",
            "ticks": ""
           }
          },
          "title": {
           "x": 0.05
          },
          "xaxis": {
           "automargin": true,
           "gridcolor": "white",
           "linecolor": "white",
           "ticks": "",
           "zerolinecolor": "white",
           "zerolinewidth": 2
          },
          "yaxis": {
           "automargin": true,
           "gridcolor": "white",
           "linecolor": "white",
           "ticks": "",
           "zerolinecolor": "white",
           "zerolinewidth": 2
          }
         }
        },
        "title": {
         "text": "Top 20 Countries - Travels 2014"
        }
       }
      },
      "text/html": [
       "<div>\n",
       "        \n",
       "        \n",
       "            <div id=\"ce53b50e-545d-4887-ac17-b449ec131389\" class=\"plotly-graph-div\" style=\"height:525px; width:100%;\"></div>\n",
       "            <script type=\"text/javascript\">\n",
       "                require([\"plotly\"], function(Plotly) {\n",
       "                    window.PLOTLYENV=window.PLOTLYENV || {};\n",
       "                    \n",
       "                if (document.getElementById(\"ce53b50e-545d-4887-ac17-b449ec131389\")) {\n",
       "                    Plotly.newPlot(\n",
       "                        'ce53b50e-545d-4887-ac17-b449ec131389',\n",
       "                        [{\"name\": \"Brasil\", \"type\": \"bar\", \"x\": [\"Brasil\"], \"y\": [438856433.5011376]}, {\"name\": \"Estados Unidos da Am\\u00e9rica\", \"type\": \"bar\", \"x\": [\"Estados Unidos da Am\\u00e9rica\"], \"y\": [5773500.94621064]}, {\"name\": \"Fran\\u00e7a\", \"type\": \"bar\", \"x\": [\"Fran\\u00e7a\"], \"y\": [2752106.014733306]}, {\"name\": \"Portugal\", \"type\": \"bar\", \"x\": [\"Portugal\"], \"y\": [2523572.0124494345]}, {\"name\": \"Espanha\", \"type\": \"bar\", \"x\": [\"Espanha\"], \"y\": [1513601.7522300954]}, {\"name\": \"Argentina\", \"type\": \"bar\", \"x\": [\"Argentina\"], \"y\": [1304602.2713075052]}, {\"name\": \"Reino Unido\", \"type\": \"bar\", \"x\": [\"Reino Unido\"], \"y\": [1292217.443045151]}, {\"name\": \"China\", \"type\": \"bar\", \"x\": [\"China\"], \"y\": [1271727.546739782]}, {\"name\": \"Alemanha\", \"type\": \"bar\", \"x\": [\"Alemanha\"], \"y\": [1184606.5017956868]}, {\"name\": \"It\\u00e1lia\", \"type\": \"bar\", \"x\": [\"It\\u00e1lia\"], \"y\": [980622.8822838647]}, {\"name\": \"Su\\u00ed\\u00e7a\", \"type\": \"bar\", \"x\": [\"Su\\u00ed\\u00e7a\"], \"y\": [968854.1347290277]}, {\"name\": \"M\\u00e9xico\", \"type\": \"bar\", \"x\": [\"M\\u00e9xico\"], \"y\": [823031.6639139721]}, {\"name\": \"Sui\\u00e7a\", \"type\": \"bar\", \"x\": [\"Sui\\u00e7a\"], \"y\": [721015.2899462333]}, {\"name\": \"Austr\\u00e1lia\", \"type\": \"bar\", \"x\": [\"Austr\\u00e1lia\"], \"y\": [709163.8394580552]}, {\"name\": \"Col\\u00f4mbia\", \"type\": \"bar\", \"x\": [\"Col\\u00f4mbia\"], \"y\": [705847.5766322465]}, {\"name\": \"Canad\\u00e1\", \"type\": \"bar\", \"x\": [\"Canad\\u00e1\"], \"y\": [628121.2505999869]}, {\"name\": \"Peru\", \"type\": \"bar\", \"x\": [\"Peru\"], \"y\": [606024.4554365483]}, {\"name\": \"Uruguai\", \"type\": \"bar\", \"x\": [\"Uruguai\"], \"y\": [569391.3954903146]}, {\"name\": \"Chile\", \"type\": \"bar\", \"x\": [\"Chile\"], \"y\": [533721.0714688089]}, {\"name\": \"Venezuela\", \"type\": \"bar\", \"x\": [\"Venezuela\"], \"y\": [518060.64315268444]}],\n",
       "                        {\"barmode\": \"group\", \"template\": {\"data\": {\"bar\": [{\"error_x\": {\"color\": \"#2a3f5f\"}, \"error_y\": {\"color\": \"#2a3f5f\"}, \"marker\": {\"line\": {\"color\": \"#E5ECF6\", \"width\": 0.5}}, \"type\": \"bar\"}], \"barpolar\": [{\"marker\": {\"line\": {\"color\": \"#E5ECF6\", \"width\": 0.5}}, \"type\": \"barpolar\"}], \"carpet\": [{\"aaxis\": {\"endlinecolor\": \"#2a3f5f\", \"gridcolor\": \"white\", \"linecolor\": \"white\", \"minorgridcolor\": \"white\", \"startlinecolor\": \"#2a3f5f\"}, \"baxis\": {\"endlinecolor\": \"#2a3f5f\", \"gridcolor\": \"white\", \"linecolor\": \"white\", \"minorgridcolor\": \"white\", \"startlinecolor\": \"#2a3f5f\"}, \"type\": \"carpet\"}], \"choropleth\": [{\"colorbar\": {\"outlinewidth\": 0, \"ticks\": \"\"}, \"type\": \"choropleth\"}], \"contour\": [{\"colorbar\": {\"outlinewidth\": 0, \"ticks\": \"\"}, \"colorscale\": [[0.0, \"#0d0887\"], [0.1111111111111111, \"#46039f\"], [0.2222222222222222, \"#7201a8\"], [0.3333333333333333, \"#9c179e\"], [0.4444444444444444, \"#bd3786\"], [0.5555555555555556, \"#d8576b\"], [0.6666666666666666, \"#ed7953\"], [0.7777777777777778, \"#fb9f3a\"], [0.8888888888888888, \"#fdca26\"], [1.0, \"#f0f921\"]], \"type\": \"contour\"}], \"contourcarpet\": [{\"colorbar\": {\"outlinewidth\": 0, \"ticks\": \"\"}, \"type\": \"contourcarpet\"}], \"heatmap\": [{\"colorbar\": {\"outlinewidth\": 0, \"ticks\": \"\"}, \"colorscale\": [[0.0, \"#0d0887\"], [0.1111111111111111, \"#46039f\"], [0.2222222222222222, \"#7201a8\"], [0.3333333333333333, \"#9c179e\"], [0.4444444444444444, \"#bd3786\"], [0.5555555555555556, \"#d8576b\"], [0.6666666666666666, \"#ed7953\"], [0.7777777777777778, \"#fb9f3a\"], [0.8888888888888888, \"#fdca26\"], [1.0, \"#f0f921\"]], \"type\": \"heatmap\"}], \"heatmapgl\": [{\"colorbar\": {\"outlinewidth\": 0, \"ticks\": \"\"}, \"colorscale\": [[0.0, \"#0d0887\"], [0.1111111111111111, \"#46039f\"], [0.2222222222222222, \"#7201a8\"], [0.3333333333333333, \"#9c179e\"], [0.4444444444444444, \"#bd3786\"], [0.5555555555555556, \"#d8576b\"], [0.6666666666666666, \"#ed7953\"], [0.7777777777777778, \"#fb9f3a\"], [0.8888888888888888, \"#fdca26\"], [1.0, \"#f0f921\"]], \"type\": \"heatmapgl\"}], \"histogram\": [{\"marker\": {\"colorbar\": {\"outlinewidth\": 0, \"ticks\": \"\"}}, \"type\": \"histogram\"}], \"histogram2d\": [{\"colorbar\": {\"outlinewidth\": 0, \"ticks\": \"\"}, \"colorscale\": [[0.0, \"#0d0887\"], [0.1111111111111111, \"#46039f\"], [0.2222222222222222, \"#7201a8\"], [0.3333333333333333, \"#9c179e\"], [0.4444444444444444, \"#bd3786\"], [0.5555555555555556, \"#d8576b\"], [0.6666666666666666, \"#ed7953\"], [0.7777777777777778, \"#fb9f3a\"], [0.8888888888888888, \"#fdca26\"], [1.0, \"#f0f921\"]], \"type\": \"histogram2d\"}], \"histogram2dcontour\": [{\"colorbar\": {\"outlinewidth\": 0, \"ticks\": \"\"}, \"colorscale\": [[0.0, \"#0d0887\"], [0.1111111111111111, \"#46039f\"], [0.2222222222222222, \"#7201a8\"], [0.3333333333333333, \"#9c179e\"], [0.4444444444444444, \"#bd3786\"], [0.5555555555555556, \"#d8576b\"], [0.6666666666666666, \"#ed7953\"], [0.7777777777777778, \"#fb9f3a\"], [0.8888888888888888, \"#fdca26\"], [1.0, \"#f0f921\"]], \"type\": \"histogram2dcontour\"}], \"mesh3d\": [{\"colorbar\": {\"outlinewidth\": 0, \"ticks\": \"\"}, \"type\": \"mesh3d\"}], \"parcoords\": [{\"line\": {\"colorbar\": {\"outlinewidth\": 0, \"ticks\": \"\"}}, \"type\": \"parcoords\"}], \"scatter\": [{\"marker\": {\"colorbar\": {\"outlinewidth\": 0, \"ticks\": \"\"}}, \"type\": \"scatter\"}], \"scatter3d\": [{\"line\": {\"colorbar\": {\"outlinewidth\": 0, \"ticks\": \"\"}}, \"marker\": {\"colorbar\": {\"outlinewidth\": 0, \"ticks\": \"\"}}, \"type\": \"scatter3d\"}], \"scattercarpet\": [{\"marker\": {\"colorbar\": {\"outlinewidth\": 0, \"ticks\": \"\"}}, \"type\": \"scattercarpet\"}], \"scattergeo\": [{\"marker\": {\"colorbar\": {\"outlinewidth\": 0, \"ticks\": \"\"}}, \"type\": \"scattergeo\"}], \"scattergl\": [{\"marker\": {\"colorbar\": {\"outlinewidth\": 0, \"ticks\": \"\"}}, \"type\": \"scattergl\"}], \"scattermapbox\": [{\"marker\": {\"colorbar\": {\"outlinewidth\": 0, \"ticks\": \"\"}}, \"type\": \"scattermapbox\"}], \"scatterpolar\": [{\"marker\": {\"colorbar\": {\"outlinewidth\": 0, \"ticks\": \"\"}}, \"type\": \"scatterpolar\"}], \"scatterpolargl\": [{\"marker\": {\"colorbar\": {\"outlinewidth\": 0, \"ticks\": \"\"}}, \"type\": \"scatterpolargl\"}], \"scatterternary\": [{\"marker\": {\"colorbar\": {\"outlinewidth\": 0, \"ticks\": \"\"}}, \"type\": \"scatterternary\"}], \"surface\": [{\"colorbar\": {\"outlinewidth\": 0, \"ticks\": \"\"}, \"colorscale\": [[0.0, \"#0d0887\"], [0.1111111111111111, \"#46039f\"], [0.2222222222222222, \"#7201a8\"], [0.3333333333333333, \"#9c179e\"], [0.4444444444444444, \"#bd3786\"], [0.5555555555555556, \"#d8576b\"], [0.6666666666666666, \"#ed7953\"], [0.7777777777777778, \"#fb9f3a\"], [0.8888888888888888, \"#fdca26\"], [1.0, \"#f0f921\"]], \"type\": \"surface\"}], \"table\": [{\"cells\": {\"fill\": {\"color\": \"#EBF0F8\"}, \"line\": {\"color\": \"white\"}}, \"header\": {\"fill\": {\"color\": \"#C8D4E3\"}, \"line\": {\"color\": \"white\"}}, \"type\": \"table\"}]}, \"layout\": {\"annotationdefaults\": {\"arrowcolor\": \"#2a3f5f\", \"arrowhead\": 0, \"arrowwidth\": 1}, \"colorscale\": {\"diverging\": [[0, \"#8e0152\"], [0.1, \"#c51b7d\"], [0.2, \"#de77ae\"], [0.3, \"#f1b6da\"], [0.4, \"#fde0ef\"], [0.5, \"#f7f7f7\"], [0.6, \"#e6f5d0\"], [0.7, \"#b8e186\"], [0.8, \"#7fbc41\"], [0.9, \"#4d9221\"], [1, \"#276419\"]], \"sequential\": [[0.0, \"#0d0887\"], [0.1111111111111111, \"#46039f\"], [0.2222222222222222, \"#7201a8\"], [0.3333333333333333, \"#9c179e\"], [0.4444444444444444, \"#bd3786\"], [0.5555555555555556, \"#d8576b\"], [0.6666666666666666, \"#ed7953\"], [0.7777777777777778, \"#fb9f3a\"], [0.8888888888888888, \"#fdca26\"], [1.0, \"#f0f921\"]], \"sequentialminus\": [[0.0, \"#0d0887\"], [0.1111111111111111, \"#46039f\"], [0.2222222222222222, \"#7201a8\"], [0.3333333333333333, \"#9c179e\"], [0.4444444444444444, \"#bd3786\"], [0.5555555555555556, \"#d8576b\"], [0.6666666666666666, \"#ed7953\"], [0.7777777777777778, \"#fb9f3a\"], [0.8888888888888888, \"#fdca26\"], [1.0, \"#f0f921\"]]}, \"colorway\": [\"#636efa\", \"#EF553B\", \"#00cc96\", \"#ab63fa\", \"#FFA15A\", \"#19d3f3\", \"#FF6692\", \"#B6E880\", \"#FF97FF\", \"#FECB52\"], \"font\": {\"color\": \"#2a3f5f\"}, \"geo\": {\"bgcolor\": \"white\", \"lakecolor\": \"white\", \"landcolor\": \"#E5ECF6\", \"showlakes\": true, \"showland\": true, \"subunitcolor\": \"white\"}, \"hoverlabel\": {\"align\": \"left\"}, \"hovermode\": \"closest\", \"mapbox\": {\"style\": \"light\"}, \"paper_bgcolor\": \"white\", \"plot_bgcolor\": \"#E5ECF6\", \"polar\": {\"angularaxis\": {\"gridcolor\": \"white\", \"linecolor\": \"white\", \"ticks\": \"\"}, \"bgcolor\": \"#E5ECF6\", \"radialaxis\": {\"gridcolor\": \"white\", \"linecolor\": \"white\", \"ticks\": \"\"}}, \"scene\": {\"xaxis\": {\"backgroundcolor\": \"#E5ECF6\", \"gridcolor\": \"white\", \"gridwidth\": 2, \"linecolor\": \"white\", \"showbackground\": true, \"ticks\": \"\", \"zerolinecolor\": \"white\"}, \"yaxis\": {\"backgroundcolor\": \"#E5ECF6\", \"gridcolor\": \"white\", \"gridwidth\": 2, \"linecolor\": \"white\", \"showbackground\": true, \"ticks\": \"\", \"zerolinecolor\": \"white\"}, \"zaxis\": {\"backgroundcolor\": \"#E5ECF6\", \"gridcolor\": \"white\", \"gridwidth\": 2, \"linecolor\": \"white\", \"showbackground\": true, \"ticks\": \"\", \"zerolinecolor\": \"white\"}}, \"shapedefaults\": {\"line\": {\"color\": \"#2a3f5f\"}}, \"ternary\": {\"aaxis\": {\"gridcolor\": \"white\", \"linecolor\": \"white\", \"ticks\": \"\"}, \"baxis\": {\"gridcolor\": \"white\", \"linecolor\": \"white\", \"ticks\": \"\"}, \"bgcolor\": \"#E5ECF6\", \"caxis\": {\"gridcolor\": \"white\", \"linecolor\": \"white\", \"ticks\": \"\"}}, \"title\": {\"x\": 0.05}, \"xaxis\": {\"automargin\": true, \"gridcolor\": \"white\", \"linecolor\": \"white\", \"ticks\": \"\", \"zerolinecolor\": \"white\", \"zerolinewidth\": 2}, \"yaxis\": {\"automargin\": true, \"gridcolor\": \"white\", \"linecolor\": \"white\", \"ticks\": \"\", \"zerolinecolor\": \"white\", \"zerolinewidth\": 2}}}, \"title\": {\"text\": \"Top 20 Countries - Travels 2014\"}},\n",
       "                        {\"responsive\": true}\n",
       "                    ).then(function(){\n",
       "                            \n",
       "var gd = document.getElementById('ce53b50e-545d-4887-ac17-b449ec131389');\n",
       "var x = new MutationObserver(function (mutations, observer) {{\n",
       "        var display = window.getComputedStyle(gd).display;\n",
       "        if (!display || display === 'none') {{\n",
       "            console.log([gd, 'removed!']);\n",
       "            Plotly.purge(gd);\n",
       "            observer.disconnect();\n",
       "        }}\n",
       "}});\n",
       "\n",
       "// Listen for the removal of the full notebook cells\n",
       "var notebookContainer = gd.closest('#notebook-container');\n",
       "if (notebookContainer) {{\n",
       "    x.observe(notebookContainer, {childList: true});\n",
       "}}\n",
       "\n",
       "// Listen for the clearing of the current output cell\n",
       "var outputEl = gd.closest('.output');\n",
       "if (outputEl) {{\n",
       "    x.observe(outputEl, {childList: true});\n",
       "}}\n",
       "\n",
       "                        })\n",
       "                };\n",
       "                });\n",
       "            </script>\n",
       "        </div>"
      ]
     },
     "metadata": {},
     "output_type": "display_data"
    }
   ],
   "source": [
    "country_origin = pd.DataFrame(passages_df.groupby(['CountryOriginOneWay']).sum().reset_index())\n",
    "country_origin.columns = ['CountryOrigin', 'Total']\n",
    "country_origin_sorted = country_origin.sort_values(by='Total', ascending=False)\n",
    "country_origin_sorted_top = country_origin_sorted.iloc[:20,:]\n",
    "data = []\n",
    "\n",
    "for item in list(country_origin_sorted_top['CountryOrigin'].unique()):\n",
    "    data.append(\n",
    "        go.Bar(\n",
    "            x = list(country_origin_sorted_top[country_origin_sorted_top['CountryOrigin']==item]['CountryOrigin']),\n",
    "            y = list(country_origin_sorted_top[country_origin_sorted_top['CountryOrigin']==item]['Total']),\n",
    "            name= item\n",
    "        )  \n",
    "    )\n",
    "    \n",
    "layout = go.Layout(\n",
    "    barmode='group',\n",
    "    title = 'Top 20 Countries - Travels 2014'\n",
    ")\n",
    "\n",
    "fig = go.Figure(data=data, layout=layout)\n",
    "pyo.iplot(fig)"
   ]
  },
  {
   "cell_type": "code",
   "execution_count": null,
   "metadata": {},
   "outputs": [],
   "source": [
    "dtypes(passages_df.ValueOfPassage)\n",
    "# passages_df.groupby(['MeanOfTransportOneWay']).sum()"
   ]
  },
  {
   "cell_type": "code",
   "execution_count": null,
   "metadata": {},
   "outputs": [],
   "source": [
    "# collecting info of pagamento.csv\n",
    "\n",
    "pd.read_csv(f'{current_path}/csv/2014_extract/2014_Pagamento.csv', sep=';', encoding = \"ISO-8859-1\").head()"
   ]
  },
  {
   "cell_type": "code",
   "execution_count": null,
   "metadata": {},
   "outputs": [],
   "source": [
    "pd.read_csv(f'{current_path}/csv/2014_extract/2014_Trecho.csv', sep=';', encoding = \"ISO-8859-1\").head()\n"
   ]
  },
  {
   "cell_type": "code",
   "execution_count": null,
   "metadata": {},
   "outputs": [],
   "source": [
    "passagem = pd.read_csv(f'{current_path}/csv/2014_extract/2014_Passagem.csv', sep=';', encoding = \"ISO-8859-1\")\n",
    "pagamento = pd.read_csv(f'{current_path}/csv/2014_extract/2014_Pagamento.csv', sep=';', encoding = \"ISO-8859-1\")\n",
    "trecho = pd.read_csv(f'{current_path}/csv/2014_extract/2014_Trecho.csv', sep=';', encoding = \"ISO-8859-1\")\n",
    "\n",
    "# firstly - get 'idenficador do processo de viagem' in trecho.cvs, and after search in passagem.csv and pagamento.csv\n",
    "# second - Use 'Origem Data' for compare the time\n",
    "# second - Compare 'Origem País', 'Origem UF' and 'Origem Cidade' to collect information for anothers csv\n",
    "trecho.head()\n",
    "# passagem[passagem['Identificador do processo de viagem'] == 10011602]"
   ]
  },
  {
   "cell_type": "code",
   "execution_count": null,
   "metadata": {
    "scrolled": false
   },
   "outputs": [],
   "source": [
    "pd.options.display.float_format = '${:,.2f}'.format\n",
    "tickets        = pd.read_csv(f'{current_path}/csv/2014_extract/2014_Passagem.csv', sep=';', encoding = \"ISO-8859-1\")\n",
    "format_tickets = []\n",
    "\n",
    "for ticket in tickets[\"Valor da passagem\"]:\n",
    "    format_tickets.append(pd.to_numeric(ticket.replace(\",\",\".\")))\n",
    "\n",
    "tickets[\"Valor da passagem\"] = format_tickets\n",
    "tickets.groupby(\"Meio de transporte\").sum()[\"Valor da passagem\"]\n"
   ]
  },
  {
   "cell_type": "code",
   "execution_count": null,
   "metadata": {},
   "outputs": [],
   "source": [
    "pd.options.display.float_format = '${:,.2f}'.format\n",
    "\n",
    "current_path   = os.getcwd()\n",
    "tickets        = pd.read_csv(f'{current_path}/csv/2014_extract/2014_Passagem.csv', sep=';', encoding = \"ISO-8859-1\")\n",
    "format_tickets = []\n",
    "\n",
    "for ticket in tickets[\"Valor da passagem\"]:\n",
    "    format_tickets.append(pd.to_numeric(ticket.replace(\",\",\".\")))\n",
    "\n",
    "tickets[\"Valor da passagem\"] = format_tickets\n",
    "tickets.groupby(\"UF - Origem ida\").sum()[\"Valor da passagem\"]"
   ]
  },
  {
   "cell_type": "code",
   "execution_count": null,
   "metadata": {},
   "outputs": [],
   "source": [
    "pd.options.display.float_format = '${:,.2f}'.format\n",
    "tickets        = pd.read_csv(f'{current_path}/csv/2014_extract/2014_Passagem.csv', sep=';', encoding = \"ISO-8859-1\")\n",
    "format_tickets = []\n",
    "\n",
    "for ticket in tickets[\"Valor da passagem\"]:\n",
    "    format_tickets.append(pd.to_numeric(ticket.replace(\",\",\".\")))\n",
    "\n",
    "tickets[\"Valor da passagem\"] = format_tickets\n",
    "tickets.groupby(\"UF - Destino ida\").sum()[\"Valor da passagem\"]"
   ]
  },
  {
   "cell_type": "code",
   "execution_count": null,
   "metadata": {},
   "outputs": [],
   "source": [
    "pd.options.display.float_format = '${:,.2f}'.format\n",
    "pagamento = pd.read_csv(f'{current_path}/csv/2014_extract/2014_Pagamento.csv', sep=';', encoding = \"ISO-8859-1\") \n",
    "pagamento.head()"
   ]
  },
  {
   "cell_type": "code",
   "execution_count": null,
   "metadata": {},
   "outputs": [],
   "source": [
    "pd.options.display.float_format = '${:,.2f}'.format\n",
    "payments        = pd.read_csv(f'{current_path}/csv/2014_extract/2014_Pagamento.csv', sep=';', encoding = \"ISO-8859-1\") \n",
    "format_payments = []\n",
    "\n",
    "for payment in payments[\"Valor\"]:\n",
    "    format_payments.append(pd.to_numeric(payment.replace(\",\",\".\")))\n",
    "\n",
    "payments[\"Valor\"] = format_payments\n",
    "payments.groupby(\"Nome do órgão superior\").sum()[\"Valor\"]"
   ]
  },
  {
   "cell_type": "code",
   "execution_count": null,
   "metadata": {},
   "outputs": [],
   "source": [
    "pd.options.display.float_format = '${:,.2f}'.format\n",
    "payments        = pd.read_csv(f'{current_path}/csv/2014_extract/2014_Pagamento.csv', sep=';', encoding = \"ISO-8859-1\") \n",
    "format_payments = []\n",
    "\n",
    "for payment in payments[\"Valor\"]:\n",
    "    format_payments.append(pd.to_numeric(payment.replace(\",\",\".\")))\n",
    "\n",
    "payments[\"Valor\"] = format_payments\n",
    "payments.groupby(\"Nome do órgao pagador\").sum()[\"Valor\"]"
   ]
  },
  {
   "cell_type": "code",
   "execution_count": null,
   "metadata": {},
   "outputs": [],
   "source": [
    "pd.options.display.float_format = '${:,.2f}'.format\n",
    "payments        = pd.read_csv(f'{current_path}/csv/2014_extract/2014_Pagamento.csv', sep=';', encoding = \"ISO-8859-1\") \n",
    "format_payments = []\n",
    "\n",
    "for payment in payments[\"Valor\"]:\n",
    "    format_payments.append(pd.to_numeric(payment.replace(\",\",\".\")))\n",
    "\n",
    "payments[\"Valor\"] = format_payments\n",
    "payments.groupby(\"Nome da unidade gestora pagadora\").sum()[\"Valor\"]"
   ]
  },
  {
   "cell_type": "code",
   "execution_count": null,
   "metadata": {},
   "outputs": [],
   "source": [
    "pd.options.display.float_format = '${:,.2f}'.format\n",
    "payments        = pd.read_csv(f'{current_path}/csv/2014_extract/2014_Pagamento.csv', sep=';', encoding = \"ISO-8859-1\") \n",
    "format_payments = []\n",
    "\n",
    "for payment in payments[\"Valor\"]:\n",
    "    format_payments.append(pd.to_numeric(payment.replace(\",\",\".\")))\n",
    "\n",
    "payments[\"Valor\"] = format_payments\n",
    "payments.groupby(\"Tipo de pagamento\").sum()[\"Valor\"]"
   ]
  },
  {
   "cell_type": "code",
   "execution_count": null,
   "metadata": {},
   "outputs": [],
   "source": [
    "pd.options.display.float_format = '${:,.2f}'.format\n",
    "payments        = pd.read_csv(f'{current_path}/csv/2014_extract/2014_Pagamento.csv', sep=';', encoding = \"ISO-8859-1\") \n",
    "format_payments = []\n",
    "\n",
    "for payment in payments[\"Valor\"]:\n",
    "    format_payments.append(pd.to_numeric(payment.replace(\",\",\".\")))\n",
    "\n",
    "payments[\"Valor\"] = format_payments\n",
    "payments.groupby(\"Tipo de pagamento\").std()[\"Valor\"]"
   ]
  }
 ],
 "metadata": {
  "kernelspec": {
   "display_name": "Python 3",
   "language": "python",
   "name": "python3"
  },
  "language_info": {
   "codemirror_mode": {
    "name": "ipython",
    "version": 3
   },
   "file_extension": ".py",
   "mimetype": "text/x-python",
   "name": "python",
   "nbconvert_exporter": "python",
   "pygments_lexer": "ipython3",
   "version": "3.6.8"
  }
 },
 "nbformat": 4,
 "nbformat_minor": 2
}
