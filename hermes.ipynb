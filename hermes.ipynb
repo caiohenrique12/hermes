{
 "cells": [
  {
   "cell_type": "code",
   "execution_count": 1,
   "metadata": {},
   "outputs": [],
   "source": [
    "import datetime\n",
    "import urllib.request\n",
    "import os, errno\n",
    "import zipfile as zp\n",
    "import os, errno\n",
    "import datetime as dt\n",
    "import pandas as pd\n",
    "import os, errno\n",
    "import numpy as np\n",
    "import matplotlib.pyplot as plt\n",
    "import plotly.graph_objs as go\n",
    "import plotly.offline as pyo"
   ]
  },
  {
   "cell_type": "code",
   "execution_count": 2,
   "metadata": {},
   "outputs": [],
   "source": [
    "current_path = os.getcwd()\n",
    "try:\n",
    "    os.makedirs(f'{current_path}/csv/')\n",
    "except OSError as e:\n",
    "    if e.errno != errno.EEXIST:\n",
    "        raise"
   ]
  },
  {
   "cell_type": "code",
   "execution_count": null,
   "metadata": {},
   "outputs": [],
   "source": [
    "# making download since 2013 for actual date\n",
    "for year in range(2013, datetime.datetime.now().year + 1):\n",
    "    if not os.path.exists(f'{current_path}/csv/{year}.zip'):\n",
    "        url = f'http://www.portaltransparencia.gov.br/download-de-dados/viagens/{year}'\n",
    "        urllib.request.urlretrieve(url, f'{current_path}/csv/{year}')\n",
    "        print(f'Downloading for {year} was complete with success.')"
   ]
  },
  {
   "cell_type": "code",
   "execution_count": null,
   "metadata": {},
   "outputs": [],
   "source": [
    "# extract and remove zip file\n",
    "for year in range(2013, dt.datetime.now().year + 1):\n",
    "    print(f'unzip {year} file.')\n",
    "    with zp.ZipFile(f'{current_path}/csv/{year}', 'r') as zip_ref:\n",
    "        zip_ref.extractall(f'{current_path}/csv/{year}_extract')\n",
    "        print(f'unzip {year} was successful.')\n",
    "        os.remove(f'{current_path}/csv/{year}')"
   ]
  },
  {
   "cell_type": "code",
   "execution_count": 3,
   "metadata": {
    "scrolled": false
   },
   "outputs": [
    {
     "data": {
      "text/html": [
       "<div>\n",
       "<style scoped>\n",
       "    .dataframe tbody tr th:only-of-type {\n",
       "        vertical-align: middle;\n",
       "    }\n",
       "\n",
       "    .dataframe tbody tr th {\n",
       "        vertical-align: top;\n",
       "    }\n",
       "\n",
       "    .dataframe thead th {\n",
       "        text-align: right;\n",
       "    }\n",
       "</style>\n",
       "<table border=\"1\" class=\"dataframe\">\n",
       "  <thead>\n",
       "    <tr style=\"text-align: right;\">\n",
       "      <th></th>\n",
       "      <th>Identificador do processo de viagem</th>\n",
       "      <th>Meio de transporte</th>\n",
       "      <th>País - Origem ida</th>\n",
       "      <th>UF - Origem ida</th>\n",
       "      <th>Cidade - Origem ida</th>\n",
       "      <th>País - Destino ida</th>\n",
       "      <th>UF - Destino ida</th>\n",
       "      <th>Cidade - Destino ida</th>\n",
       "      <th>País - Origem volta</th>\n",
       "      <th>UF - Origem volta</th>\n",
       "      <th>Cidade - Origem volta</th>\n",
       "      <th>Pais - Destino volta</th>\n",
       "      <th>UF - Destino volta</th>\n",
       "      <th>Cidade - Destino volta</th>\n",
       "      <th>Valor da passagem</th>\n",
       "      <th>Taxa de serviço</th>\n",
       "    </tr>\n",
       "  </thead>\n",
       "  <tbody>\n",
       "    <tr>\n",
       "      <td>0</td>\n",
       "      <td>10011602</td>\n",
       "      <td>Aéreo</td>\n",
       "      <td>Brasil</td>\n",
       "      <td>Distrito Federal</td>\n",
       "      <td>Brasília</td>\n",
       "      <td>Brasil</td>\n",
       "      <td>Rio de Janeiro</td>\n",
       "      <td>Rio de Janeiro</td>\n",
       "      <td>Sem Informação</td>\n",
       "      <td>Sem Informação</td>\n",
       "      <td>Sem Informação</td>\n",
       "      <td>Sem Informação</td>\n",
       "      <td>Sem Informação</td>\n",
       "      <td>Sem Informação</td>\n",
       "      <td>570,45</td>\n",
       "      <td>,00</td>\n",
       "    </tr>\n",
       "    <tr>\n",
       "      <td>1</td>\n",
       "      <td>10011602</td>\n",
       "      <td>Aéreo</td>\n",
       "      <td>Brasil</td>\n",
       "      <td>Rio de Janeiro</td>\n",
       "      <td>Rio de Janeiro</td>\n",
       "      <td>Brasil</td>\n",
       "      <td>Distrito Federal</td>\n",
       "      <td>Brasília</td>\n",
       "      <td>Sem Informação</td>\n",
       "      <td>Sem Informação</td>\n",
       "      <td>Sem Informação</td>\n",
       "      <td>Sem Informação</td>\n",
       "      <td>Sem Informação</td>\n",
       "      <td>Sem Informação</td>\n",
       "      <td>602,47</td>\n",
       "      <td>,00</td>\n",
       "    </tr>\n",
       "    <tr>\n",
       "      <td>2</td>\n",
       "      <td>10011617</td>\n",
       "      <td>Aéreo</td>\n",
       "      <td>Brasil</td>\n",
       "      <td>Rio de Janeiro</td>\n",
       "      <td>Rio de Janeiro</td>\n",
       "      <td>Brasil</td>\n",
       "      <td>São Paulo</td>\n",
       "      <td>Presidente Prudente</td>\n",
       "      <td>Sem Informação</td>\n",
       "      <td>Sem Informação</td>\n",
       "      <td>Sem Informação</td>\n",
       "      <td>Sem Informação</td>\n",
       "      <td>Sem Informação</td>\n",
       "      <td>Sem Informação</td>\n",
       "      <td>941,47</td>\n",
       "      <td>,00</td>\n",
       "    </tr>\n",
       "    <tr>\n",
       "      <td>3</td>\n",
       "      <td>10011617</td>\n",
       "      <td>Aéreo</td>\n",
       "      <td>Brasil</td>\n",
       "      <td>São Paulo</td>\n",
       "      <td>Presidente Prudente</td>\n",
       "      <td>Brasil</td>\n",
       "      <td>Rio de Janeiro</td>\n",
       "      <td>Rio de Janeiro</td>\n",
       "      <td>Sem Informação</td>\n",
       "      <td>Sem Informação</td>\n",
       "      <td>Sem Informação</td>\n",
       "      <td>Sem Informação</td>\n",
       "      <td>Sem Informação</td>\n",
       "      <td>Sem Informação</td>\n",
       "      <td>980,94</td>\n",
       "      <td>,00</td>\n",
       "    </tr>\n",
       "    <tr>\n",
       "      <td>4</td>\n",
       "      <td>10011618</td>\n",
       "      <td>Aéreo</td>\n",
       "      <td>Brasil</td>\n",
       "      <td>Pará</td>\n",
       "      <td>Belém</td>\n",
       "      <td>Brasil</td>\n",
       "      <td>Distrito Federal</td>\n",
       "      <td>Brasília</td>\n",
       "      <td>Sem Informação</td>\n",
       "      <td>Sem Informação</td>\n",
       "      <td>Sem Informação</td>\n",
       "      <td>Sem Informação</td>\n",
       "      <td>Sem Informação</td>\n",
       "      <td>Sem Informação</td>\n",
       "      <td>885,57</td>\n",
       "      <td>,00</td>\n",
       "    </tr>\n",
       "  </tbody>\n",
       "</table>\n",
       "</div>"
      ],
      "text/plain": [
       "   Identificador do processo de viagem Meio de transporte País - Origem ida  \\\n",
       "0                             10011602              Aéreo            Brasil   \n",
       "1                             10011602              Aéreo            Brasil   \n",
       "2                             10011617              Aéreo            Brasil   \n",
       "3                             10011617              Aéreo            Brasil   \n",
       "4                             10011618              Aéreo            Brasil   \n",
       "\n",
       "    UF - Origem ida  Cidade - Origem ida País - Destino ida  UF - Destino ida  \\\n",
       "0  Distrito Federal             Brasília             Brasil    Rio de Janeiro   \n",
       "1    Rio de Janeiro       Rio de Janeiro             Brasil  Distrito Federal   \n",
       "2    Rio de Janeiro       Rio de Janeiro             Brasil         São Paulo   \n",
       "3         São Paulo  Presidente Prudente             Brasil    Rio de Janeiro   \n",
       "4              Pará                Belém             Brasil  Distrito Federal   \n",
       "\n",
       "  Cidade - Destino ida País - Origem volta UF - Origem volta  \\\n",
       "0       Rio de Janeiro      Sem Informação    Sem Informação   \n",
       "1             Brasília      Sem Informação    Sem Informação   \n",
       "2  Presidente Prudente      Sem Informação    Sem Informação   \n",
       "3       Rio de Janeiro      Sem Informação    Sem Informação   \n",
       "4             Brasília      Sem Informação    Sem Informação   \n",
       "\n",
       "  Cidade - Origem volta Pais - Destino volta UF - Destino volta  \\\n",
       "0        Sem Informação       Sem Informação     Sem Informação   \n",
       "1        Sem Informação       Sem Informação     Sem Informação   \n",
       "2        Sem Informação       Sem Informação     Sem Informação   \n",
       "3        Sem Informação       Sem Informação     Sem Informação   \n",
       "4        Sem Informação       Sem Informação     Sem Informação   \n",
       "\n",
       "  Cidade - Destino volta Valor da passagem Taxa de serviço  \n",
       "0         Sem Informação            570,45             ,00  \n",
       "1         Sem Informação            602,47             ,00  \n",
       "2         Sem Informação            941,47             ,00  \n",
       "3         Sem Informação            980,94             ,00  \n",
       "4         Sem Informação            885,57             ,00  "
      ]
     },
     "execution_count": 3,
     "metadata": {},
     "output_type": "execute_result"
    }
   ],
   "source": [
    "passages_df = pd.read_csv(f'{current_path}/csv/2014_extract/2014_Passagem.csv', sep=';', encoding = \"ISO-8859-1\")\n",
    "passages_df.head()"
   ]
  },
  {
   "cell_type": "code",
   "execution_count": 4,
   "metadata": {
    "scrolled": false
   },
   "outputs": [
    {
     "name": "stdout",
     "output_type": "stream",
     "text": [
      "Total Records: 734834, Total columns: 16\n"
     ]
    },
    {
     "data": {
      "text/html": [
       "<div>\n",
       "<style scoped>\n",
       "    .dataframe tbody tr th:only-of-type {\n",
       "        vertical-align: middle;\n",
       "    }\n",
       "\n",
       "    .dataframe tbody tr th {\n",
       "        vertical-align: top;\n",
       "    }\n",
       "\n",
       "    .dataframe thead th {\n",
       "        text-align: right;\n",
       "    }\n",
       "</style>\n",
       "<table border=\"1\" class=\"dataframe\">\n",
       "  <thead>\n",
       "    <tr style=\"text-align: right;\">\n",
       "      <th></th>\n",
       "      <th>PassageId</th>\n",
       "      <th>MeanOfTransportOneWay</th>\n",
       "      <th>CountryOriginOneWay</th>\n",
       "      <th>DistrictOriginOneWay</th>\n",
       "      <th>CityOriginOneWay</th>\n",
       "      <th>CountryDestinyOneWay</th>\n",
       "      <th>DistrictDestinyOneWay</th>\n",
       "      <th>CityDestinyOneWay</th>\n",
       "      <th>CountryOriginReturn</th>\n",
       "      <th>DistrictOriginReturn</th>\n",
       "      <th>CityOriginReturn</th>\n",
       "      <th>CountryDestinyReturn</th>\n",
       "      <th>DistrictDestinyReturn</th>\n",
       "      <th>CityDestinyReturn</th>\n",
       "      <th>ValueOfTicket</th>\n",
       "      <th>ValueOfFare</th>\n",
       "    </tr>\n",
       "  </thead>\n",
       "  <tbody>\n",
       "    <tr>\n",
       "      <td>Column type</td>\n",
       "      <td>int64</td>\n",
       "      <td>object</td>\n",
       "      <td>object</td>\n",
       "      <td>object</td>\n",
       "      <td>object</td>\n",
       "      <td>object</td>\n",
       "      <td>object</td>\n",
       "      <td>object</td>\n",
       "      <td>object</td>\n",
       "      <td>object</td>\n",
       "      <td>object</td>\n",
       "      <td>object</td>\n",
       "      <td>object</td>\n",
       "      <td>object</td>\n",
       "      <td>object</td>\n",
       "      <td>object</td>\n",
       "    </tr>\n",
       "    <tr>\n",
       "      <td>Null Values</td>\n",
       "      <td>0</td>\n",
       "      <td>0</td>\n",
       "      <td>0</td>\n",
       "      <td>15499</td>\n",
       "      <td>0</td>\n",
       "      <td>0</td>\n",
       "      <td>14893</td>\n",
       "      <td>0</td>\n",
       "      <td>0</td>\n",
       "      <td>0</td>\n",
       "      <td>0</td>\n",
       "      <td>0</td>\n",
       "      <td>0</td>\n",
       "      <td>0</td>\n",
       "      <td>0</td>\n",
       "      <td>0</td>\n",
       "    </tr>\n",
       "    <tr>\n",
       "      <td>Null Values (%)</td>\n",
       "      <td>0</td>\n",
       "      <td>0</td>\n",
       "      <td>0</td>\n",
       "      <td>2.11</td>\n",
       "      <td>0</td>\n",
       "      <td>0</td>\n",
       "      <td>2.03</td>\n",
       "      <td>0</td>\n",
       "      <td>0</td>\n",
       "      <td>0</td>\n",
       "      <td>0</td>\n",
       "      <td>0</td>\n",
       "      <td>0</td>\n",
       "      <td>0</td>\n",
       "      <td>0</td>\n",
       "      <td>0</td>\n",
       "    </tr>\n",
       "  </tbody>\n",
       "</table>\n",
       "</div>"
      ],
      "text/plain": [
       "                PassageId MeanOfTransportOneWay CountryOriginOneWay  \\\n",
       "Column type         int64                object              object   \n",
       "Null Values             0                     0                   0   \n",
       "Null Values (%)         0                     0                   0   \n",
       "\n",
       "                DistrictOriginOneWay CityOriginOneWay CountryDestinyOneWay  \\\n",
       "Column type                   object           object               object   \n",
       "Null Values                    15499                0                    0   \n",
       "Null Values (%)                 2.11                0                    0   \n",
       "\n",
       "                DistrictDestinyOneWay CityDestinyOneWay CountryOriginReturn  \\\n",
       "Column type                    object            object              object   \n",
       "Null Values                     14893                 0                   0   \n",
       "Null Values (%)                  2.03                 0                   0   \n",
       "\n",
       "                DistrictOriginReturn CityOriginReturn CountryDestinyReturn  \\\n",
       "Column type                   object           object               object   \n",
       "Null Values                        0                0                    0   \n",
       "Null Values (%)                    0                0                    0   \n",
       "\n",
       "                DistrictDestinyReturn CityDestinyReturn ValueOfTicket  \\\n",
       "Column type                    object            object        object   \n",
       "Null Values                         0                 0             0   \n",
       "Null Values (%)                     0                 0             0   \n",
       "\n",
       "                ValueOfFare  \n",
       "Column type          object  \n",
       "Null Values               0  \n",
       "Null Values (%)           0  "
      ]
     },
     "execution_count": 4,
     "metadata": {},
     "output_type": "execute_result"
    }
   ],
   "source": [
    "passages_df.columns = [\n",
    "                        'PassageId', 'MeanOfTransportOneWay', 'CountryOriginOneWay', 'DistrictOriginOneWay', \n",
    "                        'CityOriginOneWay', 'CountryDestinyOneWay', 'DistrictDestinyOneWay', 'CityDestinyOneWay',\n",
    "                        'CountryOriginReturn', 'DistrictOriginReturn', 'CityOriginReturn', 'CountryDestinyReturn',\n",
    "                        'DistrictDestinyReturn', 'CityDestinyReturn', 'ValueOfTicket', 'ValueOfFare']\n",
    "\n",
    "total_null = passages_df.isnull().sum()\n",
    "total_records = passages_df.shape[0]\n",
    "\n",
    "print(f'Total Records: {total_records}, Total columns: {passages_df.shape[1]}')\n",
    "\n",
    "passages_info = pd.DataFrame(passages_df.dtypes).T.rename(index={0:'Column type'})\n",
    "passages_info = passages_info.append(pd.DataFrame(total_null).T.rename(index={0: 'Null Values'}))\n",
    "passages_info = passages_info.append(pd.DataFrame(round(total_null/total_records * 100, 2)).T.rename(index={0: 'Null Values (%)'}))\n",
    "\n",
    "passages_info"
   ]
  },
  {
   "cell_type": "code",
   "execution_count": 5,
   "metadata": {},
   "outputs": [
    {
     "data": {
      "text/html": [
       "<div>\n",
       "<style scoped>\n",
       "    .dataframe tbody tr th:only-of-type {\n",
       "        vertical-align: middle;\n",
       "    }\n",
       "\n",
       "    .dataframe tbody tr th {\n",
       "        vertical-align: top;\n",
       "    }\n",
       "\n",
       "    .dataframe thead th {\n",
       "        text-align: right;\n",
       "    }\n",
       "</style>\n",
       "<table border=\"1\" class=\"dataframe\">\n",
       "  <thead>\n",
       "    <tr style=\"text-align: right;\">\n",
       "      <th></th>\n",
       "      <th>PassageId</th>\n",
       "      <th>MeanOfTransportOneWay</th>\n",
       "      <th>CountryOriginOneWay</th>\n",
       "      <th>DistrictOriginOneWay</th>\n",
       "      <th>CityOriginOneWay</th>\n",
       "      <th>CountryDestinyOneWay</th>\n",
       "      <th>DistrictDestinyOneWay</th>\n",
       "      <th>CityDestinyOneWay</th>\n",
       "      <th>CountryOriginReturn</th>\n",
       "      <th>DistrictOriginReturn</th>\n",
       "      <th>CityOriginReturn</th>\n",
       "      <th>CountryDestinyReturn</th>\n",
       "      <th>DistrictDestinyReturn</th>\n",
       "      <th>CityDestinyReturn</th>\n",
       "      <th>ValueOfTicket</th>\n",
       "      <th>ValueOfFare</th>\n",
       "    </tr>\n",
       "  </thead>\n",
       "  <tbody>\n",
       "    <tr>\n",
       "      <td>0</td>\n",
       "      <td>10011602</td>\n",
       "      <td>Aéreo</td>\n",
       "      <td>Brasil</td>\n",
       "      <td>Distrito Federal</td>\n",
       "      <td>Brasília</td>\n",
       "      <td>Brasil</td>\n",
       "      <td>Rio de Janeiro</td>\n",
       "      <td>Rio de Janeiro</td>\n",
       "      <td>Sem Informação</td>\n",
       "      <td>Sem Informação</td>\n",
       "      <td>Sem Informação</td>\n",
       "      <td>Sem Informação</td>\n",
       "      <td>Sem Informação</td>\n",
       "      <td>Sem Informação</td>\n",
       "      <td>570,45</td>\n",
       "      <td>,00</td>\n",
       "    </tr>\n",
       "    <tr>\n",
       "      <td>1</td>\n",
       "      <td>10011602</td>\n",
       "      <td>Aéreo</td>\n",
       "      <td>Brasil</td>\n",
       "      <td>Rio de Janeiro</td>\n",
       "      <td>Rio de Janeiro</td>\n",
       "      <td>Brasil</td>\n",
       "      <td>Distrito Federal</td>\n",
       "      <td>Brasília</td>\n",
       "      <td>Sem Informação</td>\n",
       "      <td>Sem Informação</td>\n",
       "      <td>Sem Informação</td>\n",
       "      <td>Sem Informação</td>\n",
       "      <td>Sem Informação</td>\n",
       "      <td>Sem Informação</td>\n",
       "      <td>602,47</td>\n",
       "      <td>,00</td>\n",
       "    </tr>\n",
       "    <tr>\n",
       "      <td>2</td>\n",
       "      <td>10011617</td>\n",
       "      <td>Aéreo</td>\n",
       "      <td>Brasil</td>\n",
       "      <td>Rio de Janeiro</td>\n",
       "      <td>Rio de Janeiro</td>\n",
       "      <td>Brasil</td>\n",
       "      <td>São Paulo</td>\n",
       "      <td>Presidente Prudente</td>\n",
       "      <td>Sem Informação</td>\n",
       "      <td>Sem Informação</td>\n",
       "      <td>Sem Informação</td>\n",
       "      <td>Sem Informação</td>\n",
       "      <td>Sem Informação</td>\n",
       "      <td>Sem Informação</td>\n",
       "      <td>941,47</td>\n",
       "      <td>,00</td>\n",
       "    </tr>\n",
       "    <tr>\n",
       "      <td>3</td>\n",
       "      <td>10011617</td>\n",
       "      <td>Aéreo</td>\n",
       "      <td>Brasil</td>\n",
       "      <td>São Paulo</td>\n",
       "      <td>Presidente Prudente</td>\n",
       "      <td>Brasil</td>\n",
       "      <td>Rio de Janeiro</td>\n",
       "      <td>Rio de Janeiro</td>\n",
       "      <td>Sem Informação</td>\n",
       "      <td>Sem Informação</td>\n",
       "      <td>Sem Informação</td>\n",
       "      <td>Sem Informação</td>\n",
       "      <td>Sem Informação</td>\n",
       "      <td>Sem Informação</td>\n",
       "      <td>980,94</td>\n",
       "      <td>,00</td>\n",
       "    </tr>\n",
       "    <tr>\n",
       "      <td>4</td>\n",
       "      <td>10011618</td>\n",
       "      <td>Aéreo</td>\n",
       "      <td>Brasil</td>\n",
       "      <td>Pará</td>\n",
       "      <td>Belém</td>\n",
       "      <td>Brasil</td>\n",
       "      <td>Distrito Federal</td>\n",
       "      <td>Brasília</td>\n",
       "      <td>Sem Informação</td>\n",
       "      <td>Sem Informação</td>\n",
       "      <td>Sem Informação</td>\n",
       "      <td>Sem Informação</td>\n",
       "      <td>Sem Informação</td>\n",
       "      <td>Sem Informação</td>\n",
       "      <td>885,57</td>\n",
       "      <td>,00</td>\n",
       "    </tr>\n",
       "  </tbody>\n",
       "</table>\n",
       "</div>"
      ],
      "text/plain": [
       "   PassageId MeanOfTransportOneWay CountryOriginOneWay DistrictOriginOneWay  \\\n",
       "0   10011602                 Aéreo              Brasil     Distrito Federal   \n",
       "1   10011602                 Aéreo              Brasil       Rio de Janeiro   \n",
       "2   10011617                 Aéreo              Brasil       Rio de Janeiro   \n",
       "3   10011617                 Aéreo              Brasil            São Paulo   \n",
       "4   10011618                 Aéreo              Brasil                 Pará   \n",
       "\n",
       "      CityOriginOneWay CountryDestinyOneWay DistrictDestinyOneWay  \\\n",
       "0             Brasília               Brasil        Rio de Janeiro   \n",
       "1       Rio de Janeiro               Brasil      Distrito Federal   \n",
       "2       Rio de Janeiro               Brasil             São Paulo   \n",
       "3  Presidente Prudente               Brasil        Rio de Janeiro   \n",
       "4                Belém               Brasil      Distrito Federal   \n",
       "\n",
       "     CityDestinyOneWay CountryOriginReturn DistrictOriginReturn  \\\n",
       "0       Rio de Janeiro      Sem Informação       Sem Informação   \n",
       "1             Brasília      Sem Informação       Sem Informação   \n",
       "2  Presidente Prudente      Sem Informação       Sem Informação   \n",
       "3       Rio de Janeiro      Sem Informação       Sem Informação   \n",
       "4             Brasília      Sem Informação       Sem Informação   \n",
       "\n",
       "  CityOriginReturn CountryDestinyReturn DistrictDestinyReturn  \\\n",
       "0   Sem Informação       Sem Informação        Sem Informação   \n",
       "1   Sem Informação       Sem Informação        Sem Informação   \n",
       "2   Sem Informação       Sem Informação        Sem Informação   \n",
       "3   Sem Informação       Sem Informação        Sem Informação   \n",
       "4   Sem Informação       Sem Informação        Sem Informação   \n",
       "\n",
       "  CityDestinyReturn ValueOfTicket ValueOfFare  \n",
       "0    Sem Informação        570,45         ,00  \n",
       "1    Sem Informação        602,47         ,00  \n",
       "2    Sem Informação        941,47         ,00  \n",
       "3    Sem Informação        980,94         ,00  \n",
       "4    Sem Informação        885,57         ,00  "
      ]
     },
     "execution_count": 5,
     "metadata": {},
     "output_type": "execute_result"
    }
   ],
   "source": [
    "passages_df.head()"
   ]
  },
  {
   "cell_type": "code",
   "execution_count": 6,
   "metadata": {},
   "outputs": [
    {
     "name": "stderr",
     "output_type": "stream",
     "text": [
      "/home/dev/.local/lib/python3.6/site-packages/pandas/core/ops/__init__.py:1115: FutureWarning:\n",
      "\n",
      "elementwise comparison failed; returning scalar instead, but in the future will perform elementwise comparison\n",
      "\n"
     ]
    },
    {
     "data": {
      "text/plain": [
       "{'PassageId': 0,\n",
       " 'MeanOfTransportOneWay': 0,\n",
       " 'CountryOriginOneWay': 0,\n",
       " 'DistrictOriginOneWay': 0,\n",
       " 'CityOriginOneWay': 0,\n",
       " 'CountryDestinyOneWay': 0,\n",
       " 'DistrictDestinyOneWay': 0,\n",
       " 'CityDestinyOneWay': 0,\n",
       " 'CountryOriginReturn': 734834,\n",
       " 'DistrictOriginReturn': 734834,\n",
       " 'CityOriginReturn': 734834,\n",
       " 'CountryDestinyReturn': 734834,\n",
       " 'DistrictDestinyReturn': 734834,\n",
       " 'CityDestinyReturn': 734834,\n",
       " 'ValueOfTicket': 0,\n",
       " 'ValueOfFare': 0}"
      ]
     },
     "execution_count": 6,
     "metadata": {},
     "output_type": "execute_result"
    }
   ],
   "source": [
    "passages_info2 = {}\n",
    "\n",
    "for column in passages_df:\n",
    "    passages_info2[column] = len(passages_df.loc[passages_df[column] == 'Sem Informação'])\n",
    "    \n",
    "passages_info2"
   ]
  },
  {
   "cell_type": "code",
   "execution_count": 7,
   "metadata": {},
   "outputs": [],
   "source": [
    "passages_df = passages_df.drop('PassageId', axis=1)\n",
    "passages_df = passages_df.drop('CountryOriginReturn', axis=1)\n",
    "passages_df = passages_df.drop('DistrictOriginReturn', axis=1)\n",
    "passages_df = passages_df.drop('CityOriginReturn', axis=1)\n",
    "passages_df = passages_df.drop('CountryDestinyReturn', axis=1)\n",
    "passages_df = passages_df.drop('CityDestinyReturn', axis=1)\n",
    "passages_df = passages_df.drop('DistrictDestinyReturn', axis=1)\n",
    "passages_df = passages_df.drop('ValueOfFare', axis=1)"
   ]
  },
  {
   "cell_type": "code",
   "execution_count": 16,
   "metadata": {},
   "outputs": [
    {
     "data": {
      "text/html": [
       "<div>\n",
       "<style scoped>\n",
       "    .dataframe tbody tr th:only-of-type {\n",
       "        vertical-align: middle;\n",
       "    }\n",
       "\n",
       "    .dataframe tbody tr th {\n",
       "        vertical-align: top;\n",
       "    }\n",
       "\n",
       "    .dataframe thead th {\n",
       "        text-align: right;\n",
       "    }\n",
       "</style>\n",
       "<table border=\"1\" class=\"dataframe\">\n",
       "  <thead>\n",
       "    <tr style=\"text-align: right;\">\n",
       "      <th></th>\n",
       "      <th>MeanOfTransportOneWay</th>\n",
       "      <th>CountryOriginOneWay</th>\n",
       "      <th>DistrictOriginOneWay</th>\n",
       "      <th>CityOriginOneWay</th>\n",
       "      <th>CountryDestinyOneWay</th>\n",
       "      <th>DistrictDestinyOneWay</th>\n",
       "      <th>CityDestinyOneWay</th>\n",
       "      <th>ValueOfTicket</th>\n",
       "    </tr>\n",
       "  </thead>\n",
       "  <tbody>\n",
       "    <tr>\n",
       "      <td>0</td>\n",
       "      <td>Aéreo</td>\n",
       "      <td>Brasil</td>\n",
       "      <td>Distrito Federal</td>\n",
       "      <td>Brasília</td>\n",
       "      <td>Brasil</td>\n",
       "      <td>Rio de Janeiro</td>\n",
       "      <td>Rio de Janeiro</td>\n",
       "      <td>570.45</td>\n",
       "    </tr>\n",
       "    <tr>\n",
       "      <td>1</td>\n",
       "      <td>Aéreo</td>\n",
       "      <td>Brasil</td>\n",
       "      <td>Rio de Janeiro</td>\n",
       "      <td>Rio de Janeiro</td>\n",
       "      <td>Brasil</td>\n",
       "      <td>Distrito Federal</td>\n",
       "      <td>Brasília</td>\n",
       "      <td>602.47</td>\n",
       "    </tr>\n",
       "    <tr>\n",
       "      <td>2</td>\n",
       "      <td>Aéreo</td>\n",
       "      <td>Brasil</td>\n",
       "      <td>Rio de Janeiro</td>\n",
       "      <td>Rio de Janeiro</td>\n",
       "      <td>Brasil</td>\n",
       "      <td>São Paulo</td>\n",
       "      <td>Presidente Prudente</td>\n",
       "      <td>941.47</td>\n",
       "    </tr>\n",
       "    <tr>\n",
       "      <td>3</td>\n",
       "      <td>Aéreo</td>\n",
       "      <td>Brasil</td>\n",
       "      <td>São Paulo</td>\n",
       "      <td>Presidente Prudente</td>\n",
       "      <td>Brasil</td>\n",
       "      <td>Rio de Janeiro</td>\n",
       "      <td>Rio de Janeiro</td>\n",
       "      <td>980.94</td>\n",
       "    </tr>\n",
       "    <tr>\n",
       "      <td>4</td>\n",
       "      <td>Aéreo</td>\n",
       "      <td>Brasil</td>\n",
       "      <td>Pará</td>\n",
       "      <td>Belém</td>\n",
       "      <td>Brasil</td>\n",
       "      <td>Distrito Federal</td>\n",
       "      <td>Brasília</td>\n",
       "      <td>885.57</td>\n",
       "    </tr>\n",
       "  </tbody>\n",
       "</table>\n",
       "</div>"
      ],
      "text/plain": [
       "  MeanOfTransportOneWay CountryOriginOneWay DistrictOriginOneWay  \\\n",
       "0                 Aéreo              Brasil     Distrito Federal   \n",
       "1                 Aéreo              Brasil       Rio de Janeiro   \n",
       "2                 Aéreo              Brasil       Rio de Janeiro   \n",
       "3                 Aéreo              Brasil            São Paulo   \n",
       "4                 Aéreo              Brasil                 Pará   \n",
       "\n",
       "      CityOriginOneWay CountryDestinyOneWay DistrictDestinyOneWay  \\\n",
       "0             Brasília               Brasil        Rio de Janeiro   \n",
       "1       Rio de Janeiro               Brasil      Distrito Federal   \n",
       "2       Rio de Janeiro               Brasil             São Paulo   \n",
       "3  Presidente Prudente               Brasil        Rio de Janeiro   \n",
       "4                Belém               Brasil      Distrito Federal   \n",
       "\n",
       "     CityDestinyOneWay ValueOfTicket  \n",
       "0       Rio de Janeiro        570.45  \n",
       "1             Brasília        602.47  \n",
       "2  Presidente Prudente        941.47  \n",
       "3       Rio de Janeiro        980.94  \n",
       "4             Brasília        885.57  "
      ]
     },
     "execution_count": 16,
     "metadata": {},
     "output_type": "execute_result"
    }
   ],
   "source": [
    "passages_df['ValueOfTicket'] = passages_df['ValueOfTicket'].apply(lambda x: x.replace(',', '.'))\n",
    "passages_df.head()"
   ]
  },
  {
   "cell_type": "code",
   "execution_count": 17,
   "metadata": {},
   "outputs": [
    {
     "data": {
      "text/plain": [
       "MeanOfTransportOneWay     object\n",
       "CountryOriginOneWay       object\n",
       "DistrictOriginOneWay      object\n",
       "CityOriginOneWay          object\n",
       "CountryDestinyOneWay      object\n",
       "DistrictDestinyOneWay     object\n",
       "CityDestinyOneWay         object\n",
       "ValueOfTicket            float64\n",
       "dtype: object"
      ]
     },
     "execution_count": 17,
     "metadata": {},
     "output_type": "execute_result"
    }
   ],
   "source": [
    "passages_df['ValueOfTicket'] = pd.to_numeric(passages_df['ValueOfTicket'], errors='coerce')\n",
    "passages_df.dtypes"
   ]
  },
  {
   "cell_type": "code",
   "execution_count": 18,
   "metadata": {},
   "outputs": [
    {
     "data": {
      "text/html": [
       "<div>\n",
       "<style scoped>\n",
       "    .dataframe tbody tr th:only-of-type {\n",
       "        vertical-align: middle;\n",
       "    }\n",
       "\n",
       "    .dataframe tbody tr th {\n",
       "        vertical-align: top;\n",
       "    }\n",
       "\n",
       "    .dataframe thead th {\n",
       "        text-align: right;\n",
       "    }\n",
       "</style>\n",
       "<table border=\"1\" class=\"dataframe\">\n",
       "  <thead>\n",
       "    <tr style=\"text-align: right;\">\n",
       "      <th></th>\n",
       "      <th>MeanOfTransportOneWay</th>\n",
       "      <th>CountryOriginOneWay</th>\n",
       "      <th>DistrictOriginOneWay</th>\n",
       "      <th>CityOriginOneWay</th>\n",
       "      <th>CountryDestinyOneWay</th>\n",
       "      <th>DistrictDestinyOneWay</th>\n",
       "      <th>CityDestinyOneWay</th>\n",
       "      <th>ValueOfTicket</th>\n",
       "    </tr>\n",
       "  </thead>\n",
       "  <tbody>\n",
       "    <tr>\n",
       "      <td>0</td>\n",
       "      <td>Aéreo</td>\n",
       "      <td>Brasil</td>\n",
       "      <td>Distrito Federal</td>\n",
       "      <td>Brasília</td>\n",
       "      <td>Brasil</td>\n",
       "      <td>Rio de Janeiro</td>\n",
       "      <td>Rio de Janeiro</td>\n",
       "      <td>570.45</td>\n",
       "    </tr>\n",
       "    <tr>\n",
       "      <td>1</td>\n",
       "      <td>Aéreo</td>\n",
       "      <td>Brasil</td>\n",
       "      <td>Rio de Janeiro</td>\n",
       "      <td>Rio de Janeiro</td>\n",
       "      <td>Brasil</td>\n",
       "      <td>Distrito Federal</td>\n",
       "      <td>Brasília</td>\n",
       "      <td>602.47</td>\n",
       "    </tr>\n",
       "    <tr>\n",
       "      <td>2</td>\n",
       "      <td>Aéreo</td>\n",
       "      <td>Brasil</td>\n",
       "      <td>Rio de Janeiro</td>\n",
       "      <td>Rio de Janeiro</td>\n",
       "      <td>Brasil</td>\n",
       "      <td>São Paulo</td>\n",
       "      <td>Presidente Prudente</td>\n",
       "      <td>941.47</td>\n",
       "    </tr>\n",
       "    <tr>\n",
       "      <td>3</td>\n",
       "      <td>Aéreo</td>\n",
       "      <td>Brasil</td>\n",
       "      <td>São Paulo</td>\n",
       "      <td>Presidente Prudente</td>\n",
       "      <td>Brasil</td>\n",
       "      <td>Rio de Janeiro</td>\n",
       "      <td>Rio de Janeiro</td>\n",
       "      <td>980.94</td>\n",
       "    </tr>\n",
       "    <tr>\n",
       "      <td>4</td>\n",
       "      <td>Aéreo</td>\n",
       "      <td>Brasil</td>\n",
       "      <td>Pará</td>\n",
       "      <td>Belém</td>\n",
       "      <td>Brasil</td>\n",
       "      <td>Distrito Federal</td>\n",
       "      <td>Brasília</td>\n",
       "      <td>885.57</td>\n",
       "    </tr>\n",
       "  </tbody>\n",
       "</table>\n",
       "</div>"
      ],
      "text/plain": [
       "  MeanOfTransportOneWay CountryOriginOneWay DistrictOriginOneWay  \\\n",
       "0                 Aéreo              Brasil     Distrito Federal   \n",
       "1                 Aéreo              Brasil       Rio de Janeiro   \n",
       "2                 Aéreo              Brasil       Rio de Janeiro   \n",
       "3                 Aéreo              Brasil            São Paulo   \n",
       "4                 Aéreo              Brasil                 Pará   \n",
       "\n",
       "      CityOriginOneWay CountryDestinyOneWay DistrictDestinyOneWay  \\\n",
       "0             Brasília               Brasil        Rio de Janeiro   \n",
       "1       Rio de Janeiro               Brasil      Distrito Federal   \n",
       "2       Rio de Janeiro               Brasil             São Paulo   \n",
       "3  Presidente Prudente               Brasil        Rio de Janeiro   \n",
       "4                Belém               Brasil      Distrito Federal   \n",
       "\n",
       "     CityDestinyOneWay  ValueOfTicket  \n",
       "0       Rio de Janeiro         570.45  \n",
       "1             Brasília         602.47  \n",
       "2  Presidente Prudente         941.47  \n",
       "3       Rio de Janeiro         980.94  \n",
       "4             Brasília         885.57  "
      ]
     },
     "execution_count": 18,
     "metadata": {},
     "output_type": "execute_result"
    }
   ],
   "source": [
    "passages_df.head()"
   ]
  },
  {
   "cell_type": "code",
   "execution_count": 20,
   "metadata": {},
   "outputs": [
    {
     "data": {
      "text/html": [
       "<div>\n",
       "<style scoped>\n",
       "    .dataframe tbody tr th:only-of-type {\n",
       "        vertical-align: middle;\n",
       "    }\n",
       "\n",
       "    .dataframe tbody tr th {\n",
       "        vertical-align: top;\n",
       "    }\n",
       "\n",
       "    .dataframe thead th {\n",
       "        text-align: right;\n",
       "    }\n",
       "</style>\n",
       "<table border=\"1\" class=\"dataframe\">\n",
       "  <thead>\n",
       "    <tr style=\"text-align: right;\">\n",
       "      <th></th>\n",
       "      <th>ValueOfTicket</th>\n",
       "    </tr>\n",
       "    <tr>\n",
       "      <th>MeanOfTransportOneWay</th>\n",
       "      <th></th>\n",
       "    </tr>\n",
       "  </thead>\n",
       "  <tbody>\n",
       "    <tr>\n",
       "      <td>Aéreo</td>\n",
       "      <td>4.667764e+08</td>\n",
       "    </tr>\n",
       "    <tr>\n",
       "      <td>Ferroviário</td>\n",
       "      <td>1.395774e+04</td>\n",
       "    </tr>\n",
       "    <tr>\n",
       "      <td>Fluvial</td>\n",
       "      <td>6.830186e+05</td>\n",
       "    </tr>\n",
       "    <tr>\n",
       "      <td>Marítimo</td>\n",
       "      <td>1.590000e+03</td>\n",
       "    </tr>\n",
       "    <tr>\n",
       "      <td>Rodoviário</td>\n",
       "      <td>3.626443e+06</td>\n",
       "    </tr>\n",
       "    <tr>\n",
       "      <td>Veículo Oficial</td>\n",
       "      <td>3.462440e+03</td>\n",
       "    </tr>\n",
       "    <tr>\n",
       "      <td>Veículo Próprio</td>\n",
       "      <td>1.330740e+03</td>\n",
       "    </tr>\n",
       "  </tbody>\n",
       "</table>\n",
       "</div>"
      ],
      "text/plain": [
       "                       ValueOfTicket\n",
       "MeanOfTransportOneWay               \n",
       "Aéreo                   4.667764e+08\n",
       "Ferroviário             1.395774e+04\n",
       "Fluvial                 6.830186e+05\n",
       "Marítimo                1.590000e+03\n",
       "Rodoviário              3.626443e+06\n",
       "Veículo Oficial         3.462440e+03\n",
       "Veículo Próprio         1.330740e+03"
      ]
     },
     "execution_count": 20,
     "metadata": {},
     "output_type": "execute_result"
    }
   ],
   "source": [
    "passages_df.groupby(['MeanOfTransportOneWay']).sum()"
   ]
  },
  {
   "cell_type": "code",
   "execution_count": 29,
   "metadata": {},
   "outputs": [
    {
     "data": {
      "application/vnd.plotly.v1+json": {
       "config": {
        "linkText": "Export to plot.ly",
        "plotlyServerURL": "https://plot.ly",
        "showLink": false
       },
       "data": [
        {
         "name": "Aéreo",
         "type": "bar",
         "x": [
          "Aéreo"
         ],
         "y": [
          466776388.81044257
         ]
        },
        {
         "name": "Rodoviário",
         "type": "bar",
         "x": [
          "Rodoviário"
         ],
         "y": [
          3626442.54999964
         ]
        },
        {
         "name": "Fluvial",
         "type": "bar",
         "x": [
          "Fluvial"
         ],
         "y": [
          683018.609999998
         ]
        },
        {
         "name": "Ferroviário",
         "type": "bar",
         "x": [
          "Ferroviário"
         ],
         "y": [
          13957.739999999998
         ]
        },
        {
         "name": "Veículo Oficial",
         "type": "bar",
         "x": [
          "Veículo Oficial"
         ],
         "y": [
          3462.4399999999996
         ]
        },
        {
         "name": "Marítimo",
         "type": "bar",
         "x": [
          "Marítimo"
         ],
         "y": [
          1590
         ]
        },
        {
         "name": "Veículo Próprio",
         "type": "bar",
         "x": [
          "Veículo Próprio"
         ],
         "y": [
          1330.74
         ]
        }
       ],
       "layout": {
        "barmode": "group",
        "template": {
         "data": {
          "bar": [
           {
            "error_x": {
             "color": "#2a3f5f"
            },
            "error_y": {
             "color": "#2a3f5f"
            },
            "marker": {
             "line": {
              "color": "#E5ECF6",
              "width": 0.5
             }
            },
            "type": "bar"
           }
          ],
          "barpolar": [
           {
            "marker": {
             "line": {
              "color": "#E5ECF6",
              "width": 0.5
             }
            },
            "type": "barpolar"
           }
          ],
          "carpet": [
           {
            "aaxis": {
             "endlinecolor": "#2a3f5f",
             "gridcolor": "white",
             "linecolor": "white",
             "minorgridcolor": "white",
             "startlinecolor": "#2a3f5f"
            },
            "baxis": {
             "endlinecolor": "#2a3f5f",
             "gridcolor": "white",
             "linecolor": "white",
             "minorgridcolor": "white",
             "startlinecolor": "#2a3f5f"
            },
            "type": "carpet"
           }
          ],
          "choropleth": [
           {
            "colorbar": {
             "outlinewidth": 0,
             "ticks": ""
            },
            "type": "choropleth"
           }
          ],
          "contour": [
           {
            "colorbar": {
             "outlinewidth": 0,
             "ticks": ""
            },
            "colorscale": [
             [
              0,
              "#0d0887"
             ],
             [
              0.1111111111111111,
              "#46039f"
             ],
             [
              0.2222222222222222,
              "#7201a8"
             ],
             [
              0.3333333333333333,
              "#9c179e"
             ],
             [
              0.4444444444444444,
              "#bd3786"
             ],
             [
              0.5555555555555556,
              "#d8576b"
             ],
             [
              0.6666666666666666,
              "#ed7953"
             ],
             [
              0.7777777777777778,
              "#fb9f3a"
             ],
             [
              0.8888888888888888,
              "#fdca26"
             ],
             [
              1,
              "#f0f921"
             ]
            ],
            "type": "contour"
           }
          ],
          "contourcarpet": [
           {
            "colorbar": {
             "outlinewidth": 0,
             "ticks": ""
            },
            "type": "contourcarpet"
           }
          ],
          "heatmap": [
           {
            "colorbar": {
             "outlinewidth": 0,
             "ticks": ""
            },
            "colorscale": [
             [
              0,
              "#0d0887"
             ],
             [
              0.1111111111111111,
              "#46039f"
             ],
             [
              0.2222222222222222,
              "#7201a8"
             ],
             [
              0.3333333333333333,
              "#9c179e"
             ],
             [
              0.4444444444444444,
              "#bd3786"
             ],
             [
              0.5555555555555556,
              "#d8576b"
             ],
             [
              0.6666666666666666,
              "#ed7953"
             ],
             [
              0.7777777777777778,
              "#fb9f3a"
             ],
             [
              0.8888888888888888,
              "#fdca26"
             ],
             [
              1,
              "#f0f921"
             ]
            ],
            "type": "heatmap"
           }
          ],
          "heatmapgl": [
           {
            "colorbar": {
             "outlinewidth": 0,
             "ticks": ""
            },
            "colorscale": [
             [
              0,
              "#0d0887"
             ],
             [
              0.1111111111111111,
              "#46039f"
             ],
             [
              0.2222222222222222,
              "#7201a8"
             ],
             [
              0.3333333333333333,
              "#9c179e"
             ],
             [
              0.4444444444444444,
              "#bd3786"
             ],
             [
              0.5555555555555556,
              "#d8576b"
             ],
             [
              0.6666666666666666,
              "#ed7953"
             ],
             [
              0.7777777777777778,
              "#fb9f3a"
             ],
             [
              0.8888888888888888,
              "#fdca26"
             ],
             [
              1,
              "#f0f921"
             ]
            ],
            "type": "heatmapgl"
           }
          ],
          "histogram": [
           {
            "marker": {
             "colorbar": {
              "outlinewidth": 0,
              "ticks": ""
             }
            },
            "type": "histogram"
           }
          ],
          "histogram2d": [
           {
            "colorbar": {
             "outlinewidth": 0,
             "ticks": ""
            },
            "colorscale": [
             [
              0,
              "#0d0887"
             ],
             [
              0.1111111111111111,
              "#46039f"
             ],
             [
              0.2222222222222222,
              "#7201a8"
             ],
             [
              0.3333333333333333,
              "#9c179e"
             ],
             [
              0.4444444444444444,
              "#bd3786"
             ],
             [
              0.5555555555555556,
              "#d8576b"
             ],
             [
              0.6666666666666666,
              "#ed7953"
             ],
             [
              0.7777777777777778,
              "#fb9f3a"
             ],
             [
              0.8888888888888888,
              "#fdca26"
             ],
             [
              1,
              "#f0f921"
             ]
            ],
            "type": "histogram2d"
           }
          ],
          "histogram2dcontour": [
           {
            "colorbar": {
             "outlinewidth": 0,
             "ticks": ""
            },
            "colorscale": [
             [
              0,
              "#0d0887"
             ],
             [
              0.1111111111111111,
              "#46039f"
             ],
             [
              0.2222222222222222,
              "#7201a8"
             ],
             [
              0.3333333333333333,
              "#9c179e"
             ],
             [
              0.4444444444444444,
              "#bd3786"
             ],
             [
              0.5555555555555556,
              "#d8576b"
             ],
             [
              0.6666666666666666,
              "#ed7953"
             ],
             [
              0.7777777777777778,
              "#fb9f3a"
             ],
             [
              0.8888888888888888,
              "#fdca26"
             ],
             [
              1,
              "#f0f921"
             ]
            ],
            "type": "histogram2dcontour"
           }
          ],
          "mesh3d": [
           {
            "colorbar": {
             "outlinewidth": 0,
             "ticks": ""
            },
            "type": "mesh3d"
           }
          ],
          "parcoords": [
           {
            "line": {
             "colorbar": {
              "outlinewidth": 0,
              "ticks": ""
             }
            },
            "type": "parcoords"
           }
          ],
          "scatter": [
           {
            "marker": {
             "colorbar": {
              "outlinewidth": 0,
              "ticks": ""
             }
            },
            "type": "scatter"
           }
          ],
          "scatter3d": [
           {
            "line": {
             "colorbar": {
              "outlinewidth": 0,
              "ticks": ""
             }
            },
            "marker": {
             "colorbar": {
              "outlinewidth": 0,
              "ticks": ""
             }
            },
            "type": "scatter3d"
           }
          ],
          "scattercarpet": [
           {
            "marker": {
             "colorbar": {
              "outlinewidth": 0,
              "ticks": ""
             }
            },
            "type": "scattercarpet"
           }
          ],
          "scattergeo": [
           {
            "marker": {
             "colorbar": {
              "outlinewidth": 0,
              "ticks": ""
             }
            },
            "type": "scattergeo"
           }
          ],
          "scattergl": [
           {
            "marker": {
             "colorbar": {
              "outlinewidth": 0,
              "ticks": ""
             }
            },
            "type": "scattergl"
           }
          ],
          "scattermapbox": [
           {
            "marker": {
             "colorbar": {
              "outlinewidth": 0,
              "ticks": ""
             }
            },
            "type": "scattermapbox"
           }
          ],
          "scatterpolar": [
           {
            "marker": {
             "colorbar": {
              "outlinewidth": 0,
              "ticks": ""
             }
            },
            "type": "scatterpolar"
           }
          ],
          "scatterpolargl": [
           {
            "marker": {
             "colorbar": {
              "outlinewidth": 0,
              "ticks": ""
             }
            },
            "type": "scatterpolargl"
           }
          ],
          "scatterternary": [
           {
            "marker": {
             "colorbar": {
              "outlinewidth": 0,
              "ticks": ""
             }
            },
            "type": "scatterternary"
           }
          ],
          "surface": [
           {
            "colorbar": {
             "outlinewidth": 0,
             "ticks": ""
            },
            "colorscale": [
             [
              0,
              "#0d0887"
             ],
             [
              0.1111111111111111,
              "#46039f"
             ],
             [
              0.2222222222222222,
              "#7201a8"
             ],
             [
              0.3333333333333333,
              "#9c179e"
             ],
             [
              0.4444444444444444,
              "#bd3786"
             ],
             [
              0.5555555555555556,
              "#d8576b"
             ],
             [
              0.6666666666666666,
              "#ed7953"
             ],
             [
              0.7777777777777778,
              "#fb9f3a"
             ],
             [
              0.8888888888888888,
              "#fdca26"
             ],
             [
              1,
              "#f0f921"
             ]
            ],
            "type": "surface"
           }
          ],
          "table": [
           {
            "cells": {
             "fill": {
              "color": "#EBF0F8"
             },
             "line": {
              "color": "white"
             }
            },
            "header": {
             "fill": {
              "color": "#C8D4E3"
             },
             "line": {
              "color": "white"
             }
            },
            "type": "table"
           }
          ]
         },
         "layout": {
          "annotationdefaults": {
           "arrowcolor": "#2a3f5f",
           "arrowhead": 0,
           "arrowwidth": 1
          },
          "colorscale": {
           "diverging": [
            [
             0,
             "#8e0152"
            ],
            [
             0.1,
             "#c51b7d"
            ],
            [
             0.2,
             "#de77ae"
            ],
            [
             0.3,
             "#f1b6da"
            ],
            [
             0.4,
             "#fde0ef"
            ],
            [
             0.5,
             "#f7f7f7"
            ],
            [
             0.6,
             "#e6f5d0"
            ],
            [
             0.7,
             "#b8e186"
            ],
            [
             0.8,
             "#7fbc41"
            ],
            [
             0.9,
             "#4d9221"
            ],
            [
             1,
             "#276419"
            ]
           ],
           "sequential": [
            [
             0,
             "#0d0887"
            ],
            [
             0.1111111111111111,
             "#46039f"
            ],
            [
             0.2222222222222222,
             "#7201a8"
            ],
            [
             0.3333333333333333,
             "#9c179e"
            ],
            [
             0.4444444444444444,
             "#bd3786"
            ],
            [
             0.5555555555555556,
             "#d8576b"
            ],
            [
             0.6666666666666666,
             "#ed7953"
            ],
            [
             0.7777777777777778,
             "#fb9f3a"
            ],
            [
             0.8888888888888888,
             "#fdca26"
            ],
            [
             1,
             "#f0f921"
            ]
           ],
           "sequentialminus": [
            [
             0,
             "#0d0887"
            ],
            [
             0.1111111111111111,
             "#46039f"
            ],
            [
             0.2222222222222222,
             "#7201a8"
            ],
            [
             0.3333333333333333,
             "#9c179e"
            ],
            [
             0.4444444444444444,
             "#bd3786"
            ],
            [
             0.5555555555555556,
             "#d8576b"
            ],
            [
             0.6666666666666666,
             "#ed7953"
            ],
            [
             0.7777777777777778,
             "#fb9f3a"
            ],
            [
             0.8888888888888888,
             "#fdca26"
            ],
            [
             1,
             "#f0f921"
            ]
           ]
          },
          "colorway": [
           "#636efa",
           "#EF553B",
           "#00cc96",
           "#ab63fa",
           "#FFA15A",
           "#19d3f3",
           "#FF6692",
           "#B6E880",
           "#FF97FF",
           "#FECB52"
          ],
          "font": {
           "color": "#2a3f5f"
          },
          "geo": {
           "bgcolor": "white",
           "lakecolor": "white",
           "landcolor": "#E5ECF6",
           "showlakes": true,
           "showland": true,
           "subunitcolor": "white"
          },
          "hoverlabel": {
           "align": "left"
          },
          "hovermode": "closest",
          "mapbox": {
           "style": "light"
          },
          "paper_bgcolor": "white",
          "plot_bgcolor": "#E5ECF6",
          "polar": {
           "angularaxis": {
            "gridcolor": "white",
            "linecolor": "white",
            "ticks": ""
           },
           "bgcolor": "#E5ECF6",
           "radialaxis": {
            "gridcolor": "white",
            "linecolor": "white",
            "ticks": ""
           }
          },
          "scene": {
           "xaxis": {
            "backgroundcolor": "#E5ECF6",
            "gridcolor": "white",
            "gridwidth": 2,
            "linecolor": "white",
            "showbackground": true,
            "ticks": "",
            "zerolinecolor": "white"
           },
           "yaxis": {
            "backgroundcolor": "#E5ECF6",
            "gridcolor": "white",
            "gridwidth": 2,
            "linecolor": "white",
            "showbackground": true,
            "ticks": "",
            "zerolinecolor": "white"
           },
           "zaxis": {
            "backgroundcolor": "#E5ECF6",
            "gridcolor": "white",
            "gridwidth": 2,
            "linecolor": "white",
            "showbackground": true,
            "ticks": "",
            "zerolinecolor": "white"
           }
          },
          "shapedefaults": {
           "line": {
            "color": "#2a3f5f"
           }
          },
          "ternary": {
           "aaxis": {
            "gridcolor": "white",
            "linecolor": "white",
            "ticks": ""
           },
           "baxis": {
            "gridcolor": "white",
            "linecolor": "white",
            "ticks": ""
           },
           "bgcolor": "#E5ECF6",
           "caxis": {
            "gridcolor": "white",
            "linecolor": "white",
            "ticks": ""
           }
          },
          "title": {
           "x": 0.05
          },
          "xaxis": {
           "automargin": true,
           "gridcolor": "white",
           "linecolor": "white",
           "ticks": "",
           "zerolinecolor": "white",
           "zerolinewidth": 2
          },
          "yaxis": {
           "automargin": true,
           "gridcolor": "white",
           "linecolor": "white",
           "ticks": "",
           "zerolinecolor": "white",
           "zerolinewidth": 2
          }
         }
        },
        "title": {
         "text": "Costs with travels in 2014"
        }
       }
      },
      "text/html": [
       "<div>\n",
       "        \n",
       "        \n",
       "            <div id=\"b9560a74-b684-4614-b1ff-40279361bdbd\" class=\"plotly-graph-div\" style=\"height:525px; width:100%;\"></div>\n",
       "            <script type=\"text/javascript\">\n",
       "                require([\"plotly\"], function(Plotly) {\n",
       "                    window.PLOTLYENV=window.PLOTLYENV || {};\n",
       "                    \n",
       "                if (document.getElementById(\"b9560a74-b684-4614-b1ff-40279361bdbd\")) {\n",
       "                    Plotly.newPlot(\n",
       "                        'b9560a74-b684-4614-b1ff-40279361bdbd',\n",
       "                        [{\"name\": \"A\\u00e9reo\", \"type\": \"bar\", \"x\": [\"A\\u00e9reo\"], \"y\": [466776388.81044257]}, {\"name\": \"Rodovi\\u00e1rio\", \"type\": \"bar\", \"x\": [\"Rodovi\\u00e1rio\"], \"y\": [3626442.54999964]}, {\"name\": \"Fluvial\", \"type\": \"bar\", \"x\": [\"Fluvial\"], \"y\": [683018.609999998]}, {\"name\": \"Ferrovi\\u00e1rio\", \"type\": \"bar\", \"x\": [\"Ferrovi\\u00e1rio\"], \"y\": [13957.739999999998]}, {\"name\": \"Ve\\u00edculo Oficial\", \"type\": \"bar\", \"x\": [\"Ve\\u00edculo Oficial\"], \"y\": [3462.4399999999996]}, {\"name\": \"Mar\\u00edtimo\", \"type\": \"bar\", \"x\": [\"Mar\\u00edtimo\"], \"y\": [1590.0]}, {\"name\": \"Ve\\u00edculo Pr\\u00f3prio\", \"type\": \"bar\", \"x\": [\"Ve\\u00edculo Pr\\u00f3prio\"], \"y\": [1330.74]}],\n",
       "                        {\"barmode\": \"group\", \"template\": {\"data\": {\"bar\": [{\"error_x\": {\"color\": \"#2a3f5f\"}, \"error_y\": {\"color\": \"#2a3f5f\"}, \"marker\": {\"line\": {\"color\": \"#E5ECF6\", \"width\": 0.5}}, \"type\": \"bar\"}], \"barpolar\": [{\"marker\": {\"line\": {\"color\": \"#E5ECF6\", \"width\": 0.5}}, \"type\": \"barpolar\"}], \"carpet\": [{\"aaxis\": {\"endlinecolor\": \"#2a3f5f\", \"gridcolor\": \"white\", \"linecolor\": \"white\", \"minorgridcolor\": \"white\", \"startlinecolor\": \"#2a3f5f\"}, \"baxis\": {\"endlinecolor\": \"#2a3f5f\", \"gridcolor\": \"white\", \"linecolor\": \"white\", \"minorgridcolor\": \"white\", \"startlinecolor\": \"#2a3f5f\"}, \"type\": \"carpet\"}], \"choropleth\": [{\"colorbar\": {\"outlinewidth\": 0, \"ticks\": \"\"}, \"type\": \"choropleth\"}], \"contour\": [{\"colorbar\": {\"outlinewidth\": 0, \"ticks\": \"\"}, \"colorscale\": [[0.0, \"#0d0887\"], [0.1111111111111111, \"#46039f\"], [0.2222222222222222, \"#7201a8\"], [0.3333333333333333, \"#9c179e\"], [0.4444444444444444, \"#bd3786\"], [0.5555555555555556, \"#d8576b\"], [0.6666666666666666, \"#ed7953\"], [0.7777777777777778, \"#fb9f3a\"], [0.8888888888888888, \"#fdca26\"], [1.0, \"#f0f921\"]], \"type\": \"contour\"}], \"contourcarpet\": [{\"colorbar\": {\"outlinewidth\": 0, \"ticks\": \"\"}, \"type\": \"contourcarpet\"}], \"heatmap\": [{\"colorbar\": {\"outlinewidth\": 0, \"ticks\": \"\"}, \"colorscale\": [[0.0, \"#0d0887\"], [0.1111111111111111, \"#46039f\"], [0.2222222222222222, \"#7201a8\"], [0.3333333333333333, \"#9c179e\"], [0.4444444444444444, \"#bd3786\"], [0.5555555555555556, \"#d8576b\"], [0.6666666666666666, \"#ed7953\"], [0.7777777777777778, \"#fb9f3a\"], [0.8888888888888888, \"#fdca26\"], [1.0, \"#f0f921\"]], \"type\": \"heatmap\"}], \"heatmapgl\": [{\"colorbar\": {\"outlinewidth\": 0, \"ticks\": \"\"}, \"colorscale\": [[0.0, \"#0d0887\"], [0.1111111111111111, \"#46039f\"], [0.2222222222222222, \"#7201a8\"], [0.3333333333333333, \"#9c179e\"], [0.4444444444444444, \"#bd3786\"], [0.5555555555555556, \"#d8576b\"], [0.6666666666666666, \"#ed7953\"], [0.7777777777777778, \"#fb9f3a\"], [0.8888888888888888, \"#fdca26\"], [1.0, \"#f0f921\"]], \"type\": \"heatmapgl\"}], \"histogram\": [{\"marker\": {\"colorbar\": {\"outlinewidth\": 0, \"ticks\": \"\"}}, \"type\": \"histogram\"}], \"histogram2d\": [{\"colorbar\": {\"outlinewidth\": 0, \"ticks\": \"\"}, \"colorscale\": [[0.0, \"#0d0887\"], [0.1111111111111111, \"#46039f\"], [0.2222222222222222, \"#7201a8\"], [0.3333333333333333, \"#9c179e\"], [0.4444444444444444, \"#bd3786\"], [0.5555555555555556, \"#d8576b\"], [0.6666666666666666, \"#ed7953\"], [0.7777777777777778, \"#fb9f3a\"], [0.8888888888888888, \"#fdca26\"], [1.0, \"#f0f921\"]], \"type\": \"histogram2d\"}], \"histogram2dcontour\": [{\"colorbar\": {\"outlinewidth\": 0, \"ticks\": \"\"}, \"colorscale\": [[0.0, \"#0d0887\"], [0.1111111111111111, \"#46039f\"], [0.2222222222222222, \"#7201a8\"], [0.3333333333333333, \"#9c179e\"], [0.4444444444444444, \"#bd3786\"], [0.5555555555555556, \"#d8576b\"], [0.6666666666666666, \"#ed7953\"], [0.7777777777777778, \"#fb9f3a\"], [0.8888888888888888, \"#fdca26\"], [1.0, \"#f0f921\"]], \"type\": \"histogram2dcontour\"}], \"mesh3d\": [{\"colorbar\": {\"outlinewidth\": 0, \"ticks\": \"\"}, \"type\": \"mesh3d\"}], \"parcoords\": [{\"line\": {\"colorbar\": {\"outlinewidth\": 0, \"ticks\": \"\"}}, \"type\": \"parcoords\"}], \"scatter\": [{\"marker\": {\"colorbar\": {\"outlinewidth\": 0, \"ticks\": \"\"}}, \"type\": \"scatter\"}], \"scatter3d\": [{\"line\": {\"colorbar\": {\"outlinewidth\": 0, \"ticks\": \"\"}}, \"marker\": {\"colorbar\": {\"outlinewidth\": 0, \"ticks\": \"\"}}, \"type\": \"scatter3d\"}], \"scattercarpet\": [{\"marker\": {\"colorbar\": {\"outlinewidth\": 0, \"ticks\": \"\"}}, \"type\": \"scattercarpet\"}], \"scattergeo\": [{\"marker\": {\"colorbar\": {\"outlinewidth\": 0, \"ticks\": \"\"}}, \"type\": \"scattergeo\"}], \"scattergl\": [{\"marker\": {\"colorbar\": {\"outlinewidth\": 0, \"ticks\": \"\"}}, \"type\": \"scattergl\"}], \"scattermapbox\": [{\"marker\": {\"colorbar\": {\"outlinewidth\": 0, \"ticks\": \"\"}}, \"type\": \"scattermapbox\"}], \"scatterpolar\": [{\"marker\": {\"colorbar\": {\"outlinewidth\": 0, \"ticks\": \"\"}}, \"type\": \"scatterpolar\"}], \"scatterpolargl\": [{\"marker\": {\"colorbar\": {\"outlinewidth\": 0, \"ticks\": \"\"}}, \"type\": \"scatterpolargl\"}], \"scatterternary\": [{\"marker\": {\"colorbar\": {\"outlinewidth\": 0, \"ticks\": \"\"}}, \"type\": \"scatterternary\"}], \"surface\": [{\"colorbar\": {\"outlinewidth\": 0, \"ticks\": \"\"}, \"colorscale\": [[0.0, \"#0d0887\"], [0.1111111111111111, \"#46039f\"], [0.2222222222222222, \"#7201a8\"], [0.3333333333333333, \"#9c179e\"], [0.4444444444444444, \"#bd3786\"], [0.5555555555555556, \"#d8576b\"], [0.6666666666666666, \"#ed7953\"], [0.7777777777777778, \"#fb9f3a\"], [0.8888888888888888, \"#fdca26\"], [1.0, \"#f0f921\"]], \"type\": \"surface\"}], \"table\": [{\"cells\": {\"fill\": {\"color\": \"#EBF0F8\"}, \"line\": {\"color\": \"white\"}}, \"header\": {\"fill\": {\"color\": \"#C8D4E3\"}, \"line\": {\"color\": \"white\"}}, \"type\": \"table\"}]}, \"layout\": {\"annotationdefaults\": {\"arrowcolor\": \"#2a3f5f\", \"arrowhead\": 0, \"arrowwidth\": 1}, \"colorscale\": {\"diverging\": [[0, \"#8e0152\"], [0.1, \"#c51b7d\"], [0.2, \"#de77ae\"], [0.3, \"#f1b6da\"], [0.4, \"#fde0ef\"], [0.5, \"#f7f7f7\"], [0.6, \"#e6f5d0\"], [0.7, \"#b8e186\"], [0.8, \"#7fbc41\"], [0.9, \"#4d9221\"], [1, \"#276419\"]], \"sequential\": [[0.0, \"#0d0887\"], [0.1111111111111111, \"#46039f\"], [0.2222222222222222, \"#7201a8\"], [0.3333333333333333, \"#9c179e\"], [0.4444444444444444, \"#bd3786\"], [0.5555555555555556, \"#d8576b\"], [0.6666666666666666, \"#ed7953\"], [0.7777777777777778, \"#fb9f3a\"], [0.8888888888888888, \"#fdca26\"], [1.0, \"#f0f921\"]], \"sequentialminus\": [[0.0, \"#0d0887\"], [0.1111111111111111, \"#46039f\"], [0.2222222222222222, \"#7201a8\"], [0.3333333333333333, \"#9c179e\"], [0.4444444444444444, \"#bd3786\"], [0.5555555555555556, \"#d8576b\"], [0.6666666666666666, \"#ed7953\"], [0.7777777777777778, \"#fb9f3a\"], [0.8888888888888888, \"#fdca26\"], [1.0, \"#f0f921\"]]}, \"colorway\": [\"#636efa\", \"#EF553B\", \"#00cc96\", \"#ab63fa\", \"#FFA15A\", \"#19d3f3\", \"#FF6692\", \"#B6E880\", \"#FF97FF\", \"#FECB52\"], \"font\": {\"color\": \"#2a3f5f\"}, \"geo\": {\"bgcolor\": \"white\", \"lakecolor\": \"white\", \"landcolor\": \"#E5ECF6\", \"showlakes\": true, \"showland\": true, \"subunitcolor\": \"white\"}, \"hoverlabel\": {\"align\": \"left\"}, \"hovermode\": \"closest\", \"mapbox\": {\"style\": \"light\"}, \"paper_bgcolor\": \"white\", \"plot_bgcolor\": \"#E5ECF6\", \"polar\": {\"angularaxis\": {\"gridcolor\": \"white\", \"linecolor\": \"white\", \"ticks\": \"\"}, \"bgcolor\": \"#E5ECF6\", \"radialaxis\": {\"gridcolor\": \"white\", \"linecolor\": \"white\", \"ticks\": \"\"}}, \"scene\": {\"xaxis\": {\"backgroundcolor\": \"#E5ECF6\", \"gridcolor\": \"white\", \"gridwidth\": 2, \"linecolor\": \"white\", \"showbackground\": true, \"ticks\": \"\", \"zerolinecolor\": \"white\"}, \"yaxis\": {\"backgroundcolor\": \"#E5ECF6\", \"gridcolor\": \"white\", \"gridwidth\": 2, \"linecolor\": \"white\", \"showbackground\": true, \"ticks\": \"\", \"zerolinecolor\": \"white\"}, \"zaxis\": {\"backgroundcolor\": \"#E5ECF6\", \"gridcolor\": \"white\", \"gridwidth\": 2, \"linecolor\": \"white\", \"showbackground\": true, \"ticks\": \"\", \"zerolinecolor\": \"white\"}}, \"shapedefaults\": {\"line\": {\"color\": \"#2a3f5f\"}}, \"ternary\": {\"aaxis\": {\"gridcolor\": \"white\", \"linecolor\": \"white\", \"ticks\": \"\"}, \"baxis\": {\"gridcolor\": \"white\", \"linecolor\": \"white\", \"ticks\": \"\"}, \"bgcolor\": \"#E5ECF6\", \"caxis\": {\"gridcolor\": \"white\", \"linecolor\": \"white\", \"ticks\": \"\"}}, \"title\": {\"x\": 0.05}, \"xaxis\": {\"automargin\": true, \"gridcolor\": \"white\", \"linecolor\": \"white\", \"ticks\": \"\", \"zerolinecolor\": \"white\", \"zerolinewidth\": 2}, \"yaxis\": {\"automargin\": true, \"gridcolor\": \"white\", \"linecolor\": \"white\", \"ticks\": \"\", \"zerolinecolor\": \"white\", \"zerolinewidth\": 2}}}, \"title\": {\"text\": \"Costs with travels in 2014\"}},\n",
       "                        {\"responsive\": true}\n",
       "                    ).then(function(){\n",
       "                            \n",
       "var gd = document.getElementById('b9560a74-b684-4614-b1ff-40279361bdbd');\n",
       "var x = new MutationObserver(function (mutations, observer) {{\n",
       "        var display = window.getComputedStyle(gd).display;\n",
       "        if (!display || display === 'none') {{\n",
       "            console.log([gd, 'removed!']);\n",
       "            Plotly.purge(gd);\n",
       "            observer.disconnect();\n",
       "        }}\n",
       "}});\n",
       "\n",
       "// Listen for the removal of the full notebook cells\n",
       "var notebookContainer = gd.closest('#notebook-container');\n",
       "if (notebookContainer) {{\n",
       "    x.observe(notebookContainer, {childList: true});\n",
       "}}\n",
       "\n",
       "// Listen for the clearing of the current output cell\n",
       "var outputEl = gd.closest('.output');\n",
       "if (outputEl) {{\n",
       "    x.observe(outputEl, {childList: true});\n",
       "}}\n",
       "\n",
       "                        })\n",
       "                };\n",
       "                });\n",
       "            </script>\n",
       "        </div>"
      ]
     },
     "metadata": {},
     "output_type": "display_data"
    }
   ],
   "source": [
    "bar_chart = pd.DataFrame(passages_df.groupby(['MeanOfTransportOneWay']).sum().reset_index())\n",
    "bar_chart.columns = ['MeanTransport', 'Total']\n",
    "bar_chart = bar_chart.sort_values(by='Total', ascending=False)\n",
    "data = []\n",
    "\n",
    "for item in list(bar_chart['MeanTransport'].unique()):\n",
    "    data.append(\n",
    "        go.Bar(\n",
    "            x = list(bar_chart[bar_chart['MeanTransport']==item]['MeanTransport']),\n",
    "            y = list(bar_chart[bar_chart['MeanTransport']==item]['Total']),\n",
    "            name= item\n",
    "        )  \n",
    "    )\n",
    "    \n",
    "layout = go.Layout(\n",
    "    barmode='group',\n",
    "    title = 'Costs with travels in 2014'\n",
    ")\n",
    "\n",
    "fig = go.Figure(data=data, layout=layout)\n",
    "pyo.iplot(fig)"
   ]
  },
  {
   "cell_type": "code",
   "execution_count": null,
   "metadata": {},
   "outputs": [],
   "source": [
    "dtypes(passages_df.ValueOfPassage)\n",
    "# passages_df.groupby(['MeanOfTransportOneWay']).sum()"
   ]
  },
  {
   "cell_type": "code",
   "execution_count": null,
   "metadata": {},
   "outputs": [],
   "source": [
    "# collecting info of pagamento.csv\n",
    "\n",
    "pd.read_csv(f'{current_path}/csv/2014_extract/2014_Pagamento.csv', sep=';', encoding = \"ISO-8859-1\").head()"
   ]
  },
  {
   "cell_type": "code",
   "execution_count": null,
   "metadata": {},
   "outputs": [],
   "source": [
    "pd.read_csv(f'{current_path}/csv/2014_extract/2014_Trecho.csv', sep=';', encoding = \"ISO-8859-1\").head()\n"
   ]
  },
  {
   "cell_type": "code",
   "execution_count": null,
   "metadata": {},
   "outputs": [],
   "source": [
    "passagem = pd.read_csv(f'{current_path}/csv/2014_extract/2014_Passagem.csv', sep=';', encoding = \"ISO-8859-1\")\n",
    "pagamento = pd.read_csv(f'{current_path}/csv/2014_extract/2014_Pagamento.csv', sep=';', encoding = \"ISO-8859-1\")\n",
    "trecho = pd.read_csv(f'{current_path}/csv/2014_extract/2014_Trecho.csv', sep=';', encoding = \"ISO-8859-1\")\n",
    "\n",
    "# firstly - get 'idenficador do processo de viagem' in trecho.cvs, and after search in passagem.csv and pagamento.csv\n",
    "# second - Use 'Origem Data' for compare the time\n",
    "# second - Compare 'Origem País', 'Origem UF' and 'Origem Cidade' to collect information for anothers csv\n",
    "trecho.head()\n",
    "# passagem[passagem['Identificador do processo de viagem'] == 10011602]"
   ]
  },
  {
   "cell_type": "code",
   "execution_count": null,
   "metadata": {
    "scrolled": false
   },
   "outputs": [],
   "source": [
    "pd.options.display.float_format = '${:,.2f}'.format\n",
    "tickets        = pd.read_csv(f'{current_path}/csv/2014_extract/2014_Passagem.csv', sep=';', encoding = \"ISO-8859-1\")\n",
    "format_tickets = []\n",
    "\n",
    "for ticket in tickets[\"Valor da passagem\"]:\n",
    "    format_tickets.append(pd.to_numeric(ticket.replace(\",\",\".\")))\n",
    "\n",
    "tickets[\"Valor da passagem\"] = format_tickets\n",
    "tickets.groupby(\"Meio de transporte\").sum()[\"Valor da passagem\"]\n"
   ]
  },
  {
   "cell_type": "code",
   "execution_count": null,
   "metadata": {},
   "outputs": [],
   "source": [
    "pd.options.display.float_format = '${:,.2f}'.format\n",
    "\n",
    "current_path   = os.getcwd()\n",
    "tickets        = pd.read_csv(f'{current_path}/csv/2014_extract/2014_Passagem.csv', sep=';', encoding = \"ISO-8859-1\")\n",
    "format_tickets = []\n",
    "\n",
    "for ticket in tickets[\"Valor da passagem\"]:\n",
    "    format_tickets.append(pd.to_numeric(ticket.replace(\",\",\".\")))\n",
    "\n",
    "tickets[\"Valor da passagem\"] = format_tickets\n",
    "tickets.groupby(\"UF - Origem ida\").sum()[\"Valor da passagem\"]"
   ]
  },
  {
   "cell_type": "code",
   "execution_count": null,
   "metadata": {},
   "outputs": [],
   "source": [
    "pd.options.display.float_format = '${:,.2f}'.format\n",
    "tickets        = pd.read_csv(f'{current_path}/csv/2014_extract/2014_Passagem.csv', sep=';', encoding = \"ISO-8859-1\")\n",
    "format_tickets = []\n",
    "\n",
    "for ticket in tickets[\"Valor da passagem\"]:\n",
    "    format_tickets.append(pd.to_numeric(ticket.replace(\",\",\".\")))\n",
    "\n",
    "tickets[\"Valor da passagem\"] = format_tickets\n",
    "tickets.groupby(\"UF - Destino ida\").sum()[\"Valor da passagem\"]"
   ]
  },
  {
   "cell_type": "code",
   "execution_count": null,
   "metadata": {},
   "outputs": [],
   "source": [
    "pd.options.display.float_format = '${:,.2f}'.format\n",
    "pagamento = pd.read_csv(f'{current_path}/csv/2014_extract/2014_Pagamento.csv', sep=';', encoding = \"ISO-8859-1\") \n",
    "pagamento.head()"
   ]
  },
  {
   "cell_type": "code",
   "execution_count": null,
   "metadata": {},
   "outputs": [],
   "source": [
    "pd.options.display.float_format = '${:,.2f}'.format\n",
    "payments        = pd.read_csv(f'{current_path}/csv/2014_extract/2014_Pagamento.csv', sep=';', encoding = \"ISO-8859-1\") \n",
    "format_payments = []\n",
    "\n",
    "for payment in payments[\"Valor\"]:\n",
    "    format_payments.append(pd.to_numeric(payment.replace(\",\",\".\")))\n",
    "\n",
    "payments[\"Valor\"] = format_payments\n",
    "payments.groupby(\"Nome do órgão superior\").sum()[\"Valor\"]"
   ]
  },
  {
   "cell_type": "code",
   "execution_count": null,
   "metadata": {},
   "outputs": [],
   "source": [
    "pd.options.display.float_format = '${:,.2f}'.format\n",
    "payments        = pd.read_csv(f'{current_path}/csv/2014_extract/2014_Pagamento.csv', sep=';', encoding = \"ISO-8859-1\") \n",
    "format_payments = []\n",
    "\n",
    "for payment in payments[\"Valor\"]:\n",
    "    format_payments.append(pd.to_numeric(payment.replace(\",\",\".\")))\n",
    "\n",
    "payments[\"Valor\"] = format_payments\n",
    "payments.groupby(\"Nome do órgao pagador\").sum()[\"Valor\"]"
   ]
  },
  {
   "cell_type": "code",
   "execution_count": null,
   "metadata": {},
   "outputs": [],
   "source": [
    "pd.options.display.float_format = '${:,.2f}'.format\n",
    "payments        = pd.read_csv(f'{current_path}/csv/2014_extract/2014_Pagamento.csv', sep=';', encoding = \"ISO-8859-1\") \n",
    "format_payments = []\n",
    "\n",
    "for payment in payments[\"Valor\"]:\n",
    "    format_payments.append(pd.to_numeric(payment.replace(\",\",\".\")))\n",
    "\n",
    "payments[\"Valor\"] = format_payments\n",
    "payments.groupby(\"Nome da unidade gestora pagadora\").sum()[\"Valor\"]"
   ]
  },
  {
   "cell_type": "code",
   "execution_count": null,
   "metadata": {},
   "outputs": [],
   "source": [
    "pd.options.display.float_format = '${:,.2f}'.format\n",
    "payments        = pd.read_csv(f'{current_path}/csv/2014_extract/2014_Pagamento.csv', sep=';', encoding = \"ISO-8859-1\") \n",
    "format_payments = []\n",
    "\n",
    "for payment in payments[\"Valor\"]:\n",
    "    format_payments.append(pd.to_numeric(payment.replace(\",\",\".\")))\n",
    "\n",
    "payments[\"Valor\"] = format_payments\n",
    "payments.groupby(\"Tipo de pagamento\").sum()[\"Valor\"]"
   ]
  },
  {
   "cell_type": "code",
   "execution_count": null,
   "metadata": {},
   "outputs": [],
   "source": [
    "pd.options.display.float_format = '${:,.2f}'.format\n",
    "payments        = pd.read_csv(f'{current_path}/csv/2014_extract/2014_Pagamento.csv', sep=';', encoding = \"ISO-8859-1\") \n",
    "format_payments = []\n",
    "\n",
    "for payment in payments[\"Valor\"]:\n",
    "    format_payments.append(pd.to_numeric(payment.replace(\",\",\".\")))\n",
    "\n",
    "payments[\"Valor\"] = format_payments\n",
    "payments.groupby(\"Tipo de pagamento\").std()[\"Valor\"]"
   ]
  }
 ],
 "metadata": {
  "kernelspec": {
   "display_name": "Python 3",
   "language": "python",
   "name": "python3"
  },
  "language_info": {
   "codemirror_mode": {
    "name": "ipython",
    "version": 3
   },
   "file_extension": ".py",
   "mimetype": "text/x-python",
   "name": "python",
   "nbconvert_exporter": "python",
   "pygments_lexer": "ipython3",
   "version": "3.6.8"
  }
 },
 "nbformat": 4,
 "nbformat_minor": 2
}
